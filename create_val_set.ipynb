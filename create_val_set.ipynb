{
 "cells": [
  {
   "cell_type": "code",
   "execution_count": 39,
   "metadata": {
    "collapsed": true
   },
   "outputs": [],
   "source": [
    "import pandas as pd\n",
    "import shutil\n",
    "import os\n",
    "import numpy as np\n",
    "import math\n",
    "import random\n",
    "\n",
    "imgs_list = pd.read_csv(\"data/driver_imgs_list.csv\")\n",
    "\n",
    "imgs_list['subject'].nunique()\n",
    "\n",
    "imgs_list['file_path'] = imgs_list.apply(lambda x: \"/\".join([x['classname'], x['img']]), axis=1)\n",
    "\n",
    "unique_subjects = imgs_list['subject'].unique().tolist()\n",
    "\n",
    "random.seed(2)\n",
    "random.shuffle(unique_subjects)\n",
    "\n",
    "pct_subj_val = .15\n",
    "pct_subj_trn = 1 - pct_subj_val\n",
    "\n",
    "num_subj = int(math.ceil(len(unique_subjects)*pct_subj_trn))\n",
    "\n",
    "train_subjects = unique_subjects[:num_subj]\n",
    "valid_subjects = unique_subjects[num_subj:]"
   ]
  },
  {
   "cell_type": "code",
   "execution_count": 40,
   "metadata": {},
   "outputs": [
    {
     "data": {
      "text/plain": [
       "['p024',\n",
       " 'p047',\n",
       " 'p041',\n",
       " 'p056',\n",
       " 'p042',\n",
       " 'p002',\n",
       " 'p066',\n",
       " 'p015',\n",
       " 'p016',\n",
       " 'p061',\n",
       " 'p050',\n",
       " 'p026',\n",
       " 'p064',\n",
       " 'p022',\n",
       " 'p014',\n",
       " 'p035',\n",
       " 'p051',\n",
       " 'p039',\n",
       " 'p021',\n",
       " 'p045',\n",
       " 'p049',\n",
       " 'p052',\n",
       " 'p081']"
      ]
     },
     "execution_count": 40,
     "metadata": {},
     "output_type": "execute_result"
    }
   ],
   "source": [
    "train_subjects"
   ]
  },
  {
   "cell_type": "code",
   "execution_count": 41,
   "metadata": {},
   "outputs": [
    {
     "data": {
      "text/plain": [
       "['p012', 'p072', 'p075']"
      ]
     },
     "execution_count": 41,
     "metadata": {},
     "output_type": "execute_result"
    }
   ],
   "source": [
    "valid_subjects"
   ]
  },
  {
   "cell_type": "code",
   "execution_count": 42,
   "metadata": {
    "collapsed": true
   },
   "outputs": [],
   "source": [
    "try:\n",
    "    os.mkdir(\"data/train\")\n",
    "except:\n",
    "    pass\n",
    "\n",
    "try:\n",
    "    os.mkdir(\"data/valid\")\n",
    "except:\n",
    "    pass\n",
    "\n",
    "for i in [\"c%s\" % i for i in range(10)]:\n",
    "    try:\n",
    "        os.mkdir(\"data/train/%s\" % i)\n",
    "    except:\n",
    "        pass\n",
    "    \n",
    "    try:\n",
    "        os.mkdir(\"data/valid/%s\" % i) \n",
    "    except:\n",
    "        pass\n",
    "\n",
    "# get the file path for each image in our designated train / validation sets\n",
    "train_imgs = list(imgs_list.loc[imgs_list['subject'].isin(train_subjects), 'file_path'])\n",
    "valid_imgs = list(imgs_list.loc[imgs_list['subject'].isin(valid_subjects), 'file_path'])\n",
    "\n",
    "new_train_dir = \"data/train/\"\n",
    "new_val_dir = \"data/valid/\""
   ]
  },
  {
   "cell_type": "code",
   "execution_count": 43,
   "metadata": {},
   "outputs": [
    {
     "data": {
      "text/plain": [
       "(20441, 1983)"
      ]
     },
     "execution_count": 43,
     "metadata": {},
     "output_type": "execute_result"
    }
   ],
   "source": [
    "len(train_imgs), len(valid_imgs)"
   ]
  },
  {
   "cell_type": "code",
   "execution_count": 44,
   "metadata": {},
   "outputs": [],
   "source": [
    "# clear out these directories first\n",
    "for clss in [\"c%s\" % i for i in range(10)]:\n",
    "    trn_imgs = os.listdir(\"data/train/%s\" % clss) \n",
    "    for img in trn_imgs:\n",
    "        os.remove(\"data/train/%s/%s\" % (clss, img))\n",
    "        \n",
    "    val_imgs = os.listdir(\"data/valid/%s\" % clss) \n",
    "    for img in val_imgs:\n",
    "        os.remove(\"data/valid/%s/%s\" % (clss, img))\n",
    "\n",
    "for img in train_imgs:\n",
    "    shutil.copy(\"original_data/train/\" + img, train_dir+img)\n",
    "    \n",
    "for img in valid_imgs:\n",
    "    shutil.copy(\"original_data/train/\" + img, val_dir+img)"
   ]
  }
 ],
 "metadata": {
  "kernelspec": {
   "display_name": "Python 2",
   "language": "python",
   "name": "python2"
  },
  "language_info": {
   "codemirror_mode": {
    "name": "ipython",
    "version": 2
   },
   "file_extension": ".py",
   "mimetype": "text/x-python",
   "name": "python",
   "nbconvert_exporter": "python",
   "pygments_lexer": "ipython2",
   "version": "2.7.13"
  }
 },
 "nbformat": 4,
 "nbformat_minor": 2
}
