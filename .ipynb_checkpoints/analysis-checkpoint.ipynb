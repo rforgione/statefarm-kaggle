{
 "cells": [
  {
   "cell_type": "markdown",
   "metadata": {},
   "source": [
    "# Setup"
   ]
  },
  {
   "cell_type": "markdown",
   "metadata": {},
   "source": [
    "First, we import all the basic stuff that we need. You can find the code for `keras_utilities` [here](https://github.com/rforgione/keras-utilities). It's basically a compilation of the utility code written by Jeremy Howard for the FastAI deep learning course, and some of my own code for creating the appropriate directory structure for Keras models. "
   ]
  },
  {
   "cell_type": "code",
   "execution_count": 1,
   "metadata": {},
   "outputs": [
    {
     "name": "stderr",
     "output_type": "stream",
     "text": [
      "WARNING (theano.sandbox.cuda): The cuda backend is deprecated and will be removed in the next release (v0.10).  Please switch to the gpuarray backend. You can get more information about how to switch at this URL:\n",
      " https://github.com/Theano/Theano/wiki/Converting-to-the-new-gpu-back-end%28gpuarray%29\n",
      "\n",
      "Using gpu device 0: Tesla K80 (CNMeM is disabled, cuDNN 5103)\n",
      "Using Theano backend.\n"
     ]
    }
   ],
   "source": [
    "from keras_utilities import *\n",
    "from keras_utilities.models.vgg16bn import Vgg16BN\n",
    "import os"
   ]
  },
  {
   "cell_type": "markdown",
   "metadata": {},
   "source": [
    "## Control Panel"
   ]
  },
  {
   "cell_type": "code",
   "execution_count": 2,
   "metadata": {
    "collapsed": true
   },
   "outputs": [],
   "source": [
    "prod = False\n",
    "\n",
    "if not prod:\n",
    "    path = 'sample/'\n",
    "else:\n",
    "    path = 'data/'\n",
    "    \n",
    "batch_size = 64"
   ]
  },
  {
   "cell_type": "markdown",
   "metadata": {},
   "source": [
    "The following three sequences are commented out, because we only want to run them one time. This first one takes 10% of the training data and copies it into a sample data directory. We can use this sample directory to quickly iterate on models."
   ]
  },
  {
   "cell_type": "code",
   "execution_count": 3,
   "metadata": {
    "collapsed": true
   },
   "outputs": [],
   "source": [
    "# for subdir in ['c' + str(i) for i in range(10)]:\n",
    "#     if not os.path.exists(\"sample/train/%s\" % subdir):\n",
    "#         os.makedirs(\"sample/train/%s\" % subdir)\n",
    "#     create_sample_data(\"data/train/%s\" % subdir, \"sample/train/%s\" % subdir)"
   ]
  },
  {
   "cell_type": "markdown",
   "metadata": {},
   "source": [
    "In this next piece, we take 25% of our training data and move it into a validation set directory."
   ]
  },
  {
   "cell_type": "code",
   "execution_count": 7,
   "metadata": {},
   "outputs": [],
   "source": [
    "# for subdir in ['c' + str(i) for i in range(10)]:\n",
    "#     if not os.path.exists(\"data/valid/%s\" % subdir):\n",
    "#         os.makedirs(\"data/valid/%s\" % subdir)\n",
    "#     create_sample_data(\"data/train/%s\" % subdir, \"data/valid/%s\" % subdir, \n",
    "#                        method=\"move\", sample_pct=.25)"
   ]
  },
  {
   "cell_type": "markdown",
   "metadata": {},
   "source": [
    "Finally, we take 25% of our sample data and move it into a sample validation set directory."
   ]
  },
  {
   "cell_type": "code",
   "execution_count": 10,
   "metadata": {},
   "outputs": [],
   "source": [
    "# for subdir in ['c' + str(i) for i in range(10)]:\n",
    "#     if not os.path.exists(\"sample/valid/%s\" % subdir):\n",
    "#         os.makedirs(\"sample/valid/%s\" % subdir)\n",
    "#     create_sample_data(\"sample/train/%s\" % subdir, \"sample/valid/%s\" % subdir, \n",
    "#                        method=\"move\", sample_pct=.25)"
   ]
  },
  {
   "cell_type": "markdown",
   "metadata": {},
   "source": [
    "Let's do a quick check on whether this worked:"
   ]
  },
  {
   "cell_type": "code",
   "execution_count": 14,
   "metadata": {},
   "outputs": [
    {
     "name": "stdout",
     "output_type": "stream",
     "text": [
      "1900\r\n"
     ]
    }
   ],
   "source": [
    "# training data for class c0\n",
    "!ls -1 data/train/c0 | wc -l"
   ]
  },
  {
   "cell_type": "code",
   "execution_count": 15,
   "metadata": {},
   "outputs": [
    {
     "name": "stdout",
     "output_type": "stream",
     "text": [
      "166\r\n"
     ]
    }
   ],
   "source": [
    "# sample training data for class c0, should be about 10% of the data above\n",
    "!ls -1 sample/train/c0 | wc -l"
   ]
  },
  {
   "cell_type": "code",
   "execution_count": 16,
   "metadata": {},
   "outputs": [
    {
     "name": "stdout",
     "output_type": "stream",
     "text": [
      "589\r\n"
     ]
    }
   ],
   "source": [
    "# validation data for class c0, should be about 1/3 of the training data for c0\n",
    "!ls -1 data/valid/c0 | wc -l"
   ]
  },
  {
   "cell_type": "code",
   "execution_count": 17,
   "metadata": {},
   "outputs": [
    {
     "name": "stdout",
     "output_type": "stream",
     "text": [
      "62\r\n"
     ]
    }
   ],
   "source": [
    "# sample validation data for class c0, should be about 10% of the sample training data for c0\n",
    "!ls -1 sample/valid/c0 | wc -l"
   ]
  },
  {
   "cell_type": "markdown",
   "metadata": {},
   "source": [
    "So the percentages don't work out perfectly, but they're good enough for our purposes. We now have a pretty well organized collection of image data. Time to move onto the fun part: the actual modeling."
   ]
  },
  {
   "cell_type": "markdown",
   "metadata": {},
   "source": [
    "# Modeling"
   ]
  },
  {
   "cell_type": "code",
   "execution_count": null,
   "metadata": {
    "collapsed": true
   },
   "outputs": [],
   "source": []
  }
 ],
 "metadata": {
  "kernelspec": {
   "display_name": "Python 2",
   "language": "python",
   "name": "python2"
  },
  "language_info": {
   "codemirror_mode": {
    "name": "ipython",
    "version": 2
   },
   "file_extension": ".py",
   "mimetype": "text/x-python",
   "name": "python",
   "nbconvert_exporter": "python",
   "pygments_lexer": "ipython2",
   "version": "2.7.13"
  }
 },
 "nbformat": 4,
 "nbformat_minor": 2
}
