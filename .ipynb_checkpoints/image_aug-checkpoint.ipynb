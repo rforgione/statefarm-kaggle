{
 "cells": [
  {
   "cell_type": "markdown",
   "metadata": {
    "heading_collapsed": true
   },
   "source": [
    "# Setup"
   ]
  },
  {
   "cell_type": "markdown",
   "metadata": {
    "heading_collapsed": true,
    "hidden": true
   },
   "source": [
    "## Imports"
   ]
  },
  {
   "cell_type": "code",
   "execution_count": 29,
   "metadata": {
    "ExecuteTime": {
     "end_time": "2017-07-27T04:22:24.890799Z",
     "start_time": "2017-07-27T04:22:24.883135Z"
    },
    "code_folding": [],
    "hidden": true
   },
   "outputs": [],
   "source": [
    "from keras.models import Sequential, Model\n",
    "from keras.applications import VGG16\n",
    "from keras.layers import (Dense, BatchNormalization, Convolution2D, \n",
    "                         MaxPooling2D, Dropout, Input, Flatten)\n",
    "from keras.optimizers import Adam\n",
    "from keras_utilities import Vgg16, get_batches, onehot\n",
    "from keras.preprocessing.image import ImageDataGenerator\n",
    "from keras_utilities import load_array, save_array\n",
    "import os\n",
    "from IPython.display import FileLink\n",
    "import numpy as np"
   ]
  },
  {
   "cell_type": "markdown",
   "metadata": {
    "heading_collapsed": true,
    "hidden": true
   },
   "source": [
    "## Control Panel"
   ]
  },
  {
   "cell_type": "code",
   "execution_count": 11,
   "metadata": {
    "ExecuteTime": {
     "end_time": "2017-07-27T04:04:24.398948Z",
     "start_time": "2017-07-27T04:04:24.395369Z"
    },
    "collapsed": true,
    "hidden": true
   },
   "outputs": [],
   "source": [
    "# path = \"sample/\"\n",
    "# path = \"data/\"\n",
    "path = \"microsample/\"\n",
    "\n",
    "model_dir = \"models/\""
   ]
  },
  {
   "cell_type": "markdown",
   "metadata": {
    "heading_collapsed": true
   },
   "source": [
    "# Experiment with Augmentation"
   ]
  },
  {
   "cell_type": "code",
   "execution_count": 2,
   "metadata": {
    "ExecuteTime": {
     "end_time": "2017-07-27T00:40:11.411232Z",
     "start_time": "2017-07-27T00:40:08.519276Z"
    },
    "collapsed": true,
    "hidden": true
   },
   "outputs": [],
   "source": [
    "vgg = Vgg16()"
   ]
  },
  {
   "cell_type": "code",
   "execution_count": 4,
   "metadata": {
    "ExecuteTime": {
     "end_time": "2017-07-27T00:40:16.291411Z",
     "start_time": "2017-07-27T00:40:16.179385Z"
    },
    "hidden": true
   },
   "outputs": [
    {
     "name": "stdout",
     "output_type": "stream",
     "text": [
      "Found 2057 images belonging to 10 classes.\n",
      "Found 1983 images belonging to 10 classes.\n"
     ]
    }
   ],
   "source": [
    "trn_batches = get_batches(path+\"train\")\n",
    "val_batches = get_batches(path+\"valid\")"
   ]
  },
  {
   "cell_type": "code",
   "execution_count": 5,
   "metadata": {
    "ExecuteTime": {
     "end_time": "2017-07-27T00:40:17.563263Z",
     "start_time": "2017-07-27T00:40:17.559272Z"
    },
    "collapsed": true,
    "hidden": true
   },
   "outputs": [],
   "source": [
    "trn_labels = onehot(trn_batches.classes)\n",
    "val_labels = onehot(val_batches.classes)"
   ]
  },
  {
   "cell_type": "markdown",
   "metadata": {
    "hidden": true
   },
   "source": [
    "Fine-tune the vgg model."
   ]
  },
  {
   "cell_type": "code",
   "execution_count": 7,
   "metadata": {
    "ExecuteTime": {
     "end_time": "2017-07-27T00:36:32.725992Z",
     "start_time": "2017-07-27T00:36:32.710938Z"
    },
    "collapsed": true,
    "hidden": true
   },
   "outputs": [],
   "source": [
    "vgg.ft(10)"
   ]
  },
  {
   "cell_type": "markdown",
   "metadata": {
    "hidden": true
   },
   "source": [
    "Fit a baseline model to see what happens without any data augmentation."
   ]
  },
  {
   "cell_type": "code",
   "execution_count": 7,
   "metadata": {
    "hidden": true
   },
   "outputs": [
    {
     "name": "stdout",
     "output_type": "stream",
     "text": [
      "Epoch 1/1\n",
      "2057/2057 [==============================] - 94s - loss: 3.2839 - acc: 0.2985 - val_loss: 2.1713 - val_acc: 0.3918\n"
     ]
    },
    {
     "data": {
      "text/plain": [
       "<keras.callbacks.History at 0x7f4ee5f608d0>"
      ]
     },
     "execution_count": 7,
     "metadata": {},
     "output_type": "execute_result"
    }
   ],
   "source": [
    "vgg.model.fit_generator(generator=trn_batches, samples_per_epoch=trn_batches.nb_sample, nb_epoch=1, \n",
    "                        validation_data=val_batches, nb_val_samples=val_batches.nb_sample)"
   ]
  },
  {
   "cell_type": "markdown",
   "metadata": {
    "hidden": true
   },
   "source": [
    "Without any augmentation, we get a val loss of 2.9975."
   ]
  },
  {
   "cell_type": "markdown",
   "metadata": {
    "heading_collapsed": true,
    "hidden": true
   },
   "source": [
    "## ZCA Whitening"
   ]
  },
  {
   "cell_type": "code",
   "execution_count": 8,
   "metadata": {
    "hidden": true
   },
   "outputs": [
    {
     "name": "stdout",
     "output_type": "stream",
     "text": [
      "Found 2057 images belonging to 10 classes.\n",
      "Epoch 1/1\n",
      "   4/2057 [..............................] - ETA: 93s - loss: 1.7248 - acc: 0.5000"
     ]
    },
    {
     "name": "stderr",
     "output_type": "stream",
     "text": [
      "/home/ubuntu/anaconda2/lib/python2.7/site-packages/keras/preprocessing/image.py:482: UserWarning: This ImageDataGenerator specifies `zca_whitening`, but it hasn'tbeen fit on any training data. Fit it first by calling `.fit(numpy_data)`.\n",
      "  warnings.warn('This ImageDataGenerator specifies '\n"
     ]
    },
    {
     "name": "stdout",
     "output_type": "stream",
     "text": [
      "2057/2057 [==============================] - 94s - loss: 3.4494 - acc: 0.2820 - val_loss: 2.1387 - val_acc: 0.3853\n"
     ]
    },
    {
     "data": {
      "text/plain": [
       "<keras.callbacks.History at 0x7f60a2aa1bd0>"
      ]
     },
     "execution_count": 8,
     "metadata": {},
     "output_type": "execute_result"
    }
   ],
   "source": [
    "gen = ImageDataGenerator(zca_whitening=True)\n",
    "trn_batches = get_batches(path+\"train\", gen=gen)\n",
    "vgg = Vgg16()\n",
    "vgg.ft(10)\n",
    "vgg.model.fit_generator(generator=trn_batches, samples_per_epoch=trn_batches.nb_sample, nb_epoch=1, \n",
    "                        validation_data=val_batches, nb_val_samples=val_batches.nb_sample)"
   ]
  },
  {
   "cell_type": "markdown",
   "metadata": {
    "hidden": true
   },
   "source": [
    "Substantial improvement to 2.1387."
   ]
  },
  {
   "cell_type": "markdown",
   "metadata": {
    "hidden": true
   },
   "source": [
    "**Conclusion: use ZCA whitening**"
   ]
  },
  {
   "cell_type": "markdown",
   "metadata": {
    "heading_collapsed": true,
    "hidden": true
   },
   "source": [
    "## Rotation Range"
   ]
  },
  {
   "cell_type": "code",
   "execution_count": 12,
   "metadata": {
    "hidden": true
   },
   "outputs": [
    {
     "name": "stdout",
     "output_type": "stream",
     "text": [
      "Found 2057 images belonging to 10 classes.\n",
      "Epoch 1/1\n",
      "2057/2057 [==============================] - 94s - loss: 3.2577 - acc: 0.3009 - val_loss: 2.9101 - val_acc: 0.3278\n"
     ]
    },
    {
     "data": {
      "text/plain": [
       "<keras.callbacks.History at 0x7f60912b2150>"
      ]
     },
     "execution_count": 12,
     "metadata": {},
     "output_type": "execute_result"
    }
   ],
   "source": [
    "gen = ImageDataGenerator(rotation_range=.1)\n",
    "trn_batches = get_batches(path+\"train\", gen=gen)\n",
    "vgg = Vgg16()\n",
    "vgg.ft(10)\n",
    "vgg.model.fit_generator(generator=trn_batches, samples_per_epoch=trn_batches.nb_sample, nb_epoch=1, \n",
    "                        validation_data=val_batches, nb_val_samples=val_batches.nb_sample)"
   ]
  },
  {
   "cell_type": "markdown",
   "metadata": {
    "hidden": true
   },
   "source": [
    "Helped a little, not much."
   ]
  },
  {
   "cell_type": "code",
   "execution_count": 13,
   "metadata": {
    "hidden": true
   },
   "outputs": [
    {
     "name": "stdout",
     "output_type": "stream",
     "text": [
      "Found 2057 images belonging to 10 classes.\n",
      "Epoch 1/1\n",
      "2057/2057 [==============================] - 94s - loss: 3.4038 - acc: 0.2839 - val_loss: 2.1824 - val_acc: 0.4433\n"
     ]
    },
    {
     "data": {
      "text/plain": [
       "<keras.callbacks.History at 0x7f608dff60d0>"
      ]
     },
     "execution_count": 13,
     "metadata": {},
     "output_type": "execute_result"
    }
   ],
   "source": [
    "gen = ImageDataGenerator(rotation_range=.2)\n",
    "trn_batches = get_batches(path+\"train\", gen=gen)\n",
    "vgg = Vgg16()\n",
    "vgg.ft(10)\n",
    "vgg.model.fit_generator(generator=trn_batches, samples_per_epoch=trn_batches.nb_sample, nb_epoch=1, \n",
    "                        validation_data=val_batches, nb_val_samples=val_batches.nb_sample)"
   ]
  },
  {
   "cell_type": "markdown",
   "metadata": {
    "hidden": true
   },
   "source": [
    "Nice! Solid val loss."
   ]
  },
  {
   "cell_type": "code",
   "execution_count": 15,
   "metadata": {
    "hidden": true
   },
   "outputs": [
    {
     "name": "stdout",
     "output_type": "stream",
     "text": [
      "Found 2057 images belonging to 10 classes.\n",
      "Epoch 1/1\n",
      "2057/2057 [==============================] - 94s - loss: 3.2890 - acc: 0.3004 - val_loss: 3.0651 - val_acc: 0.3495\n"
     ]
    },
    {
     "data": {
      "text/plain": [
       "<keras.callbacks.History at 0x7f608ad71290>"
      ]
     },
     "execution_count": 15,
     "metadata": {},
     "output_type": "execute_result"
    }
   ],
   "source": [
    "gen = ImageDataGenerator(rotation_range=.2)\n",
    "trn_batches = get_batches(path+\"train\", gen=gen)\n",
    "vgg = Vgg16()\n",
    "vgg.ft(10)\n",
    "vgg.model.fit_generator(generator=trn_batches, samples_per_epoch=trn_batches.nb_sample, nb_epoch=1, \n",
    "                        validation_data=val_batches, nb_val_samples=val_batches.nb_sample)\n"
   ]
  },
  {
   "cell_type": "markdown",
   "metadata": {
    "hidden": true
   },
   "source": [
    "**Conclusion: rotation range of 0.2. **"
   ]
  },
  {
   "cell_type": "markdown",
   "metadata": {
    "heading_collapsed": true,
    "hidden": true
   },
   "source": [
    "## Width Shift Range"
   ]
  },
  {
   "cell_type": "code",
   "execution_count": 20,
   "metadata": {
    "hidden": true
   },
   "outputs": [
    {
     "name": "stdout",
     "output_type": "stream",
     "text": [
      "Found 2057 images belonging to 10 classes.\n",
      "Epoch 1/1\n",
      "2057/2057 [==============================] - 94s - loss: 3.4075 - acc: 0.2708 - val_loss: 2.7971 - val_acc: 0.3298\n"
     ]
    },
    {
     "data": {
      "text/plain": [
       "<keras.callbacks.History at 0x7f607d08bb10>"
      ]
     },
     "execution_count": 20,
     "metadata": {},
     "output_type": "execute_result"
    }
   ],
   "source": [
    "gen = ImageDataGenerator(width_shift_range=.1)\n",
    "trn_batches = get_batches(path+\"train\", gen=gen)\n",
    "vgg = Vgg16()\n",
    "vgg.ft(10)\n",
    "vgg.model.fit_generator(generator=trn_batches, samples_per_epoch=trn_batches.nb_sample, nb_epoch=1, \n",
    "                        validation_data=val_batches, nb_val_samples=val_batches.nb_sample)"
   ]
  },
  {
   "cell_type": "markdown",
   "metadata": {
    "collapsed": true,
    "hidden": true
   },
   "source": [
    "Better than without."
   ]
  },
  {
   "cell_type": "code",
   "execution_count": 21,
   "metadata": {
    "hidden": true
   },
   "outputs": [
    {
     "name": "stdout",
     "output_type": "stream",
     "text": [
      "Found 2057 images belonging to 10 classes.\n",
      "Epoch 1/1\n",
      "2057/2057 [==============================] - 94s - loss: 3.6077 - acc: 0.2280 - val_loss: 2.0524 - val_acc: 0.4175\n"
     ]
    },
    {
     "data": {
      "text/plain": [
       "<keras.callbacks.History at 0x7f607857f290>"
      ]
     },
     "execution_count": 21,
     "metadata": {},
     "output_type": "execute_result"
    }
   ],
   "source": [
    "gen = ImageDataGenerator(width_shift_range=.2)\n",
    "trn_batches = get_batches(path+\"train\", gen=gen)\n",
    "vgg = Vgg16()\n",
    "vgg.ft(10)\n",
    "vgg.model.fit_generator(generator=trn_batches, samples_per_epoch=trn_batches.nb_sample, nb_epoch=1, \n",
    "                        validation_data=val_batches, nb_val_samples=val_batches.nb_sample)"
   ]
  },
  {
   "cell_type": "markdown",
   "metadata": {
    "hidden": true
   },
   "source": [
    "WHOA big improvement!"
   ]
  },
  {
   "cell_type": "code",
   "execution_count": 22,
   "metadata": {
    "hidden": true
   },
   "outputs": [
    {
     "name": "stdout",
     "output_type": "stream",
     "text": [
      "Found 2057 images belonging to 10 classes.\n",
      "Epoch 1/1\n",
      "2057/2057 [==============================] - 94s - loss: 3.5783 - acc: 0.2436 - val_loss: 2.5521 - val_acc: 0.3807\n"
     ]
    },
    {
     "data": {
      "text/plain": [
       "<keras.callbacks.History at 0x7f60751bed50>"
      ]
     },
     "execution_count": 22,
     "metadata": {},
     "output_type": "execute_result"
    }
   ],
   "source": [
    "gen = ImageDataGenerator(width_shift_range=.3)\n",
    "trn_batches = get_batches(path+\"train\", gen=gen)\n",
    "vgg = Vgg16()\n",
    "vgg.ft(10)\n",
    "vgg.model.fit_generator(generator=trn_batches, samples_per_epoch=trn_batches.nb_sample, nb_epoch=1, \n",
    "                        validation_data=val_batches, nb_val_samples=val_batches.nb_sample)"
   ]
  },
  {
   "cell_type": "markdown",
   "metadata": {
    "hidden": true
   },
   "source": [
    "Worse"
   ]
  },
  {
   "cell_type": "markdown",
   "metadata": {
    "hidden": true
   },
   "source": [
    "** Conclusion: 0.2 width shift range. **"
   ]
  },
  {
   "cell_type": "markdown",
   "metadata": {
    "heading_collapsed": true,
    "hidden": true
   },
   "source": [
    "## Height Shift Range"
   ]
  },
  {
   "cell_type": "code",
   "execution_count": 23,
   "metadata": {
    "hidden": true
   },
   "outputs": [
    {
     "name": "stdout",
     "output_type": "stream",
     "text": [
      "Found 2057 images belonging to 10 classes.\n",
      "Epoch 1/1\n",
      "2057/2057 [==============================] - 94s - loss: 3.4127 - acc: 0.2640 - val_loss: 2.6254 - val_acc: 0.2925\n"
     ]
    },
    {
     "data": {
      "text/plain": [
       "<keras.callbacks.History at 0x7f60726ba190>"
      ]
     },
     "execution_count": 23,
     "metadata": {},
     "output_type": "execute_result"
    }
   ],
   "source": [
    "gen = ImageDataGenerator(height_shift_range=.1)\n",
    "trn_batches = get_batches(path+\"train\", gen=gen)\n",
    "vgg = Vgg16()\n",
    "vgg.ft(10)\n",
    "vgg.model.fit_generator(generator=trn_batches, samples_per_epoch=trn_batches.nb_sample, nb_epoch=1, \n",
    "                        validation_data=val_batches, nb_val_samples=val_batches.nb_sample)"
   ]
  },
  {
   "cell_type": "code",
   "execution_count": 24,
   "metadata": {
    "hidden": true
   },
   "outputs": [
    {
     "name": "stdout",
     "output_type": "stream",
     "text": [
      "Found 2057 images belonging to 10 classes.\n",
      "Epoch 1/1\n",
      "2057/2057 [==============================] - 94s - loss: 3.4198 - acc: 0.2533 - val_loss: 2.6658 - val_acc: 0.3676\n"
     ]
    },
    {
     "data": {
      "text/plain": [
       "<keras.callbacks.History at 0x7f606f2ac190>"
      ]
     },
     "execution_count": 24,
     "metadata": {},
     "output_type": "execute_result"
    }
   ],
   "source": [
    "gen = ImageDataGenerator(height_shift_range=.2)\n",
    "trn_batches = get_batches(path+\"train\", gen=gen)\n",
    "vgg = Vgg16()\n",
    "vgg.ft(10)\n",
    "vgg.model.fit_generator(generator=trn_batches, samples_per_epoch=trn_batches.nb_sample, nb_epoch=1, \n",
    "                        validation_data=val_batches, nb_val_samples=val_batches.nb_sample)"
   ]
  },
  {
   "cell_type": "markdown",
   "metadata": {
    "hidden": true
   },
   "source": [
    "Worse"
   ]
  },
  {
   "cell_type": "code",
   "execution_count": 25,
   "metadata": {
    "hidden": true
   },
   "outputs": [
    {
     "name": "stdout",
     "output_type": "stream",
     "text": [
      "Found 2057 images belonging to 10 classes.\n",
      "Epoch 1/1\n",
      "2057/2057 [==============================] - 94s - loss: 3.4300 - acc: 0.2640 - val_loss: 2.4316 - val_acc: 0.3585\n"
     ]
    },
    {
     "data": {
      "text/plain": [
       "<keras.callbacks.History at 0x7f606bd688d0>"
      ]
     },
     "execution_count": 25,
     "metadata": {},
     "output_type": "execute_result"
    }
   ],
   "source": [
    "gen = ImageDataGenerator(height_shift_range=.3)\n",
    "trn_batches = get_batches(path+\"train\", gen=gen)\n",
    "vgg = Vgg16()\n",
    "vgg.ft(10)\n",
    "vgg.model.fit_generator(generator=trn_batches, samples_per_epoch=trn_batches.nb_sample, nb_epoch=1, \n",
    "                        validation_data=val_batches, nb_val_samples=val_batches.nb_sample)"
   ]
  },
  {
   "cell_type": "markdown",
   "metadata": {
    "collapsed": true,
    "heading_collapsed": true,
    "hidden": true
   },
   "source": [
    "## Shear Range"
   ]
  },
  {
   "cell_type": "code",
   "execution_count": 9,
   "metadata": {
    "hidden": true
   },
   "outputs": [
    {
     "name": "stdout",
     "output_type": "stream",
     "text": [
      "Found 2057 images belonging to 10 classes.\n",
      "Epoch 1/1\n",
      "2057/2057 [==============================] - 94s - loss: 3.3553 - acc: 0.2985 - val_loss: 2.2022 - val_acc: 0.3868\n"
     ]
    },
    {
     "data": {
      "text/plain": [
       "<keras.callbacks.History at 0x7f4ecdaeaa10>"
      ]
     },
     "execution_count": 9,
     "metadata": {},
     "output_type": "execute_result"
    }
   ],
   "source": [
    "gen = ImageDataGenerator(shear_range=.1)\n",
    "trn_batches = get_batches(path+\"train\", gen=gen)\n",
    "vgg = Vgg16()\n",
    "vgg.ft(10)\n",
    "vgg.model.fit_generator(generator=trn_batches, samples_per_epoch=trn_batches.nb_sample, nb_epoch=1, \n",
    "                        validation_data=val_batches, nb_val_samples=val_batches.nb_sample)"
   ]
  },
  {
   "cell_type": "markdown",
   "metadata": {
    "hidden": true
   },
   "source": [
    "Not bad."
   ]
  },
  {
   "cell_type": "code",
   "execution_count": 10,
   "metadata": {
    "hidden": true
   },
   "outputs": [
    {
     "name": "stdout",
     "output_type": "stream",
     "text": [
      "Found 2057 images belonging to 10 classes.\n",
      "Epoch 1/1\n",
      "2057/2057 [==============================] - 94s - loss: 3.3857 - acc: 0.2800 - val_loss: 2.3102 - val_acc: 0.3424\n"
     ]
    },
    {
     "data": {
      "text/plain": [
       "<keras.callbacks.History at 0x7f4ec68461d0>"
      ]
     },
     "execution_count": 10,
     "metadata": {},
     "output_type": "execute_result"
    }
   ],
   "source": [
    "gen = ImageDataGenerator(shear_range=.2)\n",
    "trn_batches = get_batches(path+\"train\", gen=gen)\n",
    "vgg = Vgg16()\n",
    "vgg.ft(10)\n",
    "vgg.model.fit_generator(generator=trn_batches, samples_per_epoch=trn_batches.nb_sample, nb_epoch=1, \n",
    "                        validation_data=val_batches, nb_val_samples=val_batches.nb_sample)"
   ]
  },
  {
   "cell_type": "code",
   "execution_count": 11,
   "metadata": {
    "hidden": true
   },
   "outputs": [
    {
     "name": "stdout",
     "output_type": "stream",
     "text": [
      "Found 2057 images belonging to 10 classes.\n",
      "Epoch 1/1\n",
      "2057/2057 [==============================] - 94s - loss: 3.4161 - acc: 0.2917 - val_loss: 3.5439 - val_acc: 0.2395\n"
     ]
    },
    {
     "data": {
      "text/plain": [
       "<keras.callbacks.History at 0x7f4ec35b8110>"
      ]
     },
     "execution_count": 11,
     "metadata": {},
     "output_type": "execute_result"
    }
   ],
   "source": [
    "gen = ImageDataGenerator(shear_range=.3)\n",
    "trn_batches = get_batches(path+\"train\", gen=gen)\n",
    "vgg = Vgg16()\n",
    "vgg.ft(10)\n",
    "vgg.model.fit_generator(generator=trn_batches, samples_per_epoch=trn_batches.nb_sample, nb_epoch=1, \n",
    "                        validation_data=val_batches, nb_val_samples=val_batches.nb_sample)"
   ]
  },
  {
   "cell_type": "markdown",
   "metadata": {
    "hidden": true
   },
   "source": [
    "Awful."
   ]
  },
  {
   "cell_type": "markdown",
   "metadata": {
    "hidden": true
   },
   "source": [
    "** Conclusion: shear range = .1 **"
   ]
  },
  {
   "cell_type": "markdown",
   "metadata": {
    "heading_collapsed": true,
    "hidden": true
   },
   "source": [
    "## Zoom Range"
   ]
  },
  {
   "cell_type": "code",
   "execution_count": 12,
   "metadata": {
    "hidden": true
   },
   "outputs": [
    {
     "name": "stdout",
     "output_type": "stream",
     "text": [
      "Found 2057 images belonging to 10 classes.\n",
      "Epoch 1/1\n",
      "2057/2057 [==============================] - 94s - loss: 3.4501 - acc: 0.2815 - val_loss: 2.7938 - val_acc: 0.2980\n"
     ]
    },
    {
     "data": {
      "text/plain": [
       "<keras.callbacks.History at 0x7f4ec02c9d50>"
      ]
     },
     "execution_count": 12,
     "metadata": {},
     "output_type": "execute_result"
    }
   ],
   "source": [
    "gen = ImageDataGenerator(zoom_range=.1)\n",
    "trn_batches = get_batches(path+\"train\", gen=gen)\n",
    "vgg = Vgg16()\n",
    "vgg.ft(10)\n",
    "vgg.model.fit_generator(generator=trn_batches, samples_per_epoch=trn_batches.nb_sample, nb_epoch=1, \n",
    "                        validation_data=val_batches, nb_val_samples=val_batches.nb_sample)"
   ]
  },
  {
   "cell_type": "code",
   "execution_count": 13,
   "metadata": {
    "hidden": true
   },
   "outputs": [
    {
     "name": "stdout",
     "output_type": "stream",
     "text": [
      "Found 2057 images belonging to 10 classes.\n",
      "Epoch 1/1\n",
      "2057/2057 [==============================] - 94s - loss: 3.7703 - acc: 0.2416 - val_loss: 2.5693 - val_acc: 0.3268\n"
     ]
    },
    {
     "data": {
      "text/plain": [
       "<keras.callbacks.History at 0x7f4ebd0bb0d0>"
      ]
     },
     "execution_count": 13,
     "metadata": {},
     "output_type": "execute_result"
    }
   ],
   "source": [
    "gen = ImageDataGenerator(zoom_range=.2)\n",
    "trn_batches = get_batches(path+\"train\", gen=gen)\n",
    "vgg = Vgg16()\n",
    "vgg.ft(10)\n",
    "vgg.model.fit_generator(generator=trn_batches, samples_per_epoch=trn_batches.nb_sample, nb_epoch=1, \n",
    "                        validation_data=val_batches, nb_val_samples=val_batches.nb_sample)"
   ]
  },
  {
   "cell_type": "code",
   "execution_count": 14,
   "metadata": {
    "hidden": true
   },
   "outputs": [
    {
     "name": "stdout",
     "output_type": "stream",
     "text": [
      "Found 2057 images belonging to 10 classes.\n",
      "Epoch 1/1\n",
      "2057/2057 [==============================] - 94s - loss: 3.7171 - acc: 0.2329 - val_loss: 2.8390 - val_acc: 0.2940\n"
     ]
    },
    {
     "data": {
      "text/plain": [
       "<keras.callbacks.History at 0x7f4eb9e85150>"
      ]
     },
     "execution_count": 14,
     "metadata": {},
     "output_type": "execute_result"
    }
   ],
   "source": [
    "gen = ImageDataGenerator(zoom_range=.3)\n",
    "trn_batches = get_batches(path+\"train\", gen=gen)\n",
    "vgg = Vgg16()\n",
    "vgg.ft(10)\n",
    "vgg.model.fit_generator(generator=trn_batches, samples_per_epoch=trn_batches.nb_sample, nb_epoch=1, \n",
    "                        validation_data=val_batches, nb_val_samples=val_batches.nb_sample)"
   ]
  },
  {
   "cell_type": "markdown",
   "metadata": {
    "hidden": true
   },
   "source": [
    "**Conclusion: zoom_range = 0.2 **"
   ]
  },
  {
   "cell_type": "markdown",
   "metadata": {
    "heading_collapsed": true,
    "hidden": true
   },
   "source": [
    "## Channel Shift Range"
   ]
  },
  {
   "cell_type": "code",
   "execution_count": 15,
   "metadata": {
    "hidden": true
   },
   "outputs": [
    {
     "name": "stdout",
     "output_type": "stream",
     "text": [
      "Found 2057 images belonging to 10 classes.\n",
      "Epoch 1/1\n",
      "2057/2057 [==============================] - 94s - loss: 3.4132 - acc: 0.2897 - val_loss: 2.6544 - val_acc: 0.3424\n"
     ]
    },
    {
     "data": {
      "text/plain": [
       "<keras.callbacks.History at 0x7f4eb67b8310>"
      ]
     },
     "execution_count": 15,
     "metadata": {},
     "output_type": "execute_result"
    }
   ],
   "source": [
    "gen = ImageDataGenerator(channel_shift_range=.1)\n",
    "trn_batches = get_batches(path+\"train\", gen=gen)\n",
    "vgg = Vgg16()\n",
    "vgg.ft(10)\n",
    "vgg.model.fit_generator(generator=trn_batches, samples_per_epoch=trn_batches.nb_sample, nb_epoch=1, \n",
    "                        validation_data=val_batches, nb_val_samples=val_batches.nb_sample)"
   ]
  },
  {
   "cell_type": "code",
   "execution_count": 16,
   "metadata": {
    "hidden": true
   },
   "outputs": [
    {
     "name": "stdout",
     "output_type": "stream",
     "text": [
      "Found 2057 images belonging to 10 classes.\n",
      "Epoch 1/1\n",
      "2057/2057 [==============================] - 94s - loss: 3.3833 - acc: 0.2839 - val_loss: 2.3784 - val_acc: 0.3908\n"
     ]
    },
    {
     "data": {
      "text/plain": [
       "<keras.callbacks.History at 0x7f4eb391e050>"
      ]
     },
     "execution_count": 16,
     "metadata": {},
     "output_type": "execute_result"
    }
   ],
   "source": [
    "gen = ImageDataGenerator(channel_shift_range=.2)\n",
    "trn_batches = get_batches(path+\"train\", gen=gen)\n",
    "vgg = Vgg16()\n",
    "vgg.ft(10)\n",
    "vgg.model.fit_generator(generator=trn_batches, samples_per_epoch=trn_batches.nb_sample, nb_epoch=1, \n",
    "                        validation_data=val_batches, nb_val_samples=val_batches.nb_sample)"
   ]
  },
  {
   "cell_type": "code",
   "execution_count": 17,
   "metadata": {
    "hidden": true
   },
   "outputs": [
    {
     "name": "stdout",
     "output_type": "stream",
     "text": [
      "Found 2057 images belonging to 10 classes.\n",
      "Epoch 1/1\n",
      "2057/2057 [==============================] - 94s - loss: 3.3375 - acc: 0.2941 - val_loss: 2.4277 - val_acc: 0.3858\n"
     ]
    },
    {
     "data": {
      "text/plain": [
       "<keras.callbacks.History at 0x7f4eb0796050>"
      ]
     },
     "execution_count": 17,
     "metadata": {},
     "output_type": "execute_result"
    }
   ],
   "source": [
    "gen = ImageDataGenerator(channel_shift_range=.3)\n",
    "trn_batches = get_batches(path+\"train\", gen=gen)\n",
    "vgg = Vgg16()\n",
    "vgg.ft(10)\n",
    "vgg.model.fit_generator(generator=trn_batches, samples_per_epoch=trn_batches.nb_sample, nb_epoch=1, \n",
    "                        validation_data=val_batches, nb_val_samples=val_batches.nb_sample)"
   ]
  },
  {
   "cell_type": "markdown",
   "metadata": {
    "hidden": true
   },
   "source": [
    "Final params:\n",
    "\n",
    "* ZCA Whitening = True\n",
    "* Rotation Range = 0.2\n",
    "* Width Shift Range = 0.2\n",
    "* Height Shift Range = 0.3\n",
    "* Shear Range = 0.1\n",
    "* Zoom Range = 0.2\n",
    "* Channel Shift Range = 0.2"
   ]
  },
  {
   "cell_type": "markdown",
   "metadata": {
    "heading_collapsed": true
   },
   "source": [
    "# Precompute Convolutional Layers"
   ]
  },
  {
   "cell_type": "code",
   "execution_count": 2,
   "metadata": {
    "ExecuteTime": {
     "end_time": "2017-07-27T03:22:05.816343Z",
     "start_time": "2017-07-27T03:22:02.916216Z"
    },
    "collapsed": true,
    "hidden": true
   },
   "outputs": [],
   "source": [
    "vgg = Vgg16()\n",
    "last_conv_layer = [i for i,l in enumerate(vgg.model.layers) if isinstance(l, Convolution2D)][-1]\n",
    "conv_model = Model(input=vgg.model.input, output=vgg.model.layers[last_conv_layer].output)"
   ]
  },
  {
   "cell_type": "code",
   "execution_count": 8,
   "metadata": {
    "ExecuteTime": {
     "end_time": "2017-07-27T00:41:26.443792Z",
     "start_time": "2017-07-27T00:41:26.439720Z"
    },
    "collapsed": true,
    "hidden": true
   },
   "outputs": [],
   "source": [
    "gen = ImageDataGenerator(zca_whitening=True, rotation_range=0.2, width_shift_range=0.2,\n",
    "                         height_shift_range=0.3, shear_range=0.1, zoom_range=0.2, \n",
    "                         channel_shift_range=0.2)"
   ]
  },
  {
   "cell_type": "code",
   "execution_count": 11,
   "metadata": {
    "ExecuteTime": {
     "end_time": "2017-07-27T00:41:45.205654Z",
     "start_time": "2017-07-27T00:41:44.662334Z"
    },
    "hidden": true,
    "scrolled": true
   },
   "outputs": [
    {
     "name": "stdout",
     "output_type": "stream",
     "text": [
      "Found 20441 images belonging to 10 classes.\n"
     ]
    }
   ],
   "source": [
    "batch_aug = get_batches(\"data/train\", gen=gen, batch_size=32, shuffle=False)"
   ]
  },
  {
   "cell_type": "code",
   "execution_count": 12,
   "metadata": {
    "ExecuteTime": {
     "end_time": "2017-07-27T00:41:51.546702Z",
     "start_time": "2017-07-27T00:41:51.489106Z"
    },
    "hidden": true
   },
   "outputs": [
    {
     "name": "stdout",
     "output_type": "stream",
     "text": [
      "Found 1983 images belonging to 10 classes.\n"
     ]
    }
   ],
   "source": [
    "val_aug = get_batches(\"data/valid\", gen=ImageDataGenerator(), batch_size=32, shuffle=False)"
   ]
  },
  {
   "cell_type": "markdown",
   "metadata": {
    "collapsed": true,
    "hidden": true
   },
   "source": [
    "Generated a dataset 5x the side of our normal train set using image augmentation. This takes a really long time once but then we only need to train a couple of output layers which saves us iteration time going forward."
   ]
  },
  {
   "cell_type": "code",
   "execution_count": 14,
   "metadata": {
    "ExecuteTime": {
     "end_time": "2017-07-27T01:25:56.469195Z",
     "start_time": "2017-07-27T00:42:18.127067Z"
    },
    "hidden": true
   },
   "outputs": [
    {
     "name": "stderr",
     "output_type": "stream",
     "text": [
      "/home/ubuntu/anaconda2/lib/python2.7/site-packages/keras/preprocessing/image.py:482: UserWarning: This ImageDataGenerator specifies `zca_whitening`, but it hasn'tbeen fit on any training data. Fit it first by calling `.fit(numpy_data)`.\n",
      "  warnings.warn('This ImageDataGenerator specifies '\n"
     ]
    }
   ],
   "source": [
    "# aug_train = conv_model.predict_generator(batch_aug, val_samples=batch_aug.nb_sample*5)"
   ]
  },
  {
   "cell_type": "code",
   "execution_count": 16,
   "metadata": {
    "ExecuteTime": {
     "end_time": "2017-07-27T01:26:42.081611Z",
     "start_time": "2017-07-27T01:25:56.475174Z"
    },
    "collapsed": true,
    "hidden": true
   },
   "outputs": [],
   "source": [
    "# save_array(\"serialized/aug_train.dat\", aug_train)"
   ]
  },
  {
   "cell_type": "code",
   "execution_count": 19,
   "metadata": {
    "ExecuteTime": {
     "end_time": "2017-07-27T02:15:45.858851Z",
     "start_time": "2017-07-27T02:15:45.828720Z"
    },
    "hidden": true
   },
   "outputs": [
    {
     "ename": "MemoryError",
     "evalue": "",
     "output_type": "error",
     "traceback": [
      "\u001b[0;31m---------------------------------------------------------------------------\u001b[0m",
      "\u001b[0;31mMemoryError\u001b[0m                               Traceback (most recent call last)",
      "\u001b[0;32m<ipython-input-19-b3fa42a0d6c6>\u001b[0m in \u001b[0;36m<module>\u001b[0;34m()\u001b[0m\n\u001b[0;32m----> 1\u001b[0;31m \u001b[0maug_train\u001b[0m \u001b[0;34m=\u001b[0m \u001b[0mload_array\u001b[0m\u001b[0;34m(\u001b[0m\u001b[0;34m\"serialized/aug_train.dat\"\u001b[0m\u001b[0;34m)\u001b[0m\u001b[0;34m\u001b[0m\u001b[0m\n\u001b[0m",
      "\u001b[0;32m/home/ubuntu/anaconda2/lib/python2.7/site-packages/keras_utilities/utils.pyc\u001b[0m in \u001b[0;36mload_array\u001b[0;34m(fname)\u001b[0m\n\u001b[1;32m    184\u001b[0m \u001b[0;34m\u001b[0m\u001b[0m\n\u001b[1;32m    185\u001b[0m \u001b[0;32mdef\u001b[0m \u001b[0mload_array\u001b[0m\u001b[0;34m(\u001b[0m\u001b[0mfname\u001b[0m\u001b[0;34m)\u001b[0m\u001b[0;34m:\u001b[0m\u001b[0;34m\u001b[0m\u001b[0m\n\u001b[0;32m--> 186\u001b[0;31m     \u001b[0;32mreturn\u001b[0m \u001b[0mbcolz\u001b[0m\u001b[0;34m.\u001b[0m\u001b[0mopen\u001b[0m\u001b[0;34m(\u001b[0m\u001b[0mfname\u001b[0m\u001b[0;34m)\u001b[0m\u001b[0;34m[\u001b[0m\u001b[0;34m:\u001b[0m\u001b[0;34m]\u001b[0m\u001b[0;34m\u001b[0m\u001b[0m\n\u001b[0m\u001b[1;32m    187\u001b[0m \u001b[0;34m\u001b[0m\u001b[0m\n\u001b[1;32m    188\u001b[0m \u001b[0;34m\u001b[0m\u001b[0m\n",
      "\u001b[0;32mbcolz/carray_ext.pyx\u001b[0m in \u001b[0;36mbcolz.carray_ext.carray.__getitem__ (bcolz/carray_ext.c:27723)\u001b[0;34m()\u001b[0m\n",
      "\u001b[0;31mMemoryError\u001b[0m: "
     ]
    }
   ],
   "source": [
    "aug_train = load_array(\"serialized/aug_train.dat\")"
   ]
  },
  {
   "cell_type": "code",
   "execution_count": 18,
   "metadata": {
    "ExecuteTime": {
     "end_time": "2017-07-27T02:10:18.526771Z",
     "start_time": "2017-07-27T02:09:27.773724Z"
    },
    "collapsed": true,
    "hidden": true
   },
   "outputs": [],
   "source": [
    "# aug_val = conv_model.predict_generator(val_aug, val_samples=val_aug.nb_sample)\n",
    "# save_array(\"serialized/aug_val.dat\", aug_val)\n",
    "aug_val = load_array(\"serialized/aug_val.dat\")"
   ]
  },
  {
   "cell_type": "markdown",
   "metadata": {
    "heading_collapsed": true
   },
   "source": [
    "# Train VGG Dense Layers"
   ]
  },
  {
   "cell_type": "markdown",
   "metadata": {
    "hidden": true
   },
   "source": [
    "Save this so we don't have to deal with this again."
   ]
  },
  {
   "cell_type": "markdown",
   "metadata": {
    "hidden": true
   },
   "source": [
    "This is a vgg-inspired set of layers, but I'm not copying their architecture to a T. I'mma do me."
   ]
  },
  {
   "cell_type": "code",
   "execution_count": 48,
   "metadata": {
    "ExecuteTime": {
     "end_time": "2017-07-27T02:59:19.760481Z",
     "start_time": "2017-07-27T02:59:19.549489Z"
    },
    "hidden": true
   },
   "outputs": [],
   "source": [
    "# inp = Input(conv_model.layers[-1].output_shape[1:])\n",
    "# mp1 = MaxPooling2D((2,2))(inp)\n",
    "# fl1 = Flatten()(mp1)\n",
    "# bn1 = BatchNormalization(axis=1)(fl1)\n",
    "# dr1 = Dropout(0.5)(bn1)\n",
    "# dn1 = Dense(128, activation='relu')(dr1)\n",
    "# bn2 = BatchNormalization()(dn1)\n",
    "# dr2 = Dropout(0.5)(bn2)\n",
    "# dn2 = Dense(128, activation='relu')(dr2)\n",
    "# bn3 = BatchNormalization()(dn2)\n",
    "# dr3 = Dropout(0.5)(bn3)\n",
    "# dn3 = Dense(10, activation='softmax')(dr3)\n",
    "\n",
    "# ft_model = Model(input=inp, output=dn3)\n",
    "p = .8\n",
    "ft_model = Sequential([\n",
    "        MaxPooling2D(input_shape=conv_model.layers[-1].output_shape[1:]),\n",
    "        Flatten(),\n",
    "        Dropout(p/2.),\n",
    "        Dense(128, activation='relu'),\n",
    "        BatchNormalization(),\n",
    "        Dropout(p/2.),\n",
    "        Dense(128, activation='relu'),\n",
    "        BatchNormalization(),\n",
    "        Dropout(p),\n",
    "        Dense(10, activation='softmax')\n",
    "    ])"
   ]
  },
  {
   "cell_type": "markdown",
   "metadata": {
    "hidden": true
   },
   "source": [
    "Interestingly, my version took up too much memory. I can't figure out exactly why seeing as I only used one extra layer and my architecture was nearly the same. need to research this more."
   ]
  },
  {
   "cell_type": "code",
   "execution_count": 49,
   "metadata": {
    "ExecuteTime": {
     "end_time": "2017-07-27T02:59:22.705913Z",
     "start_time": "2017-07-27T02:59:22.701848Z"
    },
    "collapsed": true,
    "hidden": true
   },
   "outputs": [],
   "source": [
    "labels_aug = onehot(batch_aug.classes)"
   ]
  },
  {
   "cell_type": "code",
   "execution_count": 50,
   "metadata": {
    "ExecuteTime": {
     "end_time": "2017-07-27T02:59:23.445425Z",
     "start_time": "2017-07-27T02:59:23.442239Z"
    },
    "collapsed": true,
    "hidden": true
   },
   "outputs": [],
   "source": [
    "val_labels_aug = onehot(val_aug.classes)"
   ]
  },
  {
   "cell_type": "code",
   "execution_count": 51,
   "metadata": {
    "ExecuteTime": {
     "end_time": "2017-07-27T02:59:24.377543Z",
     "start_time": "2017-07-27T02:59:24.364984Z"
    },
    "collapsed": true,
    "hidden": true
   },
   "outputs": [],
   "source": [
    "import numpy as np\n",
    "import pandas as pd\n",
    "labels_aug = onehot(batch_aug.classes)\n",
    "for i in range(4):\n",
    "    labels_aug = np.concatenate([labels_aug, onehot(batch_aug.classes)], axis=0)"
   ]
  },
  {
   "cell_type": "code",
   "execution_count": 52,
   "metadata": {
    "ExecuteTime": {
     "end_time": "2017-07-27T02:59:32.703541Z",
     "start_time": "2017-07-27T02:59:32.699244Z"
    },
    "hidden": true
   },
   "outputs": [
    {
     "data": {
      "text/plain": [
       "(102205, 10)"
      ]
     },
     "execution_count": 52,
     "metadata": {},
     "output_type": "execute_result"
    }
   ],
   "source": [
    "labels_aug.shape"
   ]
  },
  {
   "cell_type": "code",
   "execution_count": 53,
   "metadata": {
    "ExecuteTime": {
     "end_time": "2017-07-27T02:59:35.251407Z",
     "start_time": "2017-07-27T02:59:35.238129Z"
    },
    "collapsed": true,
    "hidden": true
   },
   "outputs": [],
   "source": [
    "ft_model.compile(optimizer=Adam(lr=0.0001), loss='categorical_crossentropy', metrics=['accuracy'])"
   ]
  },
  {
   "cell_type": "code",
   "execution_count": 54,
   "metadata": {
    "ExecuteTime": {
     "end_time": "2017-07-27T03:00:08.869933Z",
     "start_time": "2017-07-27T02:59:36.677818Z"
    },
    "hidden": true
   },
   "outputs": [
    {
     "name": "stdout",
     "output_type": "stream",
     "text": [
      "Train on 102205 samples, validate on 1983 samples\n",
      "Epoch 1/1\n",
      "102205/102205 [==============================] - 27s - loss: 2.6402 - acc: 0.3237 - val_loss: 1.0565 - val_acc: 0.6490\n"
     ]
    },
    {
     "data": {
      "text/plain": [
       "<keras.callbacks.History at 0x7fc801cb28d0>"
      ]
     },
     "execution_count": 54,
     "metadata": {},
     "output_type": "execute_result"
    }
   ],
   "source": [
    "ft_model.fit(aug_train, \n",
    "             labels_aug, \n",
    "             validation_data=(aug_val, val_labels_aug), nb_epoch=1)"
   ]
  },
  {
   "cell_type": "code",
   "execution_count": 57,
   "metadata": {
    "ExecuteTime": {
     "end_time": "2017-07-27T03:01:18.187670Z",
     "start_time": "2017-07-27T03:01:18.163991Z"
    },
    "hidden": true
   },
   "outputs": [],
   "source": [
    "ft_model.model.save_weights(model_dir+\"vgg_precompute_conv_1epoch.h5\")"
   ]
  },
  {
   "cell_type": "code",
   "execution_count": 58,
   "metadata": {
    "ExecuteTime": {
     "end_time": "2017-07-27T03:01:48.889618Z",
     "start_time": "2017-07-27T03:01:21.701506Z"
    },
    "hidden": true
   },
   "outputs": [
    {
     "name": "stdout",
     "output_type": "stream",
     "text": [
      "Train on 102205 samples, validate on 1983 samples\n",
      "Epoch 1/1\n",
      "102205/102205 [==============================] - 27s - loss: 1.0924 - acc: 0.6364 - val_loss: 0.8619 - val_acc: 0.7025\n"
     ]
    },
    {
     "data": {
      "text/plain": [
       "<keras.callbacks.History at 0x7fc801d44bd0>"
      ]
     },
     "execution_count": 58,
     "metadata": {},
     "output_type": "execute_result"
    }
   ],
   "source": [
    "ft_model.fit(aug_train, \n",
    "             labels_aug, \n",
    "             validation_data=(aug_val, val_labels_aug), nb_epoch=1)"
   ]
  },
  {
   "cell_type": "code",
   "execution_count": 59,
   "metadata": {
    "ExecuteTime": {
     "end_time": "2017-07-27T03:02:18.867613Z",
     "start_time": "2017-07-27T03:02:18.845690Z"
    },
    "collapsed": true,
    "hidden": true
   },
   "outputs": [],
   "source": [
    "ft_model.model.save_weights(model_dir+\"vgg_precompute_conv_2epochs.h5\")"
   ]
  },
  {
   "cell_type": "code",
   "execution_count": 60,
   "metadata": {
    "ExecuteTime": {
     "end_time": "2017-07-27T03:02:49.449635Z",
     "start_time": "2017-07-27T03:02:21.618024Z"
    },
    "hidden": true
   },
   "outputs": [
    {
     "name": "stdout",
     "output_type": "stream",
     "text": [
      "Train on 102205 samples, validate on 1983 samples\n",
      "Epoch 1/1\n",
      "102205/102205 [==============================] - 27s - loss: 0.7163 - acc: 0.7647 - val_loss: 0.9038 - val_acc: 0.7015\n"
     ]
    },
    {
     "data": {
      "text/plain": [
       "<keras.callbacks.History at 0x7fc801cdbfd0>"
      ]
     },
     "execution_count": 60,
     "metadata": {},
     "output_type": "execute_result"
    }
   ],
   "source": [
    "ft_model.fit(aug_train, \n",
    "             labels_aug, \n",
    "             validation_data=(aug_val, val_labels_aug), nb_epoch=1)"
   ]
  },
  {
   "cell_type": "code",
   "execution_count": 61,
   "metadata": {
    "ExecuteTime": {
     "end_time": "2017-07-27T03:02:56.264436Z",
     "start_time": "2017-07-27T03:02:56.241613Z"
    },
    "collapsed": true,
    "hidden": true
   },
   "outputs": [],
   "source": [
    "ft_model.model.save_weights(model_dir+\"vgg_precompute_conv_3epochs.h5\")"
   ]
  },
  {
   "cell_type": "code",
   "execution_count": 62,
   "metadata": {
    "ExecuteTime": {
     "end_time": "2017-07-27T03:03:16.702324Z",
     "start_time": "2017-07-27T03:03:16.690155Z"
    },
    "collapsed": true,
    "hidden": true
   },
   "outputs": [],
   "source": [
    "ft_model.compile(optimizer=Adam(lr=0.00001), loss='categorical_crossentropy', metrics=['accuracy'])"
   ]
  },
  {
   "cell_type": "markdown",
   "metadata": {
    "hidden": true
   },
   "source": [
    "**This is our winner.**"
   ]
  },
  {
   "cell_type": "code",
   "execution_count": 63,
   "metadata": {
    "ExecuteTime": {
     "end_time": "2017-07-27T03:03:55.213637Z",
     "start_time": "2017-07-27T03:03:23.377084Z"
    },
    "hidden": true
   },
   "outputs": [
    {
     "name": "stdout",
     "output_type": "stream",
     "text": [
      "Train on 102205 samples, validate on 1983 samples\n",
      "Epoch 1/1\n",
      "102205/102205 [==============================] - 26s - loss: 0.5625 - acc: 0.8186 - val_loss: 0.8546 - val_acc: 0.7186\n"
     ]
    },
    {
     "data": {
      "text/plain": [
       "<keras.callbacks.History at 0x7fc7ff10df10>"
      ]
     },
     "execution_count": 63,
     "metadata": {},
     "output_type": "execute_result"
    }
   ],
   "source": [
    "ft_model.fit(aug_train, \n",
    "             labels_aug, \n",
    "             validation_data=(aug_val, val_labels_aug), nb_epoch=1)"
   ]
  },
  {
   "cell_type": "code",
   "execution_count": 64,
   "metadata": {
    "ExecuteTime": {
     "end_time": "2017-07-27T03:04:34.191502Z",
     "start_time": "2017-07-27T03:04:34.167597Z"
    },
    "collapsed": true,
    "hidden": true
   },
   "outputs": [],
   "source": [
    "ft_model.model.save_weights(model_dir+\"vgg_precompute_conv_4epochs.h5\")"
   ]
  },
  {
   "cell_type": "code",
   "execution_count": 65,
   "metadata": {
    "ExecuteTime": {
     "end_time": "2017-07-27T03:05:06.258100Z",
     "start_time": "2017-07-27T03:04:40.082501Z"
    },
    "hidden": true
   },
   "outputs": [
    {
     "name": "stdout",
     "output_type": "stream",
     "text": [
      "Train on 102205 samples, validate on 1983 samples\n",
      "Epoch 1/1\n",
      "102205/102205 [==============================] - 26s - loss: 0.5293 - acc: 0.8322 - val_loss: 0.8933 - val_acc: 0.7105\n"
     ]
    },
    {
     "data": {
      "text/plain": [
       "<keras.callbacks.History at 0x7fc7ff39ffd0>"
      ]
     },
     "execution_count": 65,
     "metadata": {},
     "output_type": "execute_result"
    }
   ],
   "source": [
    "ft_model.fit(aug_train, \n",
    "             labels_aug, \n",
    "             validation_data=(aug_val, val_labels_aug), nb_epoch=1)"
   ]
  },
  {
   "cell_type": "code",
   "execution_count": 66,
   "metadata": {
    "ExecuteTime": {
     "end_time": "2017-07-27T03:06:09.671367Z",
     "start_time": "2017-07-27T03:06:09.647608Z"
    },
    "collapsed": true,
    "hidden": true
   },
   "outputs": [],
   "source": [
    "ft_model.model.save_weights(model_dir+\"vgg_precompute_conv_5epochs.h5\")"
   ]
  },
  {
   "cell_type": "code",
   "execution_count": 67,
   "metadata": {
    "ExecuteTime": {
     "end_time": "2017-07-27T03:06:14.811638Z",
     "start_time": "2017-07-27T03:06:14.798823Z"
    },
    "collapsed": true,
    "hidden": true
   },
   "outputs": [],
   "source": [
    "ft_model.compile(optimizer=Adam(lr=0.000001), loss='categorical_crossentropy', metrics=['accuracy'])"
   ]
  },
  {
   "cell_type": "code",
   "execution_count": 68,
   "metadata": {
    "ExecuteTime": {
     "end_time": "2017-07-27T03:06:47.881047Z",
     "start_time": "2017-07-27T03:06:16.992704Z"
    },
    "hidden": true
   },
   "outputs": [
    {
     "name": "stdout",
     "output_type": "stream",
     "text": [
      "Train on 102205 samples, validate on 1983 samples\n",
      "Epoch 1/1\n",
      "102205/102205 [==============================] - 25s - loss: 0.5068 - acc: 0.8392 - val_loss: 0.8951 - val_acc: 0.7110\n"
     ]
    },
    {
     "data": {
      "text/plain": [
       "<keras.callbacks.History at 0x7fc801968ed0>"
      ]
     },
     "execution_count": 68,
     "metadata": {},
     "output_type": "execute_result"
    }
   ],
   "source": [
    "ft_model.fit(aug_train, \n",
    "             labels_aug, \n",
    "             validation_data=(aug_val, val_labels_aug), nb_epoch=1)"
   ]
  },
  {
   "cell_type": "code",
   "execution_count": 69,
   "metadata": {
    "ExecuteTime": {
     "end_time": "2017-07-27T03:08:39.021944Z",
     "start_time": "2017-07-27T03:08:12.925638Z"
    },
    "hidden": true
   },
   "outputs": [
    {
     "name": "stdout",
     "output_type": "stream",
     "text": [
      "Train on 102205 samples, validate on 1983 samples\n",
      "Epoch 1/1\n",
      "102205/102205 [==============================] - 26s - loss: 0.5032 - acc: 0.8419 - val_loss: 0.8806 - val_acc: 0.7141\n"
     ]
    },
    {
     "data": {
      "text/plain": [
       "<keras.callbacks.History at 0x7fc801c62790>"
      ]
     },
     "execution_count": 69,
     "metadata": {},
     "output_type": "execute_result"
    }
   ],
   "source": [
    "ft_model.fit(aug_train, \n",
    "             labels_aug, \n",
    "             validation_data=(aug_val, val_labels_aug), nb_epoch=1)"
   ]
  },
  {
   "cell_type": "code",
   "execution_count": 70,
   "metadata": {
    "ExecuteTime": {
     "end_time": "2017-07-27T03:09:14.656173Z",
     "start_time": "2017-07-27T03:08:48.278678Z"
    },
    "hidden": true
   },
   "outputs": [
    {
     "name": "stdout",
     "output_type": "stream",
     "text": [
      "Train on 102205 samples, validate on 1983 samples\n",
      "Epoch 1/1\n",
      "102205/102205 [==============================] - 26s - loss: 0.5043 - acc: 0.8414 - val_loss: 0.8648 - val_acc: 0.7191\n"
     ]
    },
    {
     "data": {
      "text/plain": [
       "<keras.callbacks.History at 0x7fc7ff123150>"
      ]
     },
     "execution_count": 70,
     "metadata": {},
     "output_type": "execute_result"
    }
   ],
   "source": [
    "ft_model.fit(aug_train, \n",
    "             labels_aug, \n",
    "             validation_data=(aug_val, val_labels_aug), nb_epoch=1)"
   ]
  },
  {
   "cell_type": "code",
   "execution_count": 71,
   "metadata": {
    "ExecuteTime": {
     "end_time": "2017-07-27T03:10:05.578367Z",
     "start_time": "2017-07-27T03:09:39.423967Z"
    },
    "hidden": true
   },
   "outputs": [
    {
     "name": "stdout",
     "output_type": "stream",
     "text": [
      "Train on 102205 samples, validate on 1983 samples\n",
      "Epoch 1/1\n",
      "102205/102205 [==============================] - 26s - loss: 0.4994 - acc: 0.8424 - val_loss: 0.8752 - val_acc: 0.7141\n"
     ]
    },
    {
     "data": {
      "text/plain": [
       "<keras.callbacks.History at 0x7fc801c62210>"
      ]
     },
     "execution_count": 71,
     "metadata": {},
     "output_type": "execute_result"
    }
   ],
   "source": [
    "ft_model.fit(aug_train, \n",
    "             labels_aug, \n",
    "             validation_data=(aug_val, val_labels_aug), nb_epoch=1)"
   ]
  },
  {
   "cell_type": "markdown",
   "metadata": {
    "heading_collapsed": true
   },
   "source": [
    "# Without Halving Regularization Params"
   ]
  },
  {
   "cell_type": "code",
   "execution_count": 72,
   "metadata": {
    "ExecuteTime": {
     "end_time": "2017-07-27T03:10:56.808193Z",
     "start_time": "2017-07-27T03:10:56.607264Z"
    },
    "hidden": true
   },
   "outputs": [],
   "source": [
    "# inp = Input(conv_model.layers[-1].output_shape[1:])\n",
    "# mp1 = MaxPooling2D((2,2))(inp)\n",
    "# fl1 = Flatten()(mp1)\n",
    "# bn1 = BatchNormalization(axis=1)(fl1)\n",
    "# dr1 = Dropout(0.5)(bn1)\n",
    "# dn1 = Dense(128, activation='relu')(dr1)\n",
    "# bn2 = BatchNormalization()(dn1)\n",
    "# dr2 = Dropout(0.5)(bn2)\n",
    "# dn2 = Dense(128, activation='relu')(dr2)\n",
    "# bn3 = BatchNormalization()(dn2)\n",
    "# dr3 = Dropout(0.5)(bn3)\n",
    "# dn3 = Dense(10, activation='softmax')(dr3)\n",
    "\n",
    "# ft_model = Model(input=inp, output=dn3)\n",
    "p = .8\n",
    "ft_model = Sequential([\n",
    "        MaxPooling2D(input_shape=conv_model.layers[-1].output_shape[1:]),\n",
    "        Flatten(),\n",
    "        Dropout(p),\n",
    "        Dense(128, activation='relu'),\n",
    "        BatchNormalization(),\n",
    "        Dropout(p),\n",
    "        Dense(128, activation='relu'),\n",
    "        BatchNormalization(),\n",
    "        Dropout(p),\n",
    "        Dense(10, activation='softmax')\n",
    "    ])"
   ]
  },
  {
   "cell_type": "markdown",
   "metadata": {
    "hidden": true
   },
   "source": [
    "Interestingly, my version took up too much memory. I can't figure out exactly why seeing as I only used one extra layer and my architecture was nearly the same. need to research this more."
   ]
  },
  {
   "cell_type": "code",
   "execution_count": 73,
   "metadata": {
    "ExecuteTime": {
     "end_time": "2017-07-27T03:11:01.691870Z",
     "start_time": "2017-07-27T03:11:01.688008Z"
    },
    "hidden": true
   },
   "outputs": [],
   "source": [
    "labels_aug = onehot(batch_aug.classes)"
   ]
  },
  {
   "cell_type": "code",
   "execution_count": 74,
   "metadata": {
    "ExecuteTime": {
     "end_time": "2017-07-27T03:11:08.402007Z",
     "start_time": "2017-07-27T03:11:08.398899Z"
    },
    "collapsed": true,
    "hidden": true
   },
   "outputs": [],
   "source": [
    "val_labels_aug = onehot(val_aug.classes)"
   ]
  },
  {
   "cell_type": "code",
   "execution_count": 75,
   "metadata": {
    "ExecuteTime": {
     "end_time": "2017-07-27T03:11:10.675872Z",
     "start_time": "2017-07-27T03:11:10.665311Z"
    },
    "collapsed": true,
    "hidden": true
   },
   "outputs": [],
   "source": [
    "import numpy as np\n",
    "import pandas as pd\n",
    "labels_aug = onehot(batch_aug.classes)\n",
    "for i in range(4):\n",
    "    labels_aug = np.concatenate([labels_aug, onehot(batch_aug.classes)], axis=0)"
   ]
  },
  {
   "cell_type": "code",
   "execution_count": 76,
   "metadata": {
    "ExecuteTime": {
     "end_time": "2017-07-27T03:11:12.064583Z",
     "start_time": "2017-07-27T03:11:12.059824Z"
    },
    "hidden": true
   },
   "outputs": [
    {
     "data": {
      "text/plain": [
       "(102205, 10)"
      ]
     },
     "execution_count": 76,
     "metadata": {},
     "output_type": "execute_result"
    }
   ],
   "source": [
    "labels_aug.shape"
   ]
  },
  {
   "cell_type": "code",
   "execution_count": 77,
   "metadata": {
    "ExecuteTime": {
     "end_time": "2017-07-27T03:11:16.783881Z",
     "start_time": "2017-07-27T03:11:16.770628Z"
    },
    "collapsed": true,
    "hidden": true
   },
   "outputs": [],
   "source": [
    "ft_model.compile(optimizer=Adam(lr=0.001), loss='categorical_crossentropy', metrics=['accuracy'])"
   ]
  },
  {
   "cell_type": "code",
   "execution_count": 78,
   "metadata": {
    "ExecuteTime": {
     "end_time": "2017-07-27T03:11:49.403409Z",
     "start_time": "2017-07-27T03:11:18.566365Z"
    },
    "hidden": true
   },
   "outputs": [
    {
     "name": "stdout",
     "output_type": "stream",
     "text": [
      "Train on 102205 samples, validate on 1983 samples\n",
      "Epoch 1/1\n",
      "102205/102205 [==============================] - 25s - loss: 2.3150 - acc: 0.2018 - val_loss: 1.6149 - val_acc: 0.4730\n"
     ]
    },
    {
     "data": {
      "text/plain": [
       "<keras.callbacks.History at 0x7fc8006ca2d0>"
      ]
     },
     "execution_count": 78,
     "metadata": {},
     "output_type": "execute_result"
    }
   ],
   "source": [
    "ft_model.fit(aug_train, \n",
    "             labels_aug, \n",
    "             validation_data=(aug_val, val_labels_aug), nb_epoch=1)"
   ]
  },
  {
   "cell_type": "code",
   "execution_count": 79,
   "metadata": {
    "ExecuteTime": {
     "end_time": "2017-07-27T03:12:18.314657Z",
     "start_time": "2017-07-27T03:12:18.291167Z"
    },
    "collapsed": true,
    "hidden": true
   },
   "outputs": [],
   "source": [
    "ft_model.model.save_weights(\"vgg_precompute_conv_nohalf_1epoch.h5\")"
   ]
  },
  {
   "cell_type": "code",
   "execution_count": 80,
   "metadata": {
    "ExecuteTime": {
     "end_time": "2017-07-27T03:12:46.528271Z",
     "start_time": "2017-07-27T03:12:20.299247Z"
    },
    "hidden": true
   },
   "outputs": [
    {
     "name": "stdout",
     "output_type": "stream",
     "text": [
      "Train on 102205 samples, validate on 1983 samples\n",
      "Epoch 1/1\n",
      "102205/102205 [==============================] - 26s - loss: 1.6954 - acc: 0.3667 - val_loss: 1.3647 - val_acc: 0.5754\n"
     ]
    },
    {
     "data": {
      "text/plain": [
       "<keras.callbacks.History at 0x7fc7ff39fb90>"
      ]
     },
     "execution_count": 80,
     "metadata": {},
     "output_type": "execute_result"
    }
   ],
   "source": [
    "ft_model.fit(aug_train, \n",
    "             labels_aug, \n",
    "             validation_data=(aug_val, val_labels_aug), nb_epoch=1)"
   ]
  },
  {
   "cell_type": "code",
   "execution_count": 81,
   "metadata": {
    "ExecuteTime": {
     "end_time": "2017-07-27T03:13:04.170078Z",
     "start_time": "2017-07-27T03:13:04.145719Z"
    },
    "collapsed": true,
    "hidden": true
   },
   "outputs": [],
   "source": [
    "ft_model.model.save_weights(\"vgg_precompute_conv_nohalf_2epochs.h5\")"
   ]
  },
  {
   "cell_type": "code",
   "execution_count": 82,
   "metadata": {
    "ExecuteTime": {
     "end_time": "2017-07-27T03:13:38.454017Z",
     "start_time": "2017-07-27T03:13:12.296725Z"
    },
    "hidden": true
   },
   "outputs": [
    {
     "name": "stdout",
     "output_type": "stream",
     "text": [
      "Train on 102205 samples, validate on 1983 samples\n",
      "Epoch 1/1\n",
      "102205/102205 [==============================] - 26s - loss: 1.5149 - acc: 0.4473 - val_loss: 1.2412 - val_acc: 0.6152\n"
     ]
    },
    {
     "data": {
      "text/plain": [
       "<keras.callbacks.History at 0x7fc8006caf10>"
      ]
     },
     "execution_count": 82,
     "metadata": {},
     "output_type": "execute_result"
    }
   ],
   "source": [
    "ft_model.fit(aug_train, \n",
    "             labels_aug, \n",
    "             validation_data=(aug_val, val_labels_aug), nb_epoch=1)"
   ]
  },
  {
   "cell_type": "code",
   "execution_count": 83,
   "metadata": {
    "ExecuteTime": {
     "end_time": "2017-07-27T03:13:52.866590Z",
     "start_time": "2017-07-27T03:13:52.842994Z"
    },
    "collapsed": true,
    "hidden": true
   },
   "outputs": [],
   "source": [
    "ft_model.model.save_weights(\"vgg_precompute_conv_nohalf_3epochs.h5\")"
   ]
  },
  {
   "cell_type": "code",
   "execution_count": 84,
   "metadata": {
    "ExecuteTime": {
     "end_time": "2017-07-27T03:14:21.722170Z",
     "start_time": "2017-07-27T03:13:55.738905Z"
    },
    "hidden": true
   },
   "outputs": [
    {
     "name": "stdout",
     "output_type": "stream",
     "text": [
      "Train on 102205 samples, validate on 1983 samples\n",
      "Epoch 1/1\n",
      "102205/102205 [==============================] - 25s - loss: 1.4165 - acc: 0.4917 - val_loss: 1.1707 - val_acc: 0.6440\n"
     ]
    },
    {
     "data": {
      "text/plain": [
       "<keras.callbacks.History at 0x7fc8006c9650>"
      ]
     },
     "execution_count": 84,
     "metadata": {},
     "output_type": "execute_result"
    }
   ],
   "source": [
    "ft_model.fit(aug_train, \n",
    "             labels_aug, \n",
    "             validation_data=(aug_val, val_labels_aug), nb_epoch=1)"
   ]
  },
  {
   "cell_type": "code",
   "execution_count": 85,
   "metadata": {
    "ExecuteTime": {
     "end_time": "2017-07-27T03:14:42.258808Z",
     "start_time": "2017-07-27T03:14:42.235913Z"
    },
    "collapsed": true,
    "hidden": true
   },
   "outputs": [],
   "source": [
    "ft_model.model.save_weights(\"vgg_precompute_conv_nohalf_4epochs.h5\")"
   ]
  },
  {
   "cell_type": "code",
   "execution_count": 86,
   "metadata": {
    "ExecuteTime": {
     "end_time": "2017-07-27T03:15:09.682733Z",
     "start_time": "2017-07-27T03:14:43.638060Z"
    },
    "hidden": true
   },
   "outputs": [
    {
     "name": "stdout",
     "output_type": "stream",
     "text": [
      "Train on 102205 samples, validate on 1983 samples\n",
      "Epoch 1/1\n",
      "102205/102205 [==============================] - 26s - loss: 1.3519 - acc: 0.5173 - val_loss: 1.1822 - val_acc: 0.6349\n"
     ]
    },
    {
     "data": {
      "text/plain": [
       "<keras.callbacks.History at 0x7fc8006c9790>"
      ]
     },
     "execution_count": 86,
     "metadata": {},
     "output_type": "execute_result"
    }
   ],
   "source": [
    "ft_model.fit(aug_train, \n",
    "             labels_aug, \n",
    "             validation_data=(aug_val, val_labels_aug), nb_epoch=1)"
   ]
  },
  {
   "cell_type": "code",
   "execution_count": 87,
   "metadata": {
    "ExecuteTime": {
     "end_time": "2017-07-27T03:15:21.136913Z",
     "start_time": "2017-07-27T03:15:21.113521Z"
    },
    "collapsed": true,
    "hidden": true
   },
   "outputs": [],
   "source": [
    "ft_model.model.save_weights(\"vgg_precompute_conv_nohalf_5epochs.h5\")"
   ]
  },
  {
   "cell_type": "code",
   "execution_count": 88,
   "metadata": {
    "ExecuteTime": {
     "end_time": "2017-07-27T03:15:30.231035Z",
     "start_time": "2017-07-27T03:15:30.218737Z"
    },
    "collapsed": true,
    "hidden": true
   },
   "outputs": [],
   "source": [
    "ft_model.compile(optimizer=Adam(lr=0.00001), loss='categorical_crossentropy', metrics=['accuracy'])"
   ]
  },
  {
   "cell_type": "code",
   "execution_count": 89,
   "metadata": {
    "ExecuteTime": {
     "end_time": "2017-07-27T03:16:03.795841Z",
     "start_time": "2017-07-27T03:15:32.807604Z"
    },
    "hidden": true
   },
   "outputs": [
    {
     "name": "stdout",
     "output_type": "stream",
     "text": [
      "Train on 102205 samples, validate on 1983 samples\n",
      "Epoch 1/1\n",
      "102205/102205 [==============================] - 26s - loss: 1.3165 - acc: 0.5347 - val_loss: 1.1875 - val_acc: 0.6359\n"
     ]
    },
    {
     "data": {
      "text/plain": [
       "<keras.callbacks.History at 0x7fc7fd727a10>"
      ]
     },
     "execution_count": 89,
     "metadata": {},
     "output_type": "execute_result"
    }
   ],
   "source": [
    "ft_model.fit(aug_train, \n",
    "             labels_aug, \n",
    "             validation_data=(aug_val, val_labels_aug), nb_epoch=1)"
   ]
  },
  {
   "cell_type": "code",
   "execution_count": 90,
   "metadata": {
    "ExecuteTime": {
     "end_time": "2017-07-27T03:16:39.757677Z",
     "start_time": "2017-07-27T03:16:13.541418Z"
    },
    "hidden": true
   },
   "outputs": [
    {
     "name": "stdout",
     "output_type": "stream",
     "text": [
      "Train on 102205 samples, validate on 1983 samples\n",
      "Epoch 1/1\n",
      "102205/102205 [==============================] - 26s - loss: 1.3142 - acc: 0.5364 - val_loss: 1.1715 - val_acc: 0.6404\n"
     ]
    },
    {
     "data": {
      "text/plain": [
       "<keras.callbacks.History at 0x7fc7ff5f7810>"
      ]
     },
     "execution_count": 90,
     "metadata": {},
     "output_type": "execute_result"
    }
   ],
   "source": [
    "ft_model.fit(aug_train, \n",
    "             labels_aug, \n",
    "             validation_data=(aug_val, val_labels_aug), nb_epoch=1)"
   ]
  },
  {
   "cell_type": "code",
   "execution_count": 91,
   "metadata": {
    "ExecuteTime": {
     "end_time": "2017-07-27T03:17:18.456933Z",
     "start_time": "2017-07-27T03:16:52.242635Z"
    },
    "hidden": true
   },
   "outputs": [
    {
     "name": "stdout",
     "output_type": "stream",
     "text": [
      "Train on 102205 samples, validate on 1983 samples\n",
      "Epoch 1/1\n",
      "102205/102205 [==============================] - 26s - loss: 1.3067 - acc: 0.5391 - val_loss: 1.1729 - val_acc: 0.6394\n"
     ]
    },
    {
     "data": {
      "text/plain": [
       "<keras.callbacks.History at 0x7fc7ff5f8ad0>"
      ]
     },
     "execution_count": 91,
     "metadata": {},
     "output_type": "execute_result"
    }
   ],
   "source": [
    "ft_model.fit(aug_train, \n",
    "             labels_aug, \n",
    "             validation_data=(aug_val, val_labels_aug), nb_epoch=1)"
   ]
  },
  {
   "cell_type": "markdown",
   "metadata": {
    "hidden": true
   },
   "source": [
    "Done -- looks like we're not beating our original model."
   ]
  },
  {
   "cell_type": "code",
   "execution_count": null,
   "metadata": {
    "collapsed": true,
    "hidden": true
   },
   "outputs": [],
   "source": []
  },
  {
   "cell_type": "markdown",
   "metadata": {
    "heading_collapsed": true
   },
   "source": [
    "# Create Prediction File"
   ]
  },
  {
   "cell_type": "code",
   "execution_count": 3,
   "metadata": {
    "ExecuteTime": {
     "end_time": "2017-07-27T03:22:17.275128Z",
     "start_time": "2017-07-27T03:22:14.851812Z"
    },
    "hidden": true
   },
   "outputs": [
    {
     "name": "stdout",
     "output_type": "stream",
     "text": [
      "Found 79726 images belonging to 1 classes.\n"
     ]
    }
   ],
   "source": [
    "test_batches = get_batches(\"data/test\", batch_size=64, shuffle=False)"
   ]
  },
  {
   "cell_type": "code",
   "execution_count": 4,
   "metadata": {
    "ExecuteTime": {
     "end_time": "2017-07-27T03:56:11.163039Z",
     "start_time": "2017-07-27T03:22:18.724462Z"
    },
    "hidden": true
   },
   "outputs": [],
   "source": [
    "test_set_conv_output = conv_model.predict_generator(test_batches, \n",
    "                                                    val_samples=test_batches.nb_sample)"
   ]
  },
  {
   "cell_type": "code",
   "execution_count": 6,
   "metadata": {
    "ExecuteTime": {
     "end_time": "2017-07-27T03:56:50.779712Z",
     "start_time": "2017-07-27T03:56:30.348208Z"
    },
    "hidden": true
   },
   "outputs": [],
   "source": [
    "save_array(\"serialized/test_set_conv_output.dat\", test_set_conv_output)"
   ]
  },
  {
   "cell_type": "code",
   "execution_count": 7,
   "metadata": {
    "ExecuteTime": {
     "end_time": "2017-07-27T04:02:45.174369Z",
     "start_time": "2017-07-27T04:02:44.981336Z"
    },
    "collapsed": true,
    "hidden": true
   },
   "outputs": [],
   "source": [
    "p = .8\n",
    "final_model = Sequential([\n",
    "    MaxPooling2D(input_shape=conv_model.layers[-1].output_shape[1:]),\n",
    "    Flatten(),\n",
    "    Dropout(p/2.),\n",
    "    Dense(128, activation='relu'),\n",
    "    BatchNormalization(),\n",
    "    Dropout(p/2.),\n",
    "    Dense(128, activation='relu'),\n",
    "    BatchNormalization(),\n",
    "    Dropout(p),\n",
    "    Dense(10, activation='softmax')\n",
    "])"
   ]
  },
  {
   "cell_type": "code",
   "execution_count": 13,
   "metadata": {
    "ExecuteTime": {
     "end_time": "2017-07-27T04:04:44.918363Z",
     "start_time": "2017-07-27T04:04:44.902234Z"
    },
    "hidden": true
   },
   "outputs": [],
   "source": [
    "final_model.load_weights(model_dir+\"vgg_precompute_conv_4epochs.h5\")"
   ]
  },
  {
   "cell_type": "code",
   "execution_count": 37,
   "metadata": {
    "ExecuteTime": {
     "end_time": "2017-07-27T04:49:18.744433Z",
     "start_time": "2017-07-27T04:49:18.734299Z"
    },
    "collapsed": true,
    "hidden": true
   },
   "outputs": [],
   "source": [
    "def create_prediction_file(filename, preds=None, model=None, clip_rate=.01):\n",
    "    if not preds:\n",
    "        preds = np.clip(model.predict(test_set_conv_output), \n",
    "                        a_min=clip_rate, \n",
    "                        a_max=1-clip_rate)\n",
    "    elif not model and not preds:\n",
    "        raise ValueError(\"Must pass either preds or a model.\")\n",
    "        \n",
    "    files = os.listdir(\"data/test/unknown/\")\n",
    "        \n",
    "    pred_str = map(lambda x: \",\".join([\"%.10f\" % i for i in x]), preds.tolist())\n",
    "    rows = [\",\".join([a,b]) + \"\\n\" for a,b in zip(files, pred_str)]\n",
    "    with open(filename, \"a\") as f:\n",
    "        f.write(\"img,c0,c1,c2,c3,c4,c5,c6,c7,c8,c9\\n\")\n",
    "        for row in rows:\n",
    "            f.write(row)"
   ]
  },
  {
   "cell_type": "code",
   "execution_count": 35,
   "metadata": {
    "ExecuteTime": {
     "end_time": "2017-07-27T04:28:49.576768Z",
     "start_time": "2017-07-27T04:28:33.654405Z"
    },
    "hidden": true
   },
   "outputs": [],
   "source": [
    "create_prediction_file(\"results/vgg_precompute_imgaug_clip01.csv\", model=final_model)"
   ]
  },
  {
   "cell_type": "code",
   "execution_count": 36,
   "metadata": {
    "ExecuteTime": {
     "end_time": "2017-07-27T04:28:52.130789Z",
     "start_time": "2017-07-27T04:28:52.125827Z"
    },
    "hidden": true
   },
   "outputs": [
    {
     "data": {
      "text/html": [
       "<a href='results/vgg_precompute_imgaug_clip01.csv' target='_blank'>results/vgg_precompute_imgaug_clip01.csv</a><br>"
      ],
      "text/plain": [
       "/home/ubuntu/statefarm-kaggle/results/vgg_precompute_imgaug_clip01.csv"
      ]
     },
     "execution_count": 36,
     "metadata": {},
     "output_type": "execute_result"
    }
   ],
   "source": [
    "FileLink(\"results/vgg_precompute_imgaug_clip01.csv\")"
   ]
  },
  {
   "cell_type": "code",
   "execution_count": 38,
   "metadata": {
    "ExecuteTime": {
     "end_time": "2017-07-27T04:50:07.410467Z",
     "start_time": "2017-07-27T04:49:51.235222Z"
    },
    "collapsed": true,
    "hidden": true
   },
   "outputs": [],
   "source": [
    "create_prediction_file(\"results/vgg_precompute_imgaug_clip005.csv\", model=final_model, \n",
    "                       clip_rate=.005)"
   ]
  },
  {
   "cell_type": "code",
   "execution_count": 39,
   "metadata": {
    "ExecuteTime": {
     "end_time": "2017-07-27T04:50:09.888298Z",
     "start_time": "2017-07-27T04:50:09.883665Z"
    },
    "hidden": true
   },
   "outputs": [
    {
     "data": {
      "text/html": [
       "<a href='results/vgg_precompute_imgaug_clip005.csv' target='_blank'>results/vgg_precompute_imgaug_clip005.csv</a><br>"
      ],
      "text/plain": [
       "/home/ubuntu/statefarm-kaggle/results/vgg_precompute_imgaug_clip005.csv"
      ]
     },
     "execution_count": 39,
     "metadata": {},
     "output_type": "execute_result"
    }
   ],
   "source": [
    "FileLink(\"results/vgg_precompute_imgaug_clip005.csv\")"
   ]
  }
 ],
 "metadata": {
  "kernelspec": {
   "display_name": "Python 2",
   "language": "python",
   "name": "python2"
  },
  "language_info": {
   "codemirror_mode": {
    "name": "ipython",
    "version": 2
   },
   "file_extension": ".py",
   "mimetype": "text/x-python",
   "name": "python",
   "nbconvert_exporter": "python",
   "pygments_lexer": "ipython2",
   "version": "2.7.13"
  }
 },
 "nbformat": 4,
 "nbformat_minor": 2
}
