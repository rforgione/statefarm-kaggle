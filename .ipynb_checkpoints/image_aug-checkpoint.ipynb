{
 "cells": [
  {
   "cell_type": "markdown",
   "metadata": {},
   "source": [
    "# Setup"
   ]
  },
  {
   "cell_type": "markdown",
   "metadata": {},
   "source": [
    "## Imports"
   ]
  },
  {
   "cell_type": "code",
   "execution_count": 55,
   "metadata": {
    "ExecuteTime": {
     "end_time": "2017-08-01T02:57:59.287676Z",
     "start_time": "2017-08-01T02:57:59.280645Z"
    },
    "code_folding": []
   },
   "outputs": [],
   "source": [
    "from keras.models import Sequential, Model\n",
    "from keras.applications import VGG16\n",
    "from keras.layers import (Dense, BatchNormalization, Convolution2D, \n",
    "                         MaxPooling2D, Dropout, Input, Flatten)\n",
    "from keras.optimizers import Adam\n",
    "from keras_utilities import Vgg16, get_batches, onehot\n",
    "from keras.preprocessing.image import ImageDataGenerator\n",
    "from keras_utilities import load_array, save_array\n",
    "import os\n",
    "from IPython.display import FileLink\n",
    "import numpy as np\n",
    "from keras.metrics import categorical_crossentropy"
   ]
  },
  {
   "cell_type": "markdown",
   "metadata": {},
   "source": [
    "## Control Panel"
   ]
  },
  {
   "cell_type": "code",
   "execution_count": 2,
   "metadata": {
    "ExecuteTime": {
     "end_time": "2017-08-01T02:35:51.777149Z",
     "start_time": "2017-08-01T02:35:51.772826Z"
    },
    "collapsed": true
   },
   "outputs": [],
   "source": [
    "# path = \"sample/\"\n",
    "path = \"data/\"\n",
    "# path = \"microsample/\"\n",
    "\n",
    "model_dir = \"models/\"\n",
    "\n",
    "from_cache = True"
   ]
  },
  {
   "cell_type": "markdown",
   "metadata": {},
   "source": [
    "# Experiment with Augmentation"
   ]
  },
  {
   "cell_type": "code",
   "execution_count": null,
   "metadata": {
    "ExecuteTime": {
     "end_time": "2017-08-01T01:54:05.425144Z",
     "start_time": "2017-08-01T01:54:02.570233Z"
    },
    "collapsed": true
   },
   "outputs": [],
   "source": [
    "vgg = Vgg16()"
   ]
  },
  {
   "cell_type": "code",
   "execution_count": 46,
   "metadata": {
    "ExecuteTime": {
     "end_time": "2017-08-01T02:52:20.988383Z",
     "start_time": "2017-08-01T02:52:20.394292Z"
    }
   },
   "outputs": [
    {
     "name": "stdout",
     "output_type": "stream",
     "text": [
      "Found 20441 images belonging to 10 classes.\n",
      "Found 1983 images belonging to 10 classes.\n"
     ]
    }
   ],
   "source": [
    "trn_batches = get_batches(path+\"train\")\n",
    "val_batches = get_batches(path+\"valid\")"
   ]
  },
  {
   "cell_type": "code",
   "execution_count": 47,
   "metadata": {
    "ExecuteTime": {
     "end_time": "2017-08-01T02:52:21.908515Z",
     "start_time": "2017-08-01T02:52:21.904557Z"
    }
   },
   "outputs": [],
   "source": [
    "trn_labels = onehot(trn_batches.classes)\n",
    "val_labels = onehot(val_batches.classes)"
   ]
  },
  {
   "cell_type": "markdown",
   "metadata": {},
   "source": [
    "Fine-tune the vgg model."
   ]
  },
  {
   "cell_type": "code",
   "execution_count": null,
   "metadata": {
    "ExecuteTime": {
     "end_time": "2017-08-01T01:54:08.316687Z",
     "start_time": "2017-08-01T01:54:08.301149Z"
    },
    "collapsed": true
   },
   "outputs": [],
   "source": [
    "vgg.ft(10)"
   ]
  },
  {
   "cell_type": "markdown",
   "metadata": {},
   "source": [
    "Fit a baseline model to see what happens without any data augmentation."
   ]
  },
  {
   "cell_type": "code",
   "execution_count": null,
   "metadata": {
    "ExecuteTime": {
     "end_time": "2017-08-01T01:54:36.554568Z",
     "start_time": "2017-08-01T01:54:12.388926Z"
    },
    "collapsed": true
   },
   "outputs": [],
   "source": [
    "vgg.model.fit_generator(generator=trn_batches, samples_per_epoch=trn_batches.nb_sample, nb_epoch=1, \n",
    "                        validation_data=val_batches, nb_val_samples=val_batches.nb_sample)"
   ]
  },
  {
   "cell_type": "markdown",
   "metadata": {},
   "source": [
    "Without any augmentation, we get a val loss of 2.9975."
   ]
  },
  {
   "cell_type": "markdown",
   "metadata": {
    "heading_collapsed": true
   },
   "source": [
    "## ZCA Whitening"
   ]
  },
  {
   "cell_type": "code",
   "execution_count": null,
   "metadata": {
    "collapsed": true,
    "hidden": true
   },
   "outputs": [],
   "source": [
    "gen = ImageDataGenerator(zca_whitening=True)\n",
    "trn_batches = get_batches(path+\"train\", gen=gen)\n",
    "vgg = Vgg16()\n",
    "vgg.ft(10)\n",
    "vgg.model.fit_generator(generator=trn_batches, samples_per_epoch=trn_batches.nb_sample, nb_epoch=1, \n",
    "                        validation_data=val_batches, nb_val_samples=val_batches.nb_sample)"
   ]
  },
  {
   "cell_type": "markdown",
   "metadata": {
    "hidden": true
   },
   "source": [
    "Substantial improvement to 2.1387."
   ]
  },
  {
   "cell_type": "markdown",
   "metadata": {
    "hidden": true
   },
   "source": [
    "**Conclusion: use ZCA whitening**"
   ]
  },
  {
   "cell_type": "markdown",
   "metadata": {
    "heading_collapsed": true
   },
   "source": [
    "## Rotation Range"
   ]
  },
  {
   "cell_type": "code",
   "execution_count": null,
   "metadata": {
    "collapsed": true,
    "hidden": true
   },
   "outputs": [],
   "source": [
    "gen = ImageDataGenerator(rotation_range=.1)\n",
    "trn_batches = get_batches(path+\"train\", gen=gen)\n",
    "vgg = Vgg16()\n",
    "vgg.ft(10)\n",
    "vgg.model.fit_generator(generator=trn_batches, samples_per_epoch=trn_batches.nb_sample, nb_epoch=1, \n",
    "                        validation_data=val_batches, nb_val_samples=val_batches.nb_sample)"
   ]
  },
  {
   "cell_type": "markdown",
   "metadata": {
    "hidden": true
   },
   "source": [
    "Helped a little, not much."
   ]
  },
  {
   "cell_type": "code",
   "execution_count": null,
   "metadata": {
    "collapsed": true,
    "hidden": true
   },
   "outputs": [],
   "source": [
    "gen = ImageDataGenerator(rotation_range=.2)\n",
    "trn_batches = get_batches(path+\"train\", gen=gen)\n",
    "vgg = Vgg16()\n",
    "vgg.ft(10)\n",
    "vgg.model.fit_generator(generator=trn_batches, samples_per_epoch=trn_batches.nb_sample, nb_epoch=1, \n",
    "                        validation_data=val_batches, nb_val_samples=val_batches.nb_sample)"
   ]
  },
  {
   "cell_type": "markdown",
   "metadata": {
    "hidden": true
   },
   "source": [
    "Nice! Solid val loss."
   ]
  },
  {
   "cell_type": "code",
   "execution_count": null,
   "metadata": {
    "collapsed": true,
    "hidden": true
   },
   "outputs": [],
   "source": [
    "gen = ImageDataGenerator(rotation_range=.2)\n",
    "trn_batches = get_batches(path+\"train\", gen=gen)\n",
    "vgg = Vgg16()\n",
    "vgg.ft(10)\n",
    "vgg.model.fit_generator(generator=trn_batches, samples_per_epoch=trn_batches.nb_sample, nb_epoch=1, \n",
    "                        validation_data=val_batches, nb_val_samples=val_batches.nb_sample)\n"
   ]
  },
  {
   "cell_type": "markdown",
   "metadata": {
    "hidden": true
   },
   "source": [
    "**Conclusion: rotation range of 0.2. **"
   ]
  },
  {
   "cell_type": "markdown",
   "metadata": {
    "heading_collapsed": true
   },
   "source": [
    "## Width Shift Range"
   ]
  },
  {
   "cell_type": "code",
   "execution_count": null,
   "metadata": {
    "collapsed": true,
    "hidden": true
   },
   "outputs": [],
   "source": [
    "gen = ImageDataGenerator(width_shift_range=.1)\n",
    "trn_batches = get_batches(path+\"train\", gen=gen)\n",
    "vgg = Vgg16()\n",
    "vgg.ft(10)\n",
    "vgg.model.fit_generator(generator=trn_batches, samples_per_epoch=trn_batches.nb_sample, nb_epoch=1, \n",
    "                        validation_data=val_batches, nb_val_samples=val_batches.nb_sample)"
   ]
  },
  {
   "cell_type": "markdown",
   "metadata": {
    "collapsed": true,
    "hidden": true
   },
   "source": [
    "Better than without."
   ]
  },
  {
   "cell_type": "code",
   "execution_count": null,
   "metadata": {
    "collapsed": true,
    "hidden": true
   },
   "outputs": [],
   "source": [
    "gen = ImageDataGenerator(width_shift_range=.2)\n",
    "trn_batches = get_batches(path+\"train\", gen=gen)\n",
    "vgg = Vgg16()\n",
    "vgg.ft(10)\n",
    "vgg.model.fit_generator(generator=trn_batches, samples_per_epoch=trn_batches.nb_sample, nb_epoch=1, \n",
    "                        validation_data=val_batches, nb_val_samples=val_batches.nb_sample)"
   ]
  },
  {
   "cell_type": "markdown",
   "metadata": {
    "hidden": true
   },
   "source": [
    "WHOA big improvement!"
   ]
  },
  {
   "cell_type": "code",
   "execution_count": null,
   "metadata": {
    "collapsed": true,
    "hidden": true
   },
   "outputs": [],
   "source": [
    "gen = ImageDataGenerator(width_shift_range=.3)\n",
    "trn_batches = get_batches(path+\"train\", gen=gen)\n",
    "vgg = Vgg16()\n",
    "vgg.ft(10)\n",
    "vgg.model.fit_generator(generator=trn_batches, samples_per_epoch=trn_batches.nb_sample, nb_epoch=1, \n",
    "                        validation_data=val_batches, nb_val_samples=val_batches.nb_sample)"
   ]
  },
  {
   "cell_type": "markdown",
   "metadata": {
    "hidden": true
   },
   "source": [
    "Worse"
   ]
  },
  {
   "cell_type": "markdown",
   "metadata": {
    "hidden": true
   },
   "source": [
    "** Conclusion: 0.2 width shift range. **"
   ]
  },
  {
   "cell_type": "markdown",
   "metadata": {
    "heading_collapsed": true
   },
   "source": [
    "## Height Shift Range"
   ]
  },
  {
   "cell_type": "code",
   "execution_count": null,
   "metadata": {
    "collapsed": true,
    "hidden": true
   },
   "outputs": [],
   "source": [
    "gen = ImageDataGenerator(height_shift_range=.1)\n",
    "trn_batches = get_batches(path+\"train\", gen=gen)\n",
    "vgg = Vgg16()\n",
    "vgg.ft(10)\n",
    "vgg.model.fit_generator(generator=trn_batches, samples_per_epoch=trn_batches.nb_sample, nb_epoch=1, \n",
    "                        validation_data=val_batches, nb_val_samples=val_batches.nb_sample)"
   ]
  },
  {
   "cell_type": "code",
   "execution_count": null,
   "metadata": {
    "collapsed": true,
    "hidden": true
   },
   "outputs": [],
   "source": [
    "gen = ImageDataGenerator(height_shift_range=.2)\n",
    "trn_batches = get_batches(path+\"train\", gen=gen)\n",
    "vgg = Vgg16()\n",
    "vgg.ft(10)\n",
    "vgg.model.fit_generator(generator=trn_batches, samples_per_epoch=trn_batches.nb_sample, nb_epoch=1, \n",
    "                        validation_data=val_batches, nb_val_samples=val_batches.nb_sample)"
   ]
  },
  {
   "cell_type": "markdown",
   "metadata": {
    "hidden": true
   },
   "source": [
    "Worse"
   ]
  },
  {
   "cell_type": "code",
   "execution_count": null,
   "metadata": {
    "collapsed": true,
    "hidden": true
   },
   "outputs": [],
   "source": [
    "gen = ImageDataGenerator(height_shift_range=.3)\n",
    "trn_batches = get_batches(path+\"train\", gen=gen)\n",
    "vgg = Vgg16()\n",
    "vgg.ft(10)\n",
    "vgg.model.fit_generator(generator=trn_batches, samples_per_epoch=trn_batches.nb_sample, nb_epoch=1, \n",
    "                        validation_data=val_batches, nb_val_samples=val_batches.nb_sample)"
   ]
  },
  {
   "cell_type": "markdown",
   "metadata": {
    "collapsed": true,
    "heading_collapsed": true
   },
   "source": [
    "## Shear Range"
   ]
  },
  {
   "cell_type": "code",
   "execution_count": null,
   "metadata": {
    "collapsed": true,
    "hidden": true
   },
   "outputs": [],
   "source": [
    "gen = ImageDataGenerator(shear_range=.1)\n",
    "trn_batches = get_batches(path+\"train\", gen=gen)\n",
    "vgg = Vgg16()\n",
    "vgg.ft(10)\n",
    "vgg.model.fit_generator(generator=trn_batches, samples_per_epoch=trn_batches.nb_sample, nb_epoch=1, \n",
    "                        validation_data=val_batches, nb_val_samples=val_batches.nb_sample)"
   ]
  },
  {
   "cell_type": "markdown",
   "metadata": {
    "hidden": true
   },
   "source": [
    "Not bad."
   ]
  },
  {
   "cell_type": "code",
   "execution_count": null,
   "metadata": {
    "collapsed": true,
    "hidden": true
   },
   "outputs": [],
   "source": [
    "gen = ImageDataGenerator(shear_range=.2)\n",
    "trn_batches = get_batches(path+\"train\", gen=gen)\n",
    "vgg = Vgg16()\n",
    "vgg.ft(10)\n",
    "vgg.model.fit_generator(generator=trn_batches, samples_per_epoch=trn_batches.nb_sample, nb_epoch=1, \n",
    "                        validation_data=val_batches, nb_val_samples=val_batches.nb_sample)"
   ]
  },
  {
   "cell_type": "code",
   "execution_count": null,
   "metadata": {
    "collapsed": true,
    "hidden": true
   },
   "outputs": [],
   "source": [
    "gen = ImageDataGenerator(shear_range=.3)\n",
    "trn_batches = get_batches(path+\"train\", gen=gen)\n",
    "vgg = Vgg16()\n",
    "vgg.ft(10)\n",
    "vgg.model.fit_generator(generator=trn_batches, samples_per_epoch=trn_batches.nb_sample, nb_epoch=1, \n",
    "                        validation_data=val_batches, nb_val_samples=val_batches.nb_sample)"
   ]
  },
  {
   "cell_type": "markdown",
   "metadata": {
    "hidden": true
   },
   "source": [
    "Awful."
   ]
  },
  {
   "cell_type": "markdown",
   "metadata": {
    "hidden": true
   },
   "source": [
    "** Conclusion: shear range = .1 **"
   ]
  },
  {
   "cell_type": "markdown",
   "metadata": {
    "heading_collapsed": true
   },
   "source": [
    "## Zoom Range"
   ]
  },
  {
   "cell_type": "code",
   "execution_count": null,
   "metadata": {
    "collapsed": true,
    "hidden": true
   },
   "outputs": [],
   "source": [
    "gen = ImageDataGenerator(zoom_range=.1)\n",
    "trn_batches = get_batches(path+\"train\", gen=gen)\n",
    "vgg = Vgg16()\n",
    "vgg.ft(10)\n",
    "vgg.model.fit_generator(generator=trn_batches, samples_per_epoch=trn_batches.nb_sample, nb_epoch=1, \n",
    "                        validation_data=val_batches, nb_val_samples=val_batches.nb_sample)"
   ]
  },
  {
   "cell_type": "code",
   "execution_count": null,
   "metadata": {
    "collapsed": true,
    "hidden": true
   },
   "outputs": [],
   "source": [
    "gen = ImageDataGenerator(zoom_range=.2)\n",
    "trn_batches = get_batches(path+\"train\", gen=gen)\n",
    "vgg = Vgg16()\n",
    "vgg.ft(10)\n",
    "vgg.model.fit_generator(generator=trn_batches, samples_per_epoch=trn_batches.nb_sample, nb_epoch=1, \n",
    "                        validation_data=val_batches, nb_val_samples=val_batches.nb_sample)"
   ]
  },
  {
   "cell_type": "code",
   "execution_count": null,
   "metadata": {
    "collapsed": true,
    "hidden": true
   },
   "outputs": [],
   "source": [
    "gen = ImageDataGenerator(zoom_range=.3)\n",
    "trn_batches = get_batches(path+\"train\", gen=gen)\n",
    "vgg = Vgg16()\n",
    "vgg.ft(10)\n",
    "vgg.model.fit_generator(generator=trn_batches, samples_per_epoch=trn_batches.nb_sample, nb_epoch=1, \n",
    "                        validation_data=val_batches, nb_val_samples=val_batches.nb_sample)"
   ]
  },
  {
   "cell_type": "markdown",
   "metadata": {
    "hidden": true
   },
   "source": [
    "**Conclusion: zoom_range = 0.2 **"
   ]
  },
  {
   "cell_type": "markdown",
   "metadata": {
    "heading_collapsed": true
   },
   "source": [
    "## Channel Shift Range"
   ]
  },
  {
   "cell_type": "code",
   "execution_count": null,
   "metadata": {
    "collapsed": true,
    "hidden": true
   },
   "outputs": [],
   "source": [
    "gen = ImageDataGenerator(channel_shift_range=.1)\n",
    "trn_batches = get_batches(path+\"train\", gen=gen)\n",
    "vgg = Vgg16()\n",
    "vgg.ft(10)\n",
    "vgg.model.fit_generator(generator=trn_batches, samples_per_epoch=trn_batches.nb_sample, nb_epoch=1, \n",
    "                        validation_data=val_batches, nb_val_samples=val_batches.nb_sample)"
   ]
  },
  {
   "cell_type": "code",
   "execution_count": null,
   "metadata": {
    "collapsed": true,
    "hidden": true
   },
   "outputs": [],
   "source": [
    "gen = ImageDataGenerator(channel_shift_range=.2)\n",
    "trn_batches = get_batches(path+\"train\", gen=gen)\n",
    "vgg = Vgg16()\n",
    "vgg.ft(10)\n",
    "vgg.model.fit_generator(generator=trn_batches, samples_per_epoch=trn_batches.nb_sample, nb_epoch=1, \n",
    "                        validation_data=val_batches, nb_val_samples=val_batches.nb_sample)"
   ]
  },
  {
   "cell_type": "code",
   "execution_count": null,
   "metadata": {
    "collapsed": true,
    "hidden": true
   },
   "outputs": [],
   "source": [
    "gen = ImageDataGenerator(channel_shift_range=.3)\n",
    "trn_batches = get_batches(path+\"train\", gen=gen)\n",
    "vgg = Vgg16()\n",
    "vgg.ft(10)\n",
    "vgg.model.fit_generator(generator=trn_batches, samples_per_epoch=trn_batches.nb_sample, nb_epoch=1, \n",
    "                        validation_data=val_batches, nb_val_samples=val_batches.nb_sample)"
   ]
  },
  {
   "cell_type": "markdown",
   "metadata": {
    "hidden": true
   },
   "source": [
    "Final params:\n",
    "\n",
    "* ZCA Whitening = True\n",
    "* Rotation Range = 0.2\n",
    "* Width Shift Range = 0.2\n",
    "* Height Shift Range = 0.3\n",
    "* Shear Range = 0.1\n",
    "* Zoom Range = 0.2\n",
    "* Channel Shift Range = 0.2"
   ]
  },
  {
   "cell_type": "markdown",
   "metadata": {},
   "source": [
    "# Precompute Convolutional Layers"
   ]
  },
  {
   "cell_type": "code",
   "execution_count": 16,
   "metadata": {
    "ExecuteTime": {
     "end_time": "2017-08-01T02:41:14.526178Z",
     "start_time": "2017-08-01T02:41:08.206618Z"
    },
    "collapsed": true
   },
   "outputs": [],
   "source": [
    "vgg = Vgg16()\n",
    "last_conv_layer = [i for i,l in enumerate(vgg.model.layers) if isinstance(l, Convolution2D)][-1]\n",
    "conv_model = Model(input=vgg.model.input, output=vgg.model.layers[last_conv_layer].output)"
   ]
  },
  {
   "cell_type": "code",
   "execution_count": 17,
   "metadata": {
    "ExecuteTime": {
     "end_time": "2017-08-01T02:41:15.493697Z",
     "start_time": "2017-08-01T02:41:15.489981Z"
    },
    "collapsed": true
   },
   "outputs": [],
   "source": [
    "gen = ImageDataGenerator(zca_whitening=True, rotation_range=0.2, width_shift_range=0.2,\n",
    "                         height_shift_range=0.3, shear_range=0.1, zoom_range=0.2, \n",
    "                         channel_shift_range=0.2)"
   ]
  },
  {
   "cell_type": "code",
   "execution_count": 18,
   "metadata": {
    "ExecuteTime": {
     "end_time": "2017-08-01T02:41:16.996591Z",
     "start_time": "2017-08-01T02:41:16.453858Z"
    },
    "scrolled": true
   },
   "outputs": [
    {
     "name": "stdout",
     "output_type": "stream",
     "text": [
      "Found 20441 images belonging to 10 classes.\n"
     ]
    }
   ],
   "source": [
    "batch_aug = get_batches(\"data/train\", gen=gen, batch_size=32, shuffle=False)"
   ]
  },
  {
   "cell_type": "code",
   "execution_count": 19,
   "metadata": {
    "ExecuteTime": {
     "end_time": "2017-08-01T02:41:21.997726Z",
     "start_time": "2017-08-01T02:41:21.940892Z"
    }
   },
   "outputs": [
    {
     "name": "stdout",
     "output_type": "stream",
     "text": [
      "Found 1983 images belonging to 10 classes.\n"
     ]
    }
   ],
   "source": [
    "val_aug = get_batches(\"data/valid\", gen=ImageDataGenerator(), batch_size=32, shuffle=False)"
   ]
  },
  {
   "cell_type": "code",
   "execution_count": 20,
   "metadata": {
    "ExecuteTime": {
     "end_time": "2017-08-01T02:41:26.022716Z",
     "start_time": "2017-08-01T02:41:22.925333Z"
    }
   },
   "outputs": [
    {
     "name": "stdout",
     "output_type": "stream",
     "text": [
      "Found 79726 images belonging to 1 classes.\n"
     ]
    }
   ],
   "source": [
    "test_aug = get_batches(\"data/test\", gen=ImageDataGenerator(), batch_size=32, shuffle=False)"
   ]
  },
  {
   "cell_type": "markdown",
   "metadata": {
    "collapsed": true
   },
   "source": [
    "Generated a dataset 5x the side of our normal train set using image augmentation. This takes a really long time once but then we only need to train a couple of output layers which saves us iteration time going forward."
   ]
  },
  {
   "cell_type": "code",
   "execution_count": 10,
   "metadata": {
    "ExecuteTime": {
     "end_time": "2017-08-01T02:38:53.823711Z",
     "start_time": "2017-08-01T02:38:30.883973Z"
    },
    "collapsed": true
   },
   "outputs": [],
   "source": [
    "if from_cache:  \n",
    "    aug_train = load_array(\"serialized/aug_train.dat\")\n",
    "    aug_val = load_array(\"serialized/aug_val.dat\")\n",
    "#     aug_test = load_array(\"serialized/aug_test.dat\")\n",
    "else:\n",
    "    aug_train = conv_model.predict_generator(batch_aug, val_samples=batch_aug.nb_sample*5)\n",
    "    aug_val = conv_model.predict_generator(val_aug, val_samples=val_aug.nb_sample)\n",
    "#     aug_test = conv_model.predict_generator(test_aug, val_samples=test_aug.nb_sample) \n",
    "    # cache precomputed data\n",
    "    save_array(\"serialized/aug_train.dat\", aug_train)\n",
    "    save_array(\"serialized/aug_val.dat\", aug_val)\n",
    "#     save_array(\"serialized/aug_test.dat\", aug_test)"
   ]
  },
  {
   "cell_type": "markdown",
   "metadata": {},
   "source": [
    "# Train VGG Dense Layers"
   ]
  },
  {
   "cell_type": "markdown",
   "metadata": {},
   "source": [
    "Save this so we don't have to deal with this again."
   ]
  },
  {
   "cell_type": "markdown",
   "metadata": {},
   "source": [
    "This is a vgg-inspired set of layers, but I'm not copying their architecture to a T. I'mma do me."
   ]
  },
  {
   "cell_type": "code",
   "execution_count": 51,
   "metadata": {
    "ExecuteTime": {
     "end_time": "2017-08-01T02:54:06.485593Z",
     "start_time": "2017-08-01T02:54:06.284395Z"
    }
   },
   "outputs": [],
   "source": [
    "# inp = Input(conv_model.layers[-1].output_shape[1:])\n",
    "# mp1 = MaxPooling2D((2,2))(inp)\n",
    "# fl1 = Flatten()(mp1)\n",
    "# bn1 = BatchNormalization(axis=1)(fl1)\n",
    "# dr1 = Dropout(0.5)(bn1)\n",
    "# dn1 = Dense(128, activation='relu')(dr1)\n",
    "# bn2 = BatchNormalization()(dn1)\n",
    "# dr2 = Dropout(0.5)(bn2)\n",
    "# dn2 = Dense(128, activation='relu')(dr2)\n",
    "# bn3 = BatchNormalization()(dn2)\n",
    "# dr3 = Dropout(0.5)(bn3)\n",
    "# dn3 = Dense(10, activation='softmax')(dr3)\n",
    "\n",
    "# ft_model = Model(input=inp, output=dn3)\n",
    "p = .8\n",
    "ft_model = Sequential([\n",
    "        MaxPooling2D(input_shape=conv_model.layers[-1].output_shape[1:]),\n",
    "        Flatten(),\n",
    "        Dropout(p/2.),\n",
    "        Dense(128, activation='relu'),\n",
    "        BatchNormalization(),\n",
    "        Dropout(p/2.),\n",
    "        Dense(128, activation='relu'),\n",
    "        BatchNormalization(),\n",
    "        Dropout(p),\n",
    "        Dense(10, activation='softmax')\n",
    "    ])"
   ]
  },
  {
   "cell_type": "markdown",
   "metadata": {},
   "source": [
    "Interestingly, my version took up too much memory. I can't figure out exactly why seeing as I only used one extra layer and my architecture was nearly the same. need to research this more."
   ]
  },
  {
   "cell_type": "code",
   "execution_count": 21,
   "metadata": {
    "ExecuteTime": {
     "end_time": "2017-08-01T02:41:46.091719Z",
     "start_time": "2017-08-01T02:41:46.088186Z"
    }
   },
   "outputs": [],
   "source": [
    "labels_aug = onehot(batch_aug.classes)"
   ]
  },
  {
   "cell_type": "code",
   "execution_count": 22,
   "metadata": {
    "ExecuteTime": {
     "end_time": "2017-08-01T02:41:49.618406Z",
     "start_time": "2017-08-01T02:41:49.615002Z"
    },
    "collapsed": true
   },
   "outputs": [],
   "source": [
    "val_labels_aug = onehot(val_aug.classes)"
   ]
  },
  {
   "cell_type": "code",
   "execution_count": 35,
   "metadata": {
    "ExecuteTime": {
     "end_time": "2017-08-01T02:48:19.363908Z",
     "start_time": "2017-08-01T02:48:19.347006Z"
    },
    "collapsed": true
   },
   "outputs": [],
   "source": [
    "import numpy as np\n",
    "import pandas as pd\n",
    "labels_aug = onehot(batch_aug.classes)\n",
    "for i in range(4):\n",
    "    labels_aug = np.concatenate([labels_aug, onehot(batch_aug.classes)], axis=0)"
   ]
  },
  {
   "cell_type": "code",
   "execution_count": null,
   "metadata": {
    "ExecuteTime": {
     "end_time": "2017-07-27T02:59:32.703541Z",
     "start_time": "2017-07-27T02:59:32.699244Z"
    },
    "collapsed": true
   },
   "outputs": [],
   "source": [
    "labels_aug.shape"
   ]
  },
  {
   "cell_type": "code",
   "execution_count": null,
   "metadata": {
    "ExecuteTime": {
     "end_time": "2017-07-27T02:59:35.251407Z",
     "start_time": "2017-07-27T02:59:35.238129Z"
    },
    "collapsed": true
   },
   "outputs": [],
   "source": [
    "ft_model.compile(optimizer=Adam(lr=0.0001), loss='categorical_crossentropy', metrics=['accuracy'])"
   ]
  },
  {
   "cell_type": "code",
   "execution_count": null,
   "metadata": {
    "ExecuteTime": {
     "end_time": "2017-07-27T03:00:08.869933Z",
     "start_time": "2017-07-27T02:59:36.677818Z"
    },
    "collapsed": true
   },
   "outputs": [],
   "source": [
    "ft_model.fit(aug_train, \n",
    "             labels_aug, \n",
    "             validation_data=(aug_val, val_labels_aug), nb_epoch=1)"
   ]
  },
  {
   "cell_type": "code",
   "execution_count": null,
   "metadata": {
    "ExecuteTime": {
     "end_time": "2017-07-27T03:01:18.187670Z",
     "start_time": "2017-07-27T03:01:18.163991Z"
    },
    "collapsed": true
   },
   "outputs": [],
   "source": [
    "ft_model.model.save_weights(model_dir+\"vgg_precompute_conv_1epoch.h5\")"
   ]
  },
  {
   "cell_type": "code",
   "execution_count": null,
   "metadata": {
    "ExecuteTime": {
     "end_time": "2017-07-27T03:01:48.889618Z",
     "start_time": "2017-07-27T03:01:21.701506Z"
    },
    "collapsed": true
   },
   "outputs": [],
   "source": [
    "ft_model.fit(aug_train, \n",
    "             labels_aug, \n",
    "             validation_data=(aug_val, val_labels_aug), nb_epoch=1)"
   ]
  },
  {
   "cell_type": "code",
   "execution_count": null,
   "metadata": {
    "ExecuteTime": {
     "end_time": "2017-07-27T03:02:18.867613Z",
     "start_time": "2017-07-27T03:02:18.845690Z"
    },
    "collapsed": true
   },
   "outputs": [],
   "source": [
    "ft_model.model.save_weights(model_dir+\"vgg_precompute_conv_2epochs.h5\")"
   ]
  },
  {
   "cell_type": "code",
   "execution_count": null,
   "metadata": {
    "ExecuteTime": {
     "end_time": "2017-07-27T03:02:49.449635Z",
     "start_time": "2017-07-27T03:02:21.618024Z"
    },
    "collapsed": true
   },
   "outputs": [],
   "source": [
    "ft_model.fit(aug_train, \n",
    "             labels_aug, \n",
    "             validation_data=(aug_val, val_labels_aug), nb_epoch=1)"
   ]
  },
  {
   "cell_type": "code",
   "execution_count": null,
   "metadata": {
    "ExecuteTime": {
     "end_time": "2017-07-27T03:02:56.264436Z",
     "start_time": "2017-07-27T03:02:56.241613Z"
    },
    "collapsed": true
   },
   "outputs": [],
   "source": [
    "ft_model.model.save_weights(model_dir+\"vgg_precompute_conv_3epochs.h5\")"
   ]
  },
  {
   "cell_type": "code",
   "execution_count": null,
   "metadata": {
    "ExecuteTime": {
     "end_time": "2017-07-27T03:03:16.702324Z",
     "start_time": "2017-07-27T03:03:16.690155Z"
    },
    "collapsed": true
   },
   "outputs": [],
   "source": [
    "ft_model.compile(optimizer=Adam(lr=0.00001), loss='categorical_crossentropy', metrics=['accuracy'])"
   ]
  },
  {
   "cell_type": "markdown",
   "metadata": {},
   "source": [
    "**This is our winner.**"
   ]
  },
  {
   "cell_type": "code",
   "execution_count": null,
   "metadata": {
    "ExecuteTime": {
     "end_time": "2017-07-27T03:03:55.213637Z",
     "start_time": "2017-07-27T03:03:23.377084Z"
    },
    "collapsed": true
   },
   "outputs": [],
   "source": [
    "ft_model.fit(aug_train, \n",
    "             labels_aug, \n",
    "             validation_data=(aug_val, val_labels_aug), nb_epoch=1)"
   ]
  },
  {
   "cell_type": "code",
   "execution_count": null,
   "metadata": {
    "ExecuteTime": {
     "end_time": "2017-07-27T03:04:34.191502Z",
     "start_time": "2017-07-27T03:04:34.167597Z"
    },
    "collapsed": true
   },
   "outputs": [],
   "source": [
    "ft_model.model.save_weights(model_dir+\"vgg_precompute_conv_4epochs.h5\")"
   ]
  },
  {
   "cell_type": "code",
   "execution_count": null,
   "metadata": {
    "ExecuteTime": {
     "end_time": "2017-07-27T03:05:06.258100Z",
     "start_time": "2017-07-27T03:04:40.082501Z"
    },
    "collapsed": true
   },
   "outputs": [],
   "source": [
    "ft_model.fit(aug_train, \n",
    "             labels_aug, \n",
    "             validation_data=(aug_val, val_labels_aug), nb_epoch=1)"
   ]
  },
  {
   "cell_type": "code",
   "execution_count": null,
   "metadata": {
    "ExecuteTime": {
     "end_time": "2017-07-27T03:06:09.671367Z",
     "start_time": "2017-07-27T03:06:09.647608Z"
    },
    "collapsed": true
   },
   "outputs": [],
   "source": [
    "ft_model.model.save_weights(model_dir+\"vgg_precompute_conv_5epochs.h5\")"
   ]
  },
  {
   "cell_type": "code",
   "execution_count": null,
   "metadata": {
    "ExecuteTime": {
     "end_time": "2017-07-27T03:06:14.811638Z",
     "start_time": "2017-07-27T03:06:14.798823Z"
    },
    "collapsed": true
   },
   "outputs": [],
   "source": [
    "ft_model.compile(optimizer=Adam(lr=0.000001), loss='categorical_crossentropy', metrics=['accuracy'])"
   ]
  },
  {
   "cell_type": "code",
   "execution_count": null,
   "metadata": {
    "ExecuteTime": {
     "end_time": "2017-07-27T03:06:47.881047Z",
     "start_time": "2017-07-27T03:06:16.992704Z"
    },
    "collapsed": true
   },
   "outputs": [],
   "source": [
    "ft_model.fit(aug_train, \n",
    "             labels_aug, \n",
    "             validation_data=(aug_val, val_labels_aug), nb_epoch=1)"
   ]
  },
  {
   "cell_type": "code",
   "execution_count": null,
   "metadata": {
    "ExecuteTime": {
     "end_time": "2017-07-27T03:08:39.021944Z",
     "start_time": "2017-07-27T03:08:12.925638Z"
    },
    "collapsed": true
   },
   "outputs": [],
   "source": [
    "ft_model.fit(aug_train, \n",
    "             labels_aug, \n",
    "             validation_data=(aug_val, val_labels_aug), nb_epoch=1)"
   ]
  },
  {
   "cell_type": "code",
   "execution_count": null,
   "metadata": {
    "ExecuteTime": {
     "end_time": "2017-07-27T03:09:14.656173Z",
     "start_time": "2017-07-27T03:08:48.278678Z"
    },
    "collapsed": true
   },
   "outputs": [],
   "source": [
    "ft_model.fit(aug_train, \n",
    "             labels_aug, \n",
    "             validation_data=(aug_val, val_labels_aug), nb_epoch=1)"
   ]
  },
  {
   "cell_type": "code",
   "execution_count": null,
   "metadata": {
    "ExecuteTime": {
     "end_time": "2017-07-27T03:10:05.578367Z",
     "start_time": "2017-07-27T03:09:39.423967Z"
    },
    "collapsed": true
   },
   "outputs": [],
   "source": [
    "ft_model.fit(aug_train, \n",
    "             labels_aug, \n",
    "             validation_data=(aug_val, val_labels_aug), nb_epoch=1)"
   ]
  },
  {
   "cell_type": "code",
   "execution_count": 89,
   "metadata": {
    "ExecuteTime": {
     "end_time": "2017-08-01T03:13:44.686510Z",
     "start_time": "2017-08-01T03:13:44.671371Z"
    }
   },
   "outputs": [],
   "source": [
    "ft_model.load_weights(model_dir+\"vgg_precompute_conv_5epochs.h5\")"
   ]
  },
  {
   "cell_type": "markdown",
   "metadata": {
    "heading_collapsed": true
   },
   "source": [
    "# Without Halving Regularization Params"
   ]
  },
  {
   "cell_type": "code",
   "execution_count": null,
   "metadata": {
    "ExecuteTime": {
     "end_time": "2017-08-01T01:03:25.675924Z",
     "start_time": "2017-08-01T01:03:25.481048Z"
    },
    "collapsed": true,
    "hidden": true
   },
   "outputs": [],
   "source": [
    "# inp = Input(conv_model.layers[-1].output_shape[1:])\n",
    "# mp1 = MaxPooling2D((2,2))(inp)\n",
    "# fl1 = Flatten()(mp1)\n",
    "# bn1 = BatchNormalization(axis=1)(fl1)\n",
    "# dr1 = Dropout(0.5)(bn1)\n",
    "# dn1 = Dense(128, activation='relu')(dr1)\n",
    "# bn2 = BatchNormalization()(dn1)\n",
    "# dr2 = Dropout(0.5)(bn2)\n",
    "# dn2 = Dense(128, activation='relu')(dr2)\n",
    "# bn3 = BatchNormalization()(dn2)\n",
    "# dr3 = Dropout(0.5)(bn3)\n",
    "# dn3 = Dense(10, activation='softmax')(dr3)\n",
    "\n",
    "# ft_model = Model(input=inp, output=dn3)\n",
    "p = .8\n",
    "ft_model = Sequential([\n",
    "        MaxPooling2D(input_shape=conv_model.layers[-1].output_shape[1:]),\n",
    "        Flatten(),\n",
    "        Dropout(p),\n",
    "        Dense(128, activation='relu'),\n",
    "        BatchNormalization(),\n",
    "        Dropout(p),\n",
    "        Dense(128, activation='relu'),\n",
    "        BatchNormalization(),\n",
    "        Dropout(p),\n",
    "        Dense(10, activation='softmax')\n",
    "    ])"
   ]
  },
  {
   "cell_type": "code",
   "execution_count": null,
   "metadata": {
    "ExecuteTime": {
     "end_time": "2017-08-01T01:04:10.142152Z",
     "start_time": "2017-08-01T01:04:10.027576Z"
    },
    "collapsed": true,
    "hidden": true
   },
   "outputs": [],
   "source": [
    "ft_model.load_weights(\"vgg_precompute_conv_nohalf_5epochs.h5\")"
   ]
  },
  {
   "cell_type": "markdown",
   "metadata": {
    "hidden": true
   },
   "source": [
    "Interestingly, my version took up too much memory. I can't figure out exactly why seeing as I only used one extra layer and my architecture was nearly the same. need to research this more."
   ]
  },
  {
   "cell_type": "code",
   "execution_count": null,
   "metadata": {
    "ExecuteTime": {
     "end_time": "2017-07-27T03:11:01.691870Z",
     "start_time": "2017-07-27T03:11:01.688008Z"
    },
    "collapsed": true,
    "hidden": true
   },
   "outputs": [],
   "source": [
    "labels_aug = onehot(batch_aug.classes)"
   ]
  },
  {
   "cell_type": "code",
   "execution_count": null,
   "metadata": {
    "ExecuteTime": {
     "end_time": "2017-07-27T03:11:08.402007Z",
     "start_time": "2017-07-27T03:11:08.398899Z"
    },
    "collapsed": true,
    "hidden": true
   },
   "outputs": [],
   "source": [
    "val_labels_aug = onehot(val_aug.classes)"
   ]
  },
  {
   "cell_type": "code",
   "execution_count": null,
   "metadata": {
    "ExecuteTime": {
     "end_time": "2017-07-27T03:11:10.675872Z",
     "start_time": "2017-07-27T03:11:10.665311Z"
    },
    "collapsed": true,
    "hidden": true
   },
   "outputs": [],
   "source": [
    "import numpy as np\n",
    "import pandas as pd\n",
    "labels_aug = onehot(batch_aug.classes)\n",
    "for i in range(4):\n",
    "    labels_aug = np.concatenate([labels_aug, onehot(batch_aug.classes)], axis=0)"
   ]
  },
  {
   "cell_type": "code",
   "execution_count": null,
   "metadata": {
    "ExecuteTime": {
     "end_time": "2017-07-27T03:11:12.064583Z",
     "start_time": "2017-07-27T03:11:12.059824Z"
    },
    "collapsed": true,
    "hidden": true
   },
   "outputs": [],
   "source": [
    "labels_aug.shape"
   ]
  },
  {
   "cell_type": "code",
   "execution_count": null,
   "metadata": {
    "ExecuteTime": {
     "end_time": "2017-07-27T03:11:16.783881Z",
     "start_time": "2017-07-27T03:11:16.770628Z"
    },
    "collapsed": true,
    "hidden": true
   },
   "outputs": [],
   "source": [
    "ft_model.compile(optimizer=Adam(lr=0.001), loss='categorical_crossentropy', metrics=['accuracy'])"
   ]
  },
  {
   "cell_type": "code",
   "execution_count": null,
   "metadata": {
    "ExecuteTime": {
     "end_time": "2017-07-27T03:11:49.403409Z",
     "start_time": "2017-07-27T03:11:18.566365Z"
    },
    "collapsed": true,
    "hidden": true
   },
   "outputs": [],
   "source": [
    "ft_model.fit(aug_train, \n",
    "             labels_aug, \n",
    "             validation_data=(aug_val, val_labels_aug), nb_epoch=1)"
   ]
  },
  {
   "cell_type": "code",
   "execution_count": null,
   "metadata": {
    "ExecuteTime": {
     "end_time": "2017-07-27T03:12:18.314657Z",
     "start_time": "2017-07-27T03:12:18.291167Z"
    },
    "collapsed": true,
    "hidden": true
   },
   "outputs": [],
   "source": [
    "ft_model.model.save_weights(\"vgg_precompute_conv_nohalf_1epoch.h5\")"
   ]
  },
  {
   "cell_type": "code",
   "execution_count": null,
   "metadata": {
    "ExecuteTime": {
     "end_time": "2017-07-27T03:12:46.528271Z",
     "start_time": "2017-07-27T03:12:20.299247Z"
    },
    "collapsed": true,
    "hidden": true
   },
   "outputs": [],
   "source": [
    "ft_model.fit(aug_train, \n",
    "             labels_aug, \n",
    "             validation_data=(aug_val, val_labels_aug), nb_epoch=1)"
   ]
  },
  {
   "cell_type": "code",
   "execution_count": null,
   "metadata": {
    "ExecuteTime": {
     "end_time": "2017-07-27T03:13:04.170078Z",
     "start_time": "2017-07-27T03:13:04.145719Z"
    },
    "collapsed": true,
    "hidden": true
   },
   "outputs": [],
   "source": [
    "ft_model.model.save_weights(\"vgg_precompute_conv_nohalf_2epochs.h5\")"
   ]
  },
  {
   "cell_type": "code",
   "execution_count": null,
   "metadata": {
    "ExecuteTime": {
     "end_time": "2017-07-27T03:13:38.454017Z",
     "start_time": "2017-07-27T03:13:12.296725Z"
    },
    "collapsed": true,
    "hidden": true
   },
   "outputs": [],
   "source": [
    "ft_model.fit(aug_train, \n",
    "             labels_aug, \n",
    "             validation_data=(aug_val, val_labels_aug), nb_epoch=1)"
   ]
  },
  {
   "cell_type": "code",
   "execution_count": null,
   "metadata": {
    "ExecuteTime": {
     "end_time": "2017-07-27T03:13:52.866590Z",
     "start_time": "2017-07-27T03:13:52.842994Z"
    },
    "collapsed": true,
    "hidden": true
   },
   "outputs": [],
   "source": [
    "ft_model.model.save_weights(\"vgg_precompute_conv_nohalf_3epochs.h5\")"
   ]
  },
  {
   "cell_type": "code",
   "execution_count": null,
   "metadata": {
    "ExecuteTime": {
     "end_time": "2017-07-27T03:14:21.722170Z",
     "start_time": "2017-07-27T03:13:55.738905Z"
    },
    "collapsed": true,
    "hidden": true
   },
   "outputs": [],
   "source": [
    "ft_model.fit(aug_train, \n",
    "             labels_aug, \n",
    "             validation_data=(aug_val, val_labels_aug), nb_epoch=1)"
   ]
  },
  {
   "cell_type": "code",
   "execution_count": null,
   "metadata": {
    "ExecuteTime": {
     "end_time": "2017-07-27T03:14:42.258808Z",
     "start_time": "2017-07-27T03:14:42.235913Z"
    },
    "collapsed": true,
    "hidden": true
   },
   "outputs": [],
   "source": [
    "ft_model.model.save_weights(\"vgg_precompute_conv_nohalf_4epochs.h5\")"
   ]
  },
  {
   "cell_type": "code",
   "execution_count": null,
   "metadata": {
    "ExecuteTime": {
     "end_time": "2017-07-27T03:15:09.682733Z",
     "start_time": "2017-07-27T03:14:43.638060Z"
    },
    "collapsed": true,
    "hidden": true
   },
   "outputs": [],
   "source": [
    "ft_model.fit(aug_train, \n",
    "             labels_aug, \n",
    "             validation_data=(aug_val, val_labels_aug), nb_epoch=1)"
   ]
  },
  {
   "cell_type": "code",
   "execution_count": null,
   "metadata": {
    "ExecuteTime": {
     "end_time": "2017-07-27T03:15:21.136913Z",
     "start_time": "2017-07-27T03:15:21.113521Z"
    },
    "collapsed": true,
    "hidden": true
   },
   "outputs": [],
   "source": [
    "ft_model.model.save_weights(\"vgg_precompute_conv_nohalf_5epochs.h5\")"
   ]
  },
  {
   "cell_type": "code",
   "execution_count": null,
   "metadata": {
    "ExecuteTime": {
     "end_time": "2017-07-27T03:15:30.231035Z",
     "start_time": "2017-07-27T03:15:30.218737Z"
    },
    "collapsed": true,
    "hidden": true
   },
   "outputs": [],
   "source": [
    "ft_model.compile(optimizer=Adam(lr=0.00001), loss='categorical_crossentropy', metrics=['accuracy'])"
   ]
  },
  {
   "cell_type": "code",
   "execution_count": null,
   "metadata": {
    "ExecuteTime": {
     "end_time": "2017-07-27T03:16:03.795841Z",
     "start_time": "2017-07-27T03:15:32.807604Z"
    },
    "collapsed": true,
    "hidden": true
   },
   "outputs": [],
   "source": [
    "ft_model.fit(aug_train, \n",
    "             labels_aug, \n",
    "             validation_data=(aug_val, val_labels_aug), nb_epoch=1)"
   ]
  },
  {
   "cell_type": "code",
   "execution_count": null,
   "metadata": {
    "ExecuteTime": {
     "end_time": "2017-07-27T03:16:39.757677Z",
     "start_time": "2017-07-27T03:16:13.541418Z"
    },
    "collapsed": true,
    "hidden": true
   },
   "outputs": [],
   "source": [
    "ft_model.fit(aug_train, \n",
    "             labels_aug, \n",
    "             validation_data=(aug_val, val_labels_aug), nb_epoch=1)"
   ]
  },
  {
   "cell_type": "code",
   "execution_count": null,
   "metadata": {
    "ExecuteTime": {
     "end_time": "2017-07-27T03:17:18.456933Z",
     "start_time": "2017-07-27T03:16:52.242635Z"
    },
    "collapsed": true,
    "hidden": true,
    "scrolled": true
   },
   "outputs": [],
   "source": [
    "ft_model.fit(aug_train, \n",
    "             labels_aug, \n",
    "             validation_data=(aug_val, val_labels_aug), nb_epoch=1)"
   ]
  },
  {
   "cell_type": "markdown",
   "metadata": {
    "hidden": true
   },
   "source": [
    "Done -- looks like we're not beating our original model."
   ]
  },
  {
   "cell_type": "markdown",
   "metadata": {},
   "source": [
    "# Pseudo-Labeling"
   ]
  },
  {
   "cell_type": "code",
   "execution_count": 90,
   "metadata": {
    "ExecuteTime": {
     "end_time": "2017-08-01T03:13:48.355969Z",
     "start_time": "2017-08-01T03:13:47.295238Z"
    }
   },
   "outputs": [],
   "source": [
    "val_pseudo_labels = ft_model.predict(aug_val)"
   ]
  },
  {
   "cell_type": "code",
   "execution_count": 91,
   "metadata": {
    "ExecuteTime": {
     "end_time": "2017-08-01T03:13:49.396469Z",
     "start_time": "2017-08-01T03:13:49.389339Z"
    }
   },
   "outputs": [
    {
     "data": {
      "text/plain": [
       "(1983, 10)"
      ]
     },
     "execution_count": 91,
     "metadata": {},
     "output_type": "execute_result"
    }
   ],
   "source": [
    "val_labels.shape"
   ]
  },
  {
   "cell_type": "code",
   "execution_count": 92,
   "metadata": {
    "ExecuteTime": {
     "end_time": "2017-08-01T03:13:51.650937Z",
     "start_time": "2017-08-01T03:13:51.637861Z"
    },
    "collapsed": true
   },
   "outputs": [],
   "source": [
    "ft_model.compile(optimizer=adam(lr=0.00001), loss='categorical_crossentropy', metrics=['accuracy'])"
   ]
  },
  {
   "cell_type": "code",
   "execution_count": 93,
   "metadata": {
    "ExecuteTime": {
     "end_time": "2017-08-01T03:14:06.204425Z",
     "start_time": "2017-08-01T03:13:53.158086Z"
    }
   },
   "outputs": [
    {
     "name": "stdout",
     "output_type": "stream",
     "text": [
      "Train on 1983 samples, validate on 1983 samples\n",
      "Epoch 1/10\n",
      "1983/1983 [==============================] - 0s - loss: 1.3569 - acc: 0.6778 - val_loss: 0.8444 - val_acc: 0.7358\n",
      "Epoch 2/10\n",
      "1983/1983 [==============================] - 0s - loss: 1.3353 - acc: 0.6813 - val_loss: 0.8368 - val_acc: 0.7403\n",
      "Epoch 3/10\n",
      "1983/1983 [==============================] - 0s - loss: 1.2994 - acc: 0.7115 - val_loss: 0.8304 - val_acc: 0.7423\n",
      "Epoch 4/10\n",
      "1983/1983 [==============================] - 0s - loss: 1.2511 - acc: 0.7050 - val_loss: 0.8239 - val_acc: 0.7423\n",
      "Epoch 5/10\n",
      "1983/1983 [==============================] - 0s - loss: 1.2421 - acc: 0.7231 - val_loss: 0.8132 - val_acc: 0.7443\n",
      "Epoch 6/10\n",
      "1983/1983 [==============================] - 0s - loss: 1.2235 - acc: 0.7181 - val_loss: 0.7995 - val_acc: 0.7514\n",
      "Epoch 7/10\n",
      "1983/1983 [==============================] - 0s - loss: 1.2280 - acc: 0.7231 - val_loss: 0.8011 - val_acc: 0.7509\n",
      "Epoch 8/10\n",
      "1983/1983 [==============================] - 0s - loss: 1.2142 - acc: 0.7317 - val_loss: 0.8095 - val_acc: 0.7489\n",
      "Epoch 9/10\n",
      "1983/1983 [==============================] - 0s - loss: 1.1964 - acc: 0.7257 - val_loss: 0.8074 - val_acc: 0.7484\n",
      "Epoch 10/10\n",
      "1983/1983 [==============================] - 0s - loss: 1.1725 - acc: 0.7317 - val_loss: 0.7927 - val_acc: 0.7509\n"
     ]
    },
    {
     "data": {
      "text/plain": [
       "<keras.callbacks.History at 0x7fb44d9fd4d0>"
      ]
     },
     "execution_count": 93,
     "metadata": {},
     "output_type": "execute_result"
    }
   ],
   "source": [
    "# features_full = np.concatenate([aug_train, aug_val])\n",
    "ft_model.fit(aug_val, val_pseudo_labels, nb_epoch=10, validation_data = (aug_val, val_labels), batch_size=64)"
   ]
  },
  {
   "cell_type": "code",
   "execution_count": 94,
   "metadata": {
    "ExecuteTime": {
     "end_time": "2017-08-01T03:14:30.013276Z",
     "start_time": "2017-08-01T03:14:29.987440Z"
    },
    "collapsed": true
   },
   "outputs": [],
   "source": [
    "ft_model.save_weights(model_dir+\"pseudolabeling_10epochs.h5\")"
   ]
  },
  {
   "cell_type": "code",
   "execution_count": 95,
   "metadata": {
    "ExecuteTime": {
     "end_time": "2017-08-01T03:14:51.050622Z",
     "start_time": "2017-08-01T03:14:46.952074Z"
    }
   },
   "outputs": [
    {
     "name": "stdout",
     "output_type": "stream",
     "text": [
      "Train on 1983 samples, validate on 1983 samples\n",
      "Epoch 1/5\n",
      "1983/1983 [==============================] - 0s - loss: 1.1569 - acc: 0.7463 - val_loss: 0.8032 - val_acc: 0.7448\n",
      "Epoch 2/5\n",
      "1983/1983 [==============================] - 0s - loss: 1.1632 - acc: 0.7509 - val_loss: 0.8100 - val_acc: 0.7443\n",
      "Epoch 3/5\n",
      "1983/1983 [==============================] - 0s - loss: 1.1564 - acc: 0.7595 - val_loss: 0.8123 - val_acc: 0.7418\n",
      "Epoch 4/5\n",
      "1983/1983 [==============================] - 0s - loss: 1.1587 - acc: 0.7504 - val_loss: 0.8081 - val_acc: 0.7413\n",
      "Epoch 5/5\n",
      "1983/1983 [==============================] - 0s - loss: 1.1330 - acc: 0.7635 - val_loss: 0.8017 - val_acc: 0.7408\n"
     ]
    },
    {
     "data": {
      "text/plain": [
       "<keras.callbacks.History at 0x7fb44d961490>"
      ]
     },
     "execution_count": 95,
     "metadata": {},
     "output_type": "execute_result"
    }
   ],
   "source": [
    "ft_model.fit(aug_val, val_pseudo_labels, nb_epoch=5, validation_data = (aug_val, val_labels), batch_size=64)"
   ]
  },
  {
   "cell_type": "code",
   "execution_count": 97,
   "metadata": {
    "ExecuteTime": {
     "end_time": "2017-08-01T03:15:37.403892Z",
     "start_time": "2017-08-01T03:15:28.608242Z"
    }
   },
   "outputs": [
    {
     "name": "stdout",
     "output_type": "stream",
     "text": [
      "Train on 1983 samples, validate on 1983 samples\n",
      "Epoch 1/5\n",
      "1983/1983 [==============================] - 0s - loss: 1.1508 - acc: 0.7645 - val_loss: 0.7979 - val_acc: 0.7428\n",
      "Epoch 2/5\n",
      "1983/1983 [==============================] - 0s - loss: 1.1589 - acc: 0.7539 - val_loss: 0.7979 - val_acc: 0.7433\n",
      "Epoch 3/5\n",
      "1983/1983 [==============================] - 0s - loss: 1.1433 - acc: 0.7428 - val_loss: 0.7951 - val_acc: 0.7438\n",
      "Epoch 4/5\n",
      "1983/1983 [==============================] - 0s - loss: 1.1132 - acc: 0.7569 - val_loss: 0.7955 - val_acc: 0.7438\n",
      "Epoch 5/5\n",
      "1983/1983 [==============================] - 0s - loss: 1.1202 - acc: 0.7519 - val_loss: 0.7951 - val_acc: 0.7438\n"
     ]
    },
    {
     "data": {
      "text/plain": [
       "<keras.callbacks.History at 0x7fb45acf9190>"
      ]
     },
     "execution_count": 97,
     "metadata": {},
     "output_type": "execute_result"
    }
   ],
   "source": [
    "ft_model.compile(optimizer=Adam(lr=0.000001), loss='categorical_crossentropy', metrics=['accuracy'])\n",
    "ft_model.fit(aug_val, val_pseudo_labels, nb_epoch=5, validation_data = (aug_val, val_labels), batch_size=64)"
   ]
  },
  {
   "cell_type": "code",
   "execution_count": 98,
   "metadata": {
    "ExecuteTime": {
     "end_time": "2017-08-01T03:15:54.581451Z",
     "start_time": "2017-08-01T03:15:46.572561Z"
    }
   },
   "outputs": [
    {
     "name": "stdout",
     "output_type": "stream",
     "text": [
      "Train on 1983 samples, validate on 1983 samples\n",
      "Epoch 1/10\n",
      "1983/1983 [==============================] - 0s - loss: 1.1342 - acc: 0.7574 - val_loss: 0.7945 - val_acc: 0.7443\n",
      "Epoch 2/10\n",
      "1983/1983 [==============================] - 0s - loss: 1.1440 - acc: 0.7489 - val_loss: 0.7941 - val_acc: 0.7438\n",
      "Epoch 3/10\n",
      "1983/1983 [==============================] - 0s - loss: 1.1222 - acc: 0.7600 - val_loss: 0.7957 - val_acc: 0.7428\n",
      "Epoch 4/10\n",
      "1983/1983 [==============================] - 0s - loss: 1.1340 - acc: 0.7700 - val_loss: 0.7952 - val_acc: 0.7428\n",
      "Epoch 5/10\n",
      "1983/1983 [==============================] - 0s - loss: 1.1161 - acc: 0.7680 - val_loss: 0.7940 - val_acc: 0.7428\n",
      "Epoch 6/10\n",
      "1983/1983 [==============================] - 0s - loss: 1.1197 - acc: 0.7605 - val_loss: 0.7937 - val_acc: 0.7428\n",
      "Epoch 7/10\n",
      "1983/1983 [==============================] - 0s - loss: 1.1250 - acc: 0.7615 - val_loss: 0.7965 - val_acc: 0.7418\n",
      "Epoch 8/10\n",
      "1983/1983 [==============================] - 0s - loss: 1.1128 - acc: 0.7695 - val_loss: 0.7965 - val_acc: 0.7408\n",
      "Epoch 9/10\n",
      "1983/1983 [==============================] - 0s - loss: 1.1273 - acc: 0.7660 - val_loss: 0.7965 - val_acc: 0.7408\n",
      "Epoch 10/10\n",
      "1983/1983 [==============================] - 0s - loss: 1.1237 - acc: 0.7630 - val_loss: 0.7974 - val_acc: 0.7408\n"
     ]
    },
    {
     "data": {
      "text/plain": [
       "<keras.callbacks.History at 0x7fb45c1e6a10>"
      ]
     },
     "execution_count": 98,
     "metadata": {},
     "output_type": "execute_result"
    }
   ],
   "source": [
    "ft_model.fit(aug_val, val_pseudo_labels, nb_epoch=10, validation_data = (aug_val, val_labels), batch_size=64)"
   ]
  },
  {
   "cell_type": "code",
   "execution_count": 99,
   "metadata": {
    "ExecuteTime": {
     "end_time": "2017-08-01T03:16:31.662074Z",
     "start_time": "2017-08-01T03:16:31.639543Z"
    },
    "collapsed": true
   },
   "outputs": [],
   "source": [
    "ft_model.save_weights(model_dir+\"pseudolabeling_35epochs.h5\")"
   ]
  },
  {
   "cell_type": "code",
   "execution_count": 65,
   "metadata": {
    "ExecuteTime": {
     "end_time": "2017-08-01T03:04:48.031688Z",
     "start_time": "2017-08-01T03:04:35.070715Z"
    }
   },
   "outputs": [
    {
     "name": "stdout",
     "output_type": "stream",
     "text": [
      "Train on 1983 samples, validate on 1983 samples\n",
      "Epoch 1/10\n",
      "1983/1983 [==============================] - 0s - loss: 1.0981 - acc: 0.7726 - val_loss: 0.8394 - val_acc: 0.7216\n",
      "Epoch 2/10\n",
      "1983/1983 [==============================] - 0s - loss: 1.0642 - acc: 0.7827 - val_loss: 0.8385 - val_acc: 0.7201\n",
      "Epoch 3/10\n",
      "1983/1983 [==============================] - 0s - loss: 1.0816 - acc: 0.7761 - val_loss: 0.8442 - val_acc: 0.7216\n",
      "Epoch 4/10\n",
      "1983/1983 [==============================] - 0s - loss: 1.0909 - acc: 0.7711 - val_loss: 0.8390 - val_acc: 0.7257\n",
      "Epoch 5/10\n",
      "1983/1983 [==============================] - 0s - loss: 1.0831 - acc: 0.7801 - val_loss: 0.8393 - val_acc: 0.7242\n",
      "Epoch 6/10\n",
      "1983/1983 [==============================] - 0s - loss: 1.0959 - acc: 0.7746 - val_loss: 0.8436 - val_acc: 0.7201\n",
      "Epoch 7/10\n",
      "1983/1983 [==============================] - 0s - loss: 1.0704 - acc: 0.7872 - val_loss: 0.8498 - val_acc: 0.7201\n",
      "Epoch 8/10\n",
      "1983/1983 [==============================] - 0s - loss: 1.0806 - acc: 0.7771 - val_loss: 0.8490 - val_acc: 0.7166\n",
      "Epoch 9/10\n",
      "1983/1983 [==============================] - 0s - loss: 1.0596 - acc: 0.7857 - val_loss: 0.8513 - val_acc: 0.7151\n",
      "Epoch 10/10\n",
      "1983/1983 [==============================] - 0s - loss: 1.0586 - acc: 0.7917 - val_loss: 0.8452 - val_acc: 0.7161\n"
     ]
    },
    {
     "data": {
      "text/plain": [
       "<keras.callbacks.History at 0x7fb45c32c290>"
      ]
     },
     "execution_count": 65,
     "metadata": {},
     "output_type": "execute_result"
    }
   ],
   "source": [
    "ft_model.compile(optimizer=Adam(lr=0.00001), loss='categorical_crossentropy', metrics=['accuracy'])\n",
    "ft_model.fit(aug_val, val_pseudo_labels, nb_epoch=10, validation_data = (aug_val, val_labels), batch_size=64)"
   ]
  },
  {
   "cell_type": "code",
   "execution_count": 67,
   "metadata": {
    "ExecuteTime": {
     "end_time": "2017-08-01T03:06:07.443544Z",
     "start_time": "2017-08-01T03:05:54.570073Z"
    }
   },
   "outputs": [
    {
     "name": "stdout",
     "output_type": "stream",
     "text": [
      "Train on 1983 samples, validate on 1983 samples\n",
      "Epoch 1/10\n",
      "1983/1983 [==============================] - 0s - loss: 1.5821 - acc: 0.6228 - val_loss: 1.1893 - val_acc: 0.6762\n",
      "Epoch 2/10\n",
      "1983/1983 [==============================] - 0s - loss: 1.5003 - acc: 0.6137 - val_loss: 1.3968 - val_acc: 0.6606\n",
      "Epoch 3/10\n",
      "1983/1983 [==============================] - 0s - loss: 1.3368 - acc: 0.6702 - val_loss: 0.8433 - val_acc: 0.7554\n",
      "Epoch 4/10\n",
      "1983/1983 [==============================] - 0s - loss: 1.2358 - acc: 0.6934 - val_loss: 1.0375 - val_acc: 0.6884\n",
      "Epoch 5/10\n",
      "1983/1983 [==============================] - 0s - loss: 1.1705 - acc: 0.7221 - val_loss: 0.8785 - val_acc: 0.7358\n",
      "Epoch 6/10\n",
      "1983/1983 [==============================] - 0s - loss: 1.1689 - acc: 0.7226 - val_loss: 0.8546 - val_acc: 0.7615\n",
      "Epoch 7/10\n",
      "1983/1983 [==============================] - 0s - loss: 1.2215 - acc: 0.6959 - val_loss: 1.1204 - val_acc: 0.6687\n",
      "Epoch 8/10\n",
      "1983/1983 [==============================] - 0s - loss: 1.2573 - acc: 0.7055 - val_loss: 0.9364 - val_acc: 0.6828\n",
      "Epoch 9/10\n",
      "1983/1983 [==============================] - 0s - loss: 1.2824 - acc: 0.6868 - val_loss: 0.8106 - val_acc: 0.7191\n",
      "Epoch 10/10\n",
      "1983/1983 [==============================] - 0s - loss: 1.3345 - acc: 0.6662 - val_loss: 1.0253 - val_acc: 0.7292\n"
     ]
    },
    {
     "data": {
      "text/plain": [
       "<keras.callbacks.History at 0x7fb45b0b33d0>"
      ]
     },
     "execution_count": 67,
     "metadata": {},
     "output_type": "execute_result"
    }
   ],
   "source": [
    "ft_model.compile(optimizer=Adam(lr=0.1), loss='categorical_crossentropy', metrics=['accuracy'])\n",
    "ft_model.fit(aug_val, val_pseudo_labels, nb_epoch=10, validation_data = (aug_val, val_labels), batch_size=64)"
   ]
  },
  {
   "cell_type": "code",
   "execution_count": null,
   "metadata": {
    "collapsed": true
   },
   "outputs": [],
   "source": [
    "ft_model.compile(optimizer=Adam(lr=0.1), loss='categorical_crossentropy', metrics=['accuracy'])\n",
    "ft_model.fit(aug_val, val_pseudo_labels, nb_epoch=10, validation_data = (aug_val, val_labels), batch_size=64)"
   ]
  },
  {
   "cell_type": "code",
   "execution_count": 68,
   "metadata": {
    "ExecuteTime": {
     "end_time": "2017-08-01T03:06:27.224245Z",
     "start_time": "2017-08-01T03:06:26.327032Z"
    }
   },
   "outputs": [
    {
     "name": "stdout",
     "output_type": "stream",
     "text": [
      "Train on 1983 samples, validate on 1983 samples\n",
      "Epoch 1/1\n",
      "1983/1983 [==============================] - 0s - loss: 1.3121 - acc: 0.7005 - val_loss: 1.0373 - val_acc: 0.6994\n"
     ]
    },
    {
     "data": {
      "text/plain": [
       "<keras.callbacks.History at 0x7fbe1f6f8b50>"
      ]
     },
     "execution_count": 68,
     "metadata": {},
     "output_type": "execute_result"
    }
   ],
   "source": [
    "ft_model.fit(aug_val, val_pseudo_labels, nb_epoch=1, validation_data = (aug_val, val_labels), batch_size=64)"
   ]
  },
  {
   "cell_type": "code",
   "execution_count": 69,
   "metadata": {
    "ExecuteTime": {
     "end_time": "2017-08-01T03:06:33.878265Z",
     "start_time": "2017-08-01T03:06:33.041502Z"
    }
   },
   "outputs": [
    {
     "name": "stdout",
     "output_type": "stream",
     "text": [
      "Train on 1983 samples, validate on 1983 samples\n",
      "Epoch 1/1\n",
      "1983/1983 [==============================] - 0s - loss: 1.3238 - acc: 0.6838 - val_loss: 1.2083 - val_acc: 0.6571\n"
     ]
    },
    {
     "data": {
      "text/plain": [
       "<keras.callbacks.History at 0x7fbe1f6f8710>"
      ]
     },
     "execution_count": 69,
     "metadata": {},
     "output_type": "execute_result"
    }
   ],
   "source": [
    "ft_model.fit(aug_val, val_pseudo_labels, nb_epoch=1, validation_data = (aug_val, val_labels), batch_size=64)"
   ]
  },
  {
   "cell_type": "code",
   "execution_count": 70,
   "metadata": {
    "ExecuteTime": {
     "end_time": "2017-08-01T03:06:43.086338Z",
     "start_time": "2017-08-01T03:06:42.254728Z"
    }
   },
   "outputs": [
    {
     "name": "stdout",
     "output_type": "stream",
     "text": [
      "Train on 1983 samples, validate on 1983 samples\n",
      "Epoch 1/1\n",
      "1983/1983 [==============================] - 0s - loss: 1.4160 - acc: 0.6510 - val_loss: 1.2331 - val_acc: 0.6672\n"
     ]
    },
    {
     "data": {
      "text/plain": [
       "<keras.callbacks.History at 0x7fb44fa0a210>"
      ]
     },
     "execution_count": 70,
     "metadata": {},
     "output_type": "execute_result"
    }
   ],
   "source": [
    "ft_model.fit(aug_val, val_pseudo_labels, nb_epoch=1, validation_data = (aug_val, val_labels), batch_size=64)"
   ]
  },
  {
   "cell_type": "code",
   "execution_count": 71,
   "metadata": {
    "ExecuteTime": {
     "end_time": "2017-08-01T03:06:49.821303Z",
     "start_time": "2017-08-01T03:06:48.992267Z"
    }
   },
   "outputs": [
    {
     "name": "stdout",
     "output_type": "stream",
     "text": [
      "Train on 1983 samples, validate on 1983 samples\n",
      "Epoch 1/1\n",
      "1983/1983 [==============================] - 0s - loss: 1.4980 - acc: 0.6520 - val_loss: 1.0704 - val_acc: 0.6778\n"
     ]
    },
    {
     "data": {
      "text/plain": [
       "<keras.callbacks.History at 0x7fbe1f6f8b90>"
      ]
     },
     "execution_count": 71,
     "metadata": {},
     "output_type": "execute_result"
    }
   ],
   "source": [
    "ft_model.fit(aug_val, val_pseudo_labels, nb_epoch=1, validation_data = (aug_val, val_labels), batch_size=64)"
   ]
  },
  {
   "cell_type": "code",
   "execution_count": 72,
   "metadata": {
    "ExecuteTime": {
     "end_time": "2017-08-01T03:06:56.210152Z",
     "start_time": "2017-08-01T03:06:55.394923Z"
    }
   },
   "outputs": [
    {
     "name": "stdout",
     "output_type": "stream",
     "text": [
      "Train on 1983 samples, validate on 1983 samples\n",
      "Epoch 1/1\n",
      "1983/1983 [==============================] - 0s - loss: 1.3939 - acc: 0.6798 - val_loss: 0.9256 - val_acc: 0.7090\n"
     ]
    },
    {
     "data": {
      "text/plain": [
       "<keras.callbacks.History at 0x7fbe1f6f8210>"
      ]
     },
     "execution_count": 72,
     "metadata": {},
     "output_type": "execute_result"
    }
   ],
   "source": [
    "ft_model.fit(aug_val, val_pseudo_labels, nb_epoch=1, validation_data = (aug_val, val_labels), batch_size=64)"
   ]
  },
  {
   "cell_type": "code",
   "execution_count": 73,
   "metadata": {
    "ExecuteTime": {
     "end_time": "2017-08-01T03:07:33.609548Z",
     "start_time": "2017-08-01T03:07:20.776959Z"
    }
   },
   "outputs": [
    {
     "name": "stdout",
     "output_type": "stream",
     "text": [
      "Train on 1983 samples, validate on 1983 samples\n",
      "Epoch 1/10\n",
      "1983/1983 [==============================] - 0s - loss: 1.4001 - acc: 0.6581 - val_loss: 0.8667 - val_acc: 0.7231\n",
      "Epoch 2/10\n",
      "1983/1983 [==============================] - 0s - loss: 1.2468 - acc: 0.6969 - val_loss: 0.8695 - val_acc: 0.7171\n",
      "Epoch 3/10\n",
      "1983/1983 [==============================] - 0s - loss: 1.1832 - acc: 0.7141 - val_loss: 0.8732 - val_acc: 0.7121\n",
      "Epoch 4/10\n",
      "1983/1983 [==============================] - 0s - loss: 1.1743 - acc: 0.7242 - val_loss: 0.8666 - val_acc: 0.7115\n",
      "Epoch 5/10\n",
      "1983/1983 [==============================] - 0s - loss: 1.1064 - acc: 0.7600 - val_loss: 0.8686 - val_acc: 0.7090\n",
      "Epoch 6/10\n",
      "1983/1983 [==============================] - 0s - loss: 1.0943 - acc: 0.7559 - val_loss: 0.8755 - val_acc: 0.7065\n",
      "Epoch 7/10\n",
      "1983/1983 [==============================] - 0s - loss: 1.0832 - acc: 0.7539 - val_loss: 0.8525 - val_acc: 0.7100\n",
      "Epoch 8/10\n",
      "1983/1983 [==============================] - 0s - loss: 1.0589 - acc: 0.7721 - val_loss: 0.8465 - val_acc: 0.7100\n",
      "Epoch 9/10\n",
      "1983/1983 [==============================] - 0s - loss: 1.0880 - acc: 0.7721 - val_loss: 0.8508 - val_acc: 0.7070\n",
      "Epoch 10/10\n",
      "1983/1983 [==============================] - 0s - loss: 1.0462 - acc: 0.7832 - val_loss: 0.8467 - val_acc: 0.7075\n"
     ]
    },
    {
     "data": {
      "text/plain": [
       "<keras.callbacks.History at 0x7fb45b5bad90>"
      ]
     },
     "execution_count": 73,
     "metadata": {},
     "output_type": "execute_result"
    }
   ],
   "source": [
    "ft_model.compile(optimizer=Adam(lr=0.001), loss='categorical_crossentropy', metrics=['accuracy'])\n",
    "ft_model.fit(aug_val, val_pseudo_labels, nb_epoch=10, validation_data = (aug_val, val_labels), batch_size=64)"
   ]
  },
  {
   "cell_type": "code",
   "execution_count": 74,
   "metadata": {
    "ExecuteTime": {
     "end_time": "2017-08-01T03:08:04.900141Z",
     "start_time": "2017-08-01T03:07:51.933062Z"
    }
   },
   "outputs": [
    {
     "name": "stdout",
     "output_type": "stream",
     "text": [
      "Train on 1983 samples, validate on 1983 samples\n",
      "Epoch 1/10\n",
      "1983/1983 [==============================] - 0s - loss: 1.0206 - acc: 0.7907 - val_loss: 0.8531 - val_acc: 0.7055\n",
      "Epoch 2/10\n",
      "1983/1983 [==============================] - 0s - loss: 1.0145 - acc: 0.7811 - val_loss: 0.8498 - val_acc: 0.7075\n",
      "Epoch 3/10\n",
      "1983/1983 [==============================] - 0s - loss: 1.0185 - acc: 0.7867 - val_loss: 0.8423 - val_acc: 0.7095\n",
      "Epoch 4/10\n",
      "1983/1983 [==============================] - 0s - loss: 1.0057 - acc: 0.8053 - val_loss: 0.8312 - val_acc: 0.7141\n",
      "Epoch 5/10\n",
      "1983/1983 [==============================] - 0s - loss: 0.9744 - acc: 0.8164 - val_loss: 0.8338 - val_acc: 0.7080\n",
      "Epoch 6/10\n",
      "1983/1983 [==============================] - 0s - loss: 0.9864 - acc: 0.8084 - val_loss: 0.8386 - val_acc: 0.7060\n",
      "Epoch 7/10\n",
      "1983/1983 [==============================] - 0s - loss: 1.0020 - acc: 0.7907 - val_loss: 0.8383 - val_acc: 0.7095\n",
      "Epoch 8/10\n",
      "1983/1983 [==============================] - 0s - loss: 0.9735 - acc: 0.8008 - val_loss: 0.8341 - val_acc: 0.7131\n",
      "Epoch 9/10\n",
      "1983/1983 [==============================] - 0s - loss: 0.9725 - acc: 0.8124 - val_loss: 0.8325 - val_acc: 0.7141\n",
      "Epoch 10/10\n",
      "1983/1983 [==============================] - 0s - loss: 0.9761 - acc: 0.8124 - val_loss: 0.8438 - val_acc: 0.7055\n"
     ]
    },
    {
     "data": {
      "text/plain": [
       "<keras.callbacks.History at 0x7fb44f834610>"
      ]
     },
     "execution_count": 74,
     "metadata": {},
     "output_type": "execute_result"
    }
   ],
   "source": [
    "ft_model.compile(optimizer=Adam(lr=0.001), loss='categorical_crossentropy', metrics=['accuracy'])\n",
    "ft_model.fit(aug_val, val_pseudo_labels, nb_epoch=10, validation_data = (aug_val, val_labels), batch_size=64)"
   ]
  },
  {
   "cell_type": "code",
   "execution_count": 75,
   "metadata": {
    "ExecuteTime": {
     "end_time": "2017-08-01T03:08:29.946491Z",
     "start_time": "2017-08-01T03:08:16.966659Z"
    }
   },
   "outputs": [
    {
     "name": "stdout",
     "output_type": "stream",
     "text": [
      "Train on 1983 samples, validate on 1983 samples\n",
      "Epoch 1/10\n",
      "1983/1983 [==============================] - 0s - loss: 0.9688 - acc: 0.8069 - val_loss: 0.8418 - val_acc: 0.7075\n",
      "Epoch 2/10\n",
      "1983/1983 [==============================] - 0s - loss: 0.9772 - acc: 0.8210 - val_loss: 0.8406 - val_acc: 0.7080\n",
      "Epoch 3/10\n",
      "1983/1983 [==============================] - 0s - loss: 0.9678 - acc: 0.8058 - val_loss: 0.8394 - val_acc: 0.7080\n",
      "Epoch 4/10\n",
      "1983/1983 [==============================] - 0s - loss: 0.9793 - acc: 0.8099 - val_loss: 0.8397 - val_acc: 0.7085\n",
      "Epoch 5/10\n",
      "1983/1983 [==============================] - 0s - loss: 0.9617 - acc: 0.8174 - val_loss: 0.8393 - val_acc: 0.7070\n",
      "Epoch 6/10\n",
      "1983/1983 [==============================] - 0s - loss: 0.9860 - acc: 0.8094 - val_loss: 0.8368 - val_acc: 0.7100\n",
      "Epoch 7/10\n",
      "1983/1983 [==============================] - 0s - loss: 0.9537 - acc: 0.8285 - val_loss: 0.8345 - val_acc: 0.7121\n",
      "Epoch 8/10\n",
      "1983/1983 [==============================] - 0s - loss: 0.9674 - acc: 0.8225 - val_loss: 0.8345 - val_acc: 0.7110\n",
      "Epoch 9/10\n",
      "1983/1983 [==============================] - 0s - loss: 0.9711 - acc: 0.8190 - val_loss: 0.8328 - val_acc: 0.7121\n",
      "Epoch 10/10\n",
      "1983/1983 [==============================] - 0s - loss: 0.9598 - acc: 0.8159 - val_loss: 0.8319 - val_acc: 0.7115\n"
     ]
    },
    {
     "data": {
      "text/plain": [
       "<keras.callbacks.History at 0x7fb44f711350>"
      ]
     },
     "execution_count": 75,
     "metadata": {},
     "output_type": "execute_result"
    }
   ],
   "source": [
    "ft_model.compile(optimizer=Adam(lr=0.0001), loss='categorical_crossentropy', metrics=['accuracy'])\n",
    "ft_model.fit(aug_val, val_pseudo_labels, nb_epoch=10, validation_data = (aug_val, val_labels), batch_size=64)"
   ]
  },
  {
   "cell_type": "code",
   "execution_count": 76,
   "metadata": {
    "ExecuteTime": {
     "end_time": "2017-08-01T03:10:06.965969Z",
     "start_time": "2017-08-01T03:09:54.151023Z"
    }
   },
   "outputs": [
    {
     "name": "stdout",
     "output_type": "stream",
     "text": [
      "Train on 1983 samples, validate on 1983 samples\n",
      "Epoch 1/10\n",
      "1983/1983 [==============================] - 0s - loss: 0.9830 - acc: 0.8048 - val_loss: 0.8324 - val_acc: 0.7121\n",
      "Epoch 2/10\n",
      "1983/1983 [==============================] - 0s - loss: 0.9628 - acc: 0.8144 - val_loss: 0.8325 - val_acc: 0.7121\n",
      "Epoch 3/10\n",
      "1983/1983 [==============================] - 0s - loss: 0.9551 - acc: 0.8205 - val_loss: 0.8328 - val_acc: 0.7121\n",
      "Epoch 4/10\n",
      "1983/1983 [==============================] - 0s - loss: 0.9522 - acc: 0.8018 - val_loss: 0.8342 - val_acc: 0.7110\n",
      "Epoch 5/10\n",
      "1983/1983 [==============================] - 0s - loss: 0.9658 - acc: 0.8225 - val_loss: 0.8349 - val_acc: 0.7110\n",
      "Epoch 6/10\n",
      "1983/1983 [==============================] - 0s - loss: 0.9541 - acc: 0.8321 - val_loss: 0.8341 - val_acc: 0.7115\n",
      "Epoch 7/10\n",
      "1983/1983 [==============================] - 0s - loss: 0.9557 - acc: 0.8058 - val_loss: 0.8345 - val_acc: 0.7115\n",
      "Epoch 8/10\n",
      "1983/1983 [==============================] - 0s - loss: 0.9786 - acc: 0.8134 - val_loss: 0.8339 - val_acc: 0.7121\n",
      "Epoch 9/10\n",
      "1983/1983 [==============================] - 0s - loss: 0.9745 - acc: 0.8164 - val_loss: 0.8338 - val_acc: 0.7115\n",
      "Epoch 10/10\n",
      "1983/1983 [==============================] - 0s - loss: 0.9507 - acc: 0.8245 - val_loss: 0.8341 - val_acc: 0.7110\n"
     ]
    },
    {
     "data": {
      "text/plain": [
       "<keras.callbacks.History at 0x7fb45be8b990>"
      ]
     },
     "execution_count": 76,
     "metadata": {},
     "output_type": "execute_result"
    }
   ],
   "source": [
    "ft_model.compile(optimizer=Adam(lr=0.00001), loss='categorical_crossentropy', metrics=['accuracy'])\n",
    "ft_model.fit(aug_val, val_pseudo_labels, nb_epoch=10, validation_data = (aug_val, val_labels), batch_size=64)"
   ]
  },
  {
   "cell_type": "code",
   "execution_count": 79,
   "metadata": {
    "ExecuteTime": {
     "end_time": "2017-08-01T03:11:19.598244Z",
     "start_time": "2017-08-01T03:11:06.707697Z"
    }
   },
   "outputs": [
    {
     "name": "stdout",
     "output_type": "stream",
     "text": [
      "Train on 1983 samples, validate on 1983 samples\n",
      "Epoch 1/10\n",
      "1983/1983 [==============================] - 0s - loss: 13.8161 - acc: 0.1583 - val_loss: 14.8095 - val_acc: 0.0812\n",
      "Epoch 2/10\n",
      "1983/1983 [==============================] - 0s - loss: 13.8053 - acc: 0.1594 - val_loss: 14.8095 - val_acc: 0.0812\n",
      "Epoch 3/10\n",
      "1983/1983 [==============================] - 0s - loss: 13.8290 - acc: 0.1553 - val_loss: 14.8095 - val_acc: 0.0812\n",
      "Epoch 4/10\n",
      "1983/1983 [==============================] - 0s - loss: 13.8229 - acc: 0.1528 - val_loss: 14.8095 - val_acc: 0.0812\n",
      "Epoch 5/10\n",
      "1983/1983 [==============================] - 0s - loss: 13.7169 - acc: 0.1649 - val_loss: 14.8095 - val_acc: 0.0812\n",
      "Epoch 6/10\n",
      "1983/1983 [==============================] - 0s - loss: 13.8155 - acc: 0.1583 - val_loss: 14.8013 - val_acc: 0.0817\n",
      "Epoch 7/10\n",
      "1983/1983 [==============================] - 0s - loss: 13.6624 - acc: 0.1654 - val_loss: 14.8095 - val_acc: 0.0812\n",
      "Epoch 8/10\n",
      "1983/1983 [==============================] - 0s - loss: 13.8552 - acc: 0.1503 - val_loss: 14.8013 - val_acc: 0.0817\n",
      "Epoch 9/10\n",
      "1983/1983 [==============================] - 0s - loss: 13.7828 - acc: 0.1589 - val_loss: 14.8095 - val_acc: 0.0812\n",
      "Epoch 10/10\n",
      "1983/1983 [==============================] - 0s - loss: 13.7035 - acc: 0.1624 - val_loss: 14.8095 - val_acc: 0.0812\n"
     ]
    },
    {
     "data": {
      "text/plain": [
       "<keras.callbacks.History at 0x7fb44f5dab90>"
      ]
     },
     "execution_count": 79,
     "metadata": {},
     "output_type": "execute_result"
    }
   ],
   "source": [
    "ft_model.compile(optimizer=Adam(lr=.0001), loss='categorical_crossentropy', metrics=['accuracy'])\n",
    "ft_model.fit(aug_val, val_pseudo_labels, nb_epoch=10, validation_data = (aug_val, val_labels), batch_size=64)"
   ]
  },
  {
   "cell_type": "code",
   "execution_count": 57,
   "metadata": {
    "ExecuteTime": {
     "end_time": "2017-08-01T03:00:12.313118Z",
     "start_time": "2017-08-01T02:59:52.718879Z"
    }
   },
   "outputs": [
    {
     "name": "stderr",
     "output_type": "stream",
     "text": [
      "Problem occurred during compilation with the command line below:\n",
      "/usr/bin/g++ -shared -g -O3 -fno-math-errno -Wno-unused-label -Wno-unused-variable -Wno-write-strings -march=broadwell -mmmx -mno-3dnow -msse -msse2 -msse3 -mssse3 -mno-sse4a -mcx16 -msahf -mmovbe -maes -mno-sha -mpclmul -mpopcnt -mabm -mno-lwp -mfma -mno-fma4 -mno-xop -mbmi -mbmi2 -mno-tbm -mavx -mavx2 -msse4.2 -msse4.1 -mlzcnt -mrtm -mhle -mrdrnd -mf16c -mfsgsbase -mno-rdseed -mno-prfchw -mno-adx -mfxsr -mxsave -mxsaveopt -mno-avx512f -mno-avx512er -mno-avx512cd -mno-avx512pf -mno-prefetchwt1 -mno-clflushopt -mno-xsavec -mno-xsaves -mno-avx512dq -mno-avx512bw -mno-avx512vl -mno-avx512ifma -mno-avx512vbmi -mno-clwb -mno-pcommit -mno-mwaitx --param l1-cache-size=32 --param l1-cache-line-size=64 --param l2-cache-size=46080 -mtune=broadwell -DNPY_NO_DEPRECATED_API=NPY_1_7_API_VERSION -m64 -fPIC -I/home/ubuntu/anaconda2/lib/python2.7/site-packages/numpy/core/include -I/home/ubuntu/anaconda2/include/python2.7 -I/home/ubuntu/anaconda2/lib/python2.7/site-packages/theano/gof -L/home/ubuntu/anaconda2/lib -fvisibility=hidden -o /home/ubuntu/.theano/compiledir_Linux-4.4--generic-x86_64-with-debian-stretch-sid-x86_64-2.7.13-64/tmpUrTupT/2f5f889d22462b015ac2143dfe64211f.so /home/ubuntu/.theano/compiledir_Linux-4.4--generic-x86_64-with-debian-stretch-sid-x86_64-2.7.13-64/tmpUrTupT/mod.cpp -lpython2.7\n",
      "ERROR (theano.gof.cmodule): [Errno 12] Cannot allocate memory\n",
      "ERROR (theano.gof.opt): Optimization failure due to: constant_folding\n",
      "ERROR (theano.gof.opt): node: Elemwise{clip,no_inplace}(TensorConstant{[[  4.8417..9283e-01]]}, TensorConstant{(1, 1) of 1e-07}, TensorConstant{(1, 1) of 1.0})\n",
      "ERROR (theano.gof.opt): TRACEBACK:\n",
      "ERROR (theano.gof.opt): Traceback (most recent call last):\n",
      "  File \"/home/ubuntu/anaconda2/lib/python2.7/site-packages/theano/gof/opt.py\", line 1982, in process_node\n",
      "    replacements = lopt.transform(node)\n",
      "  File \"/home/ubuntu/anaconda2/lib/python2.7/site-packages/theano/tensor/opt.py\", line 6450, in constant_folding\n",
      "    no_recycling=[], impl=impl)\n",
      "  File \"/home/ubuntu/anaconda2/lib/python2.7/site-packages/theano/gof/op.py\", line 935, in make_thunk\n",
      "    no_recycling)\n",
      "  File \"/home/ubuntu/anaconda2/lib/python2.7/site-packages/theano/gof/op.py\", line 839, in make_c_thunk\n",
      "    output_storage=node_output_storage)\n",
      "  File \"/home/ubuntu/anaconda2/lib/python2.7/site-packages/theano/gof/cc.py\", line 1190, in make_thunk\n",
      "    keep_lock=keep_lock)\n",
      "  File \"/home/ubuntu/anaconda2/lib/python2.7/site-packages/theano/gof/cc.py\", line 1131, in __compile__\n",
      "    keep_lock=keep_lock)\n",
      "  File \"/home/ubuntu/anaconda2/lib/python2.7/site-packages/theano/gof/cc.py\", line 1586, in cthunk_factory\n",
      "    key=key, lnk=self, keep_lock=keep_lock)\n",
      "  File \"/home/ubuntu/anaconda2/lib/python2.7/site-packages/theano/gof/cmodule.py\", line 1159, in module_from_key\n",
      "    module = lnk.compile_cmodule(location)\n",
      "  File \"/home/ubuntu/anaconda2/lib/python2.7/site-packages/theano/gof/cc.py\", line 1489, in compile_cmodule\n",
      "    preargs=preargs)\n",
      "  File \"/home/ubuntu/anaconda2/lib/python2.7/site-packages/theano/gof/cmodule.py\", line 2294, in compile_str\n",
      "    p_out = output_subprocess_Popen(cmd)\n",
      "  File \"/home/ubuntu/anaconda2/lib/python2.7/site-packages/theano/misc/windows.py\", line 77, in output_subprocess_Popen\n",
      "    p = subprocess_Popen(command, **params)\n",
      "  File \"/home/ubuntu/anaconda2/lib/python2.7/site-packages/theano/misc/windows.py\", line 43, in subprocess_Popen\n",
      "    proc = subprocess.Popen(command, startupinfo=startupinfo, **params)\n",
      "  File \"/home/ubuntu/anaconda2/lib/python2.7/subprocess.py\", line 390, in __init__\n",
      "    errread, errwrite)\n",
      "  File \"/home/ubuntu/anaconda2/lib/python2.7/subprocess.py\", line 916, in _execute_child\n",
      "    self.pid = os.fork()\n",
      "OSError: [Errno 12] Cannot allocate memory\n",
      "\n",
      "Problem occurred during compilation with the command line below:\n",
      "/usr/bin/g++ -shared -g -O3 -fno-math-errno -Wno-unused-label -Wno-unused-variable -Wno-write-strings -march=broadwell -mmmx -mno-3dnow -msse -msse2 -msse3 -mssse3 -mno-sse4a -mcx16 -msahf -mmovbe -maes -mno-sha -mpclmul -mpopcnt -mabm -mno-lwp -mfma -mno-fma4 -mno-xop -mbmi -mbmi2 -mno-tbm -mavx -mavx2 -msse4.2 -msse4.1 -mlzcnt -mrtm -mhle -mrdrnd -mf16c -mfsgsbase -mno-rdseed -mno-prfchw -mno-adx -mfxsr -mxsave -mxsaveopt -mno-avx512f -mno-avx512er -mno-avx512cd -mno-avx512pf -mno-prefetchwt1 -mno-clflushopt -mno-xsavec -mno-xsaves -mno-avx512dq -mno-avx512bw -mno-avx512vl -mno-avx512ifma -mno-avx512vbmi -mno-clwb -mno-pcommit -mno-mwaitx --param l1-cache-size=32 --param l1-cache-line-size=64 --param l2-cache-size=46080 -mtune=broadwell -DNPY_NO_DEPRECATED_API=NPY_1_7_API_VERSION -m64 -fPIC -I/home/ubuntu/anaconda2/lib/python2.7/site-packages/numpy/core/include -I/home/ubuntu/anaconda2/include/python2.7 -I/home/ubuntu/anaconda2/lib/python2.7/site-packages/theano/gof -L/home/ubuntu/anaconda2/lib -fvisibility=hidden -o /home/ubuntu/.theano/compiledir_Linux-4.4--generic-x86_64-with-debian-stretch-sid-x86_64-2.7.13-64/tmpXikGQ0/2f5f889d22462b015ac2143dfe64211f.so /home/ubuntu/.theano/compiledir_Linux-4.4--generic-x86_64-with-debian-stretch-sid-x86_64-2.7.13-64/tmpXikGQ0/mod.cpp -lpython2.7\n",
      "ERROR (theano.gof.cmodule): [Errno 12] Cannot allocate memory\n",
      "ERROR (theano.gof.opt): Optimization failure due to: constant_folding\n",
      "ERROR (theano.gof.opt): node: Elemwise{clip,no_inplace}(TensorConstant{[[  4.8417..9283e-01]]}, TensorConstant{(1, 1) of 1e-07}, TensorConstant{(1, 1) of 1.0})\n",
      "ERROR (theano.gof.opt): TRACEBACK:\n",
      "ERROR (theano.gof.opt): Traceback (most recent call last):\n",
      "  File \"/home/ubuntu/anaconda2/lib/python2.7/site-packages/theano/gof/opt.py\", line 1982, in process_node\n",
      "    replacements = lopt.transform(node)\n",
      "  File \"/home/ubuntu/anaconda2/lib/python2.7/site-packages/theano/tensor/opt.py\", line 6450, in constant_folding\n",
      "    no_recycling=[], impl=impl)\n",
      "  File \"/home/ubuntu/anaconda2/lib/python2.7/site-packages/theano/gof/op.py\", line 935, in make_thunk\n",
      "    no_recycling)\n",
      "  File \"/home/ubuntu/anaconda2/lib/python2.7/site-packages/theano/gof/op.py\", line 839, in make_c_thunk\n",
      "    output_storage=node_output_storage)\n",
      "  File \"/home/ubuntu/anaconda2/lib/python2.7/site-packages/theano/gof/cc.py\", line 1190, in make_thunk\n",
      "    keep_lock=keep_lock)\n",
      "  File \"/home/ubuntu/anaconda2/lib/python2.7/site-packages/theano/gof/cc.py\", line 1131, in __compile__\n",
      "    keep_lock=keep_lock)\n",
      "  File \"/home/ubuntu/anaconda2/lib/python2.7/site-packages/theano/gof/cc.py\", line 1586, in cthunk_factory\n",
      "    key=key, lnk=self, keep_lock=keep_lock)\n",
      "  File \"/home/ubuntu/anaconda2/lib/python2.7/site-packages/theano/gof/cmodule.py\", line 1159, in module_from_key\n",
      "    module = lnk.compile_cmodule(location)\n",
      "  File \"/home/ubuntu/anaconda2/lib/python2.7/site-packages/theano/gof/cc.py\", line 1489, in compile_cmodule\n",
      "    preargs=preargs)\n",
      "  File \"/home/ubuntu/anaconda2/lib/python2.7/site-packages/theano/gof/cmodule.py\", line 2294, in compile_str\n",
      "    p_out = output_subprocess_Popen(cmd)\n",
      "  File \"/home/ubuntu/anaconda2/lib/python2.7/site-packages/theano/misc/windows.py\", line 77, in output_subprocess_Popen\n",
      "    p = subprocess_Popen(command, **params)\n",
      "  File \"/home/ubuntu/anaconda2/lib/python2.7/site-packages/theano/misc/windows.py\", line 43, in subprocess_Popen\n",
      "    proc = subprocess.Popen(command, startupinfo=startupinfo, **params)\n",
      "  File \"/home/ubuntu/anaconda2/lib/python2.7/subprocess.py\", line 390, in __init__\n",
      "    errread, errwrite)\n",
      "  File \"/home/ubuntu/anaconda2/lib/python2.7/subprocess.py\", line 916, in _execute_child\n",
      "    self.pid = os.fork()\n",
      "OSError: [Errno 12] Cannot allocate memory\n",
      "\n",
      "Problem occurred during compilation with the command line below:\n",
      "/usr/bin/g++ -shared -g -O3 -fno-math-errno -Wno-unused-label -Wno-unused-variable -Wno-write-strings -march=broadwell -mmmx -mno-3dnow -msse -msse2 -msse3 -mssse3 -mno-sse4a -mcx16 -msahf -mmovbe -maes -mno-sha -mpclmul -mpopcnt -mabm -mno-lwp -mfma -mno-fma4 -mno-xop -mbmi -mbmi2 -mno-tbm -mavx -mavx2 -msse4.2 -msse4.1 -mlzcnt -mrtm -mhle -mrdrnd -mf16c -mfsgsbase -mno-rdseed -mno-prfchw -mno-adx -mfxsr -mxsave -mxsaveopt -mno-avx512f -mno-avx512er -mno-avx512cd -mno-avx512pf -mno-prefetchwt1 -mno-clflushopt -mno-xsavec -mno-xsaves -mno-avx512dq -mno-avx512bw -mno-avx512vl -mno-avx512ifma -mno-avx512vbmi -mno-clwb -mno-pcommit -mno-mwaitx --param l1-cache-size=32 --param l1-cache-line-size=64 --param l2-cache-size=46080 -mtune=broadwell -DNPY_NO_DEPRECATED_API=NPY_1_7_API_VERSION -m64 -fPIC -I/home/ubuntu/anaconda2/lib/python2.7/site-packages/numpy/core/include -I/home/ubuntu/anaconda2/include/python2.7 -I/home/ubuntu/anaconda2/lib/python2.7/site-packages/theano/gof -L/home/ubuntu/anaconda2/lib -fvisibility=hidden -o /home/ubuntu/.theano/compiledir_Linux-4.4--generic-x86_64-with-debian-stretch-sid-x86_64-2.7.13-64/tmpB0zSja/2f5f889d22462b015ac2143dfe64211f.so /home/ubuntu/.theano/compiledir_Linux-4.4--generic-x86_64-with-debian-stretch-sid-x86_64-2.7.13-64/tmpB0zSja/mod.cpp -lpython2.7\n",
      "ERROR (theano.gof.cmodule): [Errno 12] Cannot allocate memory\n"
     ]
    },
    {
     "name": "stderr",
     "output_type": "stream",
     "text": [
      "ERROR (theano.gof.opt): Optimization failure due to: constant_folding\n",
      "ERROR (theano.gof.opt): node: Elemwise{clip,no_inplace}(TensorConstant{[[  4.8417..9283e-01]]}, TensorConstant{(1, 1) of 1e-07}, TensorConstant{(1, 1) of 1.0})\n",
      "ERROR (theano.gof.opt): TRACEBACK:\n",
      "ERROR (theano.gof.opt): Traceback (most recent call last):\n",
      "  File \"/home/ubuntu/anaconda2/lib/python2.7/site-packages/theano/gof/opt.py\", line 1982, in process_node\n",
      "    replacements = lopt.transform(node)\n",
      "  File \"/home/ubuntu/anaconda2/lib/python2.7/site-packages/theano/tensor/opt.py\", line 6450, in constant_folding\n",
      "    no_recycling=[], impl=impl)\n",
      "  File \"/home/ubuntu/anaconda2/lib/python2.7/site-packages/theano/gof/op.py\", line 935, in make_thunk\n",
      "    no_recycling)\n",
      "  File \"/home/ubuntu/anaconda2/lib/python2.7/site-packages/theano/gof/op.py\", line 839, in make_c_thunk\n",
      "    output_storage=node_output_storage)\n",
      "  File \"/home/ubuntu/anaconda2/lib/python2.7/site-packages/theano/gof/cc.py\", line 1190, in make_thunk\n",
      "    keep_lock=keep_lock)\n",
      "  File \"/home/ubuntu/anaconda2/lib/python2.7/site-packages/theano/gof/cc.py\", line 1131, in __compile__\n",
      "    keep_lock=keep_lock)\n",
      "  File \"/home/ubuntu/anaconda2/lib/python2.7/site-packages/theano/gof/cc.py\", line 1586, in cthunk_factory\n",
      "    key=key, lnk=self, keep_lock=keep_lock)\n",
      "  File \"/home/ubuntu/anaconda2/lib/python2.7/site-packages/theano/gof/cmodule.py\", line 1159, in module_from_key\n",
      "    module = lnk.compile_cmodule(location)\n",
      "  File \"/home/ubuntu/anaconda2/lib/python2.7/site-packages/theano/gof/cc.py\", line 1489, in compile_cmodule\n",
      "    preargs=preargs)\n",
      "  File \"/home/ubuntu/anaconda2/lib/python2.7/site-packages/theano/gof/cmodule.py\", line 2294, in compile_str\n",
      "    p_out = output_subprocess_Popen(cmd)\n",
      "  File \"/home/ubuntu/anaconda2/lib/python2.7/site-packages/theano/misc/windows.py\", line 77, in output_subprocess_Popen\n",
      "    p = subprocess_Popen(command, **params)\n",
      "  File \"/home/ubuntu/anaconda2/lib/python2.7/site-packages/theano/misc/windows.py\", line 43, in subprocess_Popen\n",
      "    proc = subprocess.Popen(command, startupinfo=startupinfo, **params)\n",
      "  File \"/home/ubuntu/anaconda2/lib/python2.7/subprocess.py\", line 390, in __init__\n",
      "    errread, errwrite)\n",
      "  File \"/home/ubuntu/anaconda2/lib/python2.7/subprocess.py\", line 916, in _execute_child\n",
      "    self.pid = os.fork()\n",
      "OSError: [Errno 12] Cannot allocate memory\n",
      "\n",
      "Problem occurred during compilation with the command line below:\n",
      "/usr/bin/g++ -shared -g -O3 -fno-math-errno -Wno-unused-label -Wno-unused-variable -Wno-write-strings -march=broadwell -mmmx -mno-3dnow -msse -msse2 -msse3 -mssse3 -mno-sse4a -mcx16 -msahf -mmovbe -maes -mno-sha -mpclmul -mpopcnt -mabm -mno-lwp -mfma -mno-fma4 -mno-xop -mbmi -mbmi2 -mno-tbm -mavx -mavx2 -msse4.2 -msse4.1 -mlzcnt -mrtm -mhle -mrdrnd -mf16c -mfsgsbase -mno-rdseed -mno-prfchw -mno-adx -mfxsr -mxsave -mxsaveopt -mno-avx512f -mno-avx512er -mno-avx512cd -mno-avx512pf -mno-prefetchwt1 -mno-clflushopt -mno-xsavec -mno-xsaves -mno-avx512dq -mno-avx512bw -mno-avx512vl -mno-avx512ifma -mno-avx512vbmi -mno-clwb -mno-pcommit -mno-mwaitx --param l1-cache-size=32 --param l1-cache-line-size=64 --param l2-cache-size=46080 -mtune=broadwell -DNPY_NO_DEPRECATED_API=NPY_1_7_API_VERSION -m64 -fPIC -I/home/ubuntu/anaconda2/lib/python2.7/site-packages/numpy/core/include -I/home/ubuntu/anaconda2/include/python2.7 -I/home/ubuntu/anaconda2/lib/python2.7/site-packages/theano/gof -L/home/ubuntu/anaconda2/lib -fvisibility=hidden -o /home/ubuntu/.theano/compiledir_Linux-4.4--generic-x86_64-with-debian-stretch-sid-x86_64-2.7.13-64/tmpFlhlrM/2f5f889d22462b015ac2143dfe64211f.so /home/ubuntu/.theano/compiledir_Linux-4.4--generic-x86_64-with-debian-stretch-sid-x86_64-2.7.13-64/tmpFlhlrM/mod.cpp -lpython2.7\n",
      "ERROR (theano.gof.cmodule): [Errno 12] Cannot allocate memory\n",
      "ERROR (theano.gof.opt): Optimization failure due to: constant_folding\n",
      "ERROR (theano.gof.opt): node: Elemwise{clip,no_inplace}(TensorConstant{[[  4.8417..9283e-01]]}, TensorConstant{(1, 1) of 1e-07}, TensorConstant{(1, 1) of 1.0})\n",
      "ERROR (theano.gof.opt): TRACEBACK:\n",
      "ERROR (theano.gof.opt): Traceback (most recent call last):\n",
      "  File \"/home/ubuntu/anaconda2/lib/python2.7/site-packages/theano/gof/opt.py\", line 1982, in process_node\n",
      "    replacements = lopt.transform(node)\n",
      "  File \"/home/ubuntu/anaconda2/lib/python2.7/site-packages/theano/tensor/opt.py\", line 6450, in constant_folding\n",
      "    no_recycling=[], impl=impl)\n",
      "  File \"/home/ubuntu/anaconda2/lib/python2.7/site-packages/theano/gof/op.py\", line 935, in make_thunk\n",
      "    no_recycling)\n",
      "  File \"/home/ubuntu/anaconda2/lib/python2.7/site-packages/theano/gof/op.py\", line 839, in make_c_thunk\n",
      "    output_storage=node_output_storage)\n",
      "  File \"/home/ubuntu/anaconda2/lib/python2.7/site-packages/theano/gof/cc.py\", line 1190, in make_thunk\n",
      "    keep_lock=keep_lock)\n",
      "  File \"/home/ubuntu/anaconda2/lib/python2.7/site-packages/theano/gof/cc.py\", line 1131, in __compile__\n",
      "    keep_lock=keep_lock)\n",
      "  File \"/home/ubuntu/anaconda2/lib/python2.7/site-packages/theano/gof/cc.py\", line 1586, in cthunk_factory\n",
      "    key=key, lnk=self, keep_lock=keep_lock)\n",
      "  File \"/home/ubuntu/anaconda2/lib/python2.7/site-packages/theano/gof/cmodule.py\", line 1159, in module_from_key\n",
      "    module = lnk.compile_cmodule(location)\n",
      "  File \"/home/ubuntu/anaconda2/lib/python2.7/site-packages/theano/gof/cc.py\", line 1489, in compile_cmodule\n",
      "    preargs=preargs)\n",
      "  File \"/home/ubuntu/anaconda2/lib/python2.7/site-packages/theano/gof/cmodule.py\", line 2294, in compile_str\n",
      "    p_out = output_subprocess_Popen(cmd)\n",
      "  File \"/home/ubuntu/anaconda2/lib/python2.7/site-packages/theano/misc/windows.py\", line 77, in output_subprocess_Popen\n",
      "    p = subprocess_Popen(command, **params)\n",
      "  File \"/home/ubuntu/anaconda2/lib/python2.7/site-packages/theano/misc/windows.py\", line 43, in subprocess_Popen\n",
      "    proc = subprocess.Popen(command, startupinfo=startupinfo, **params)\n",
      "  File \"/home/ubuntu/anaconda2/lib/python2.7/subprocess.py\", line 390, in __init__\n",
      "    errread, errwrite)\n",
      "  File \"/home/ubuntu/anaconda2/lib/python2.7/subprocess.py\", line 916, in _execute_child\n",
      "    self.pid = os.fork()\n",
      "OSError: [Errno 12] Cannot allocate memory\n",
      "\n",
      "Problem occurred during compilation with the command line below:\n",
      "/usr/bin/g++ -shared -g -O3 -fno-math-errno -Wno-unused-label -Wno-unused-variable -Wno-write-strings -march=broadwell -mmmx -mno-3dnow -msse -msse2 -msse3 -mssse3 -mno-sse4a -mcx16 -msahf -mmovbe -maes -mno-sha -mpclmul -mpopcnt -mabm -mno-lwp -mfma -mno-fma4 -mno-xop -mbmi -mbmi2 -mno-tbm -mavx -mavx2 -msse4.2 -msse4.1 -mlzcnt -mrtm -mhle -mrdrnd -mf16c -mfsgsbase -mno-rdseed -mno-prfchw -mno-adx -mfxsr -mxsave -mxsaveopt -mno-avx512f -mno-avx512er -mno-avx512cd -mno-avx512pf -mno-prefetchwt1 -mno-clflushopt -mno-xsavec -mno-xsaves -mno-avx512dq -mno-avx512bw -mno-avx512vl -mno-avx512ifma -mno-avx512vbmi -mno-clwb -mno-pcommit -mno-mwaitx --param l1-cache-size=32 --param l1-cache-line-size=64 --param l2-cache-size=46080 -mtune=broadwell -DNPY_NO_DEPRECATED_API=NPY_1_7_API_VERSION -m64 -fPIC -I/home/ubuntu/anaconda2/lib/python2.7/site-packages/numpy/core/include -I/home/ubuntu/anaconda2/include/python2.7 -I/home/ubuntu/anaconda2/lib/python2.7/site-packages/theano/gof -L/home/ubuntu/anaconda2/lib -fvisibility=hidden -o /home/ubuntu/.theano/compiledir_Linux-4.4--generic-x86_64-with-debian-stretch-sid-x86_64-2.7.13-64/tmpvuqsK2/2f5f889d22462b015ac2143dfe64211f.so /home/ubuntu/.theano/compiledir_Linux-4.4--generic-x86_64-with-debian-stretch-sid-x86_64-2.7.13-64/tmpvuqsK2/mod.cpp -lpython2.7\n",
      "ERROR (theano.gof.cmodule): [Errno 12] Cannot allocate memory\n",
      "ERROR (theano.gof.opt): Optimization failure due to: constant_folding\n",
      "ERROR (theano.gof.opt): node: Elemwise{clip,no_inplace}(TensorConstant{[[  4.8417..9283e-01]]}, TensorConstant{(1, 1) of 1e-07}, TensorConstant{(1, 1) of 1.0})\n",
      "ERROR (theano.gof.opt): TRACEBACK:\n",
      "ERROR (theano.gof.opt): Traceback (most recent call last):\n",
      "  File \"/home/ubuntu/anaconda2/lib/python2.7/site-packages/theano/gof/opt.py\", line 1982, in process_node\n",
      "    replacements = lopt.transform(node)\n",
      "  File \"/home/ubuntu/anaconda2/lib/python2.7/site-packages/theano/tensor/opt.py\", line 6450, in constant_folding\n",
      "    no_recycling=[], impl=impl)\n",
      "  File \"/home/ubuntu/anaconda2/lib/python2.7/site-packages/theano/gof/op.py\", line 935, in make_thunk\n",
      "    no_recycling)\n",
      "  File \"/home/ubuntu/anaconda2/lib/python2.7/site-packages/theano/gof/op.py\", line 839, in make_c_thunk\n",
      "    output_storage=node_output_storage)\n",
      "  File \"/home/ubuntu/anaconda2/lib/python2.7/site-packages/theano/gof/cc.py\", line 1190, in make_thunk\n",
      "    keep_lock=keep_lock)\n",
      "  File \"/home/ubuntu/anaconda2/lib/python2.7/site-packages/theano/gof/cc.py\", line 1131, in __compile__\n",
      "    keep_lock=keep_lock)\n",
      "  File \"/home/ubuntu/anaconda2/lib/python2.7/site-packages/theano/gof/cc.py\", line 1586, in cthunk_factory\n",
      "    key=key, lnk=self, keep_lock=keep_lock)\n",
      "  File \"/home/ubuntu/anaconda2/lib/python2.7/site-packages/theano/gof/cmodule.py\", line 1159, in module_from_key\n",
      "    module = lnk.compile_cmodule(location)\n",
      "  File \"/home/ubuntu/anaconda2/lib/python2.7/site-packages/theano/gof/cc.py\", line 1489, in compile_cmodule\n",
      "    preargs=preargs)\n",
      "  File \"/home/ubuntu/anaconda2/lib/python2.7/site-packages/theano/gof/cmodule.py\", line 2294, in compile_str\n",
      "    p_out = output_subprocess_Popen(cmd)\n",
      "  File \"/home/ubuntu/anaconda2/lib/python2.7/site-packages/theano/misc/windows.py\", line 77, in output_subprocess_Popen\n",
      "    p = subprocess_Popen(command, **params)\n",
      "  File \"/home/ubuntu/anaconda2/lib/python2.7/site-packages/theano/misc/windows.py\", line 43, in subprocess_Popen\n",
      "    proc = subprocess.Popen(command, startupinfo=startupinfo, **params)\n",
      "  File \"/home/ubuntu/anaconda2/lib/python2.7/subprocess.py\", line 390, in __init__\n",
      "    errread, errwrite)\n",
      "  File \"/home/ubuntu/anaconda2/lib/python2.7/subprocess.py\", line 916, in _execute_child\n",
      "    self.pid = os.fork()\n",
      "OSError: [Errno 12] Cannot allocate memory\n",
      "\n"
     ]
    },
    {
     "name": "stderr",
     "output_type": "stream",
     "text": [
      "Problem occurred during compilation with the command line below:\n",
      "/usr/bin/g++ -shared -g -O3 -fno-math-errno -Wno-unused-label -Wno-unused-variable -Wno-write-strings -march=broadwell -mmmx -mno-3dnow -msse -msse2 -msse3 -mssse3 -mno-sse4a -mcx16 -msahf -mmovbe -maes -mno-sha -mpclmul -mpopcnt -mabm -mno-lwp -mfma -mno-fma4 -mno-xop -mbmi -mbmi2 -mno-tbm -mavx -mavx2 -msse4.2 -msse4.1 -mlzcnt -mrtm -mhle -mrdrnd -mf16c -mfsgsbase -mno-rdseed -mno-prfchw -mno-adx -mfxsr -mxsave -mxsaveopt -mno-avx512f -mno-avx512er -mno-avx512cd -mno-avx512pf -mno-prefetchwt1 -mno-clflushopt -mno-xsavec -mno-xsaves -mno-avx512dq -mno-avx512bw -mno-avx512vl -mno-avx512ifma -mno-avx512vbmi -mno-clwb -mno-pcommit -mno-mwaitx --param l1-cache-size=32 --param l1-cache-line-size=64 --param l2-cache-size=46080 -mtune=broadwell -DNPY_NO_DEPRECATED_API=NPY_1_7_API_VERSION -m64 -fPIC -I/home/ubuntu/anaconda2/lib/python2.7/site-packages/numpy/core/include -I/home/ubuntu/anaconda2/include/python2.7 -I/home/ubuntu/anaconda2/lib/python2.7/site-packages/theano/gof -L/home/ubuntu/anaconda2/lib -fvisibility=hidden -o /home/ubuntu/.theano/compiledir_Linux-4.4--generic-x86_64-with-debian-stretch-sid-x86_64-2.7.13-64/tmpaqDxP5/2f5f889d22462b015ac2143dfe64211f.so /home/ubuntu/.theano/compiledir_Linux-4.4--generic-x86_64-with-debian-stretch-sid-x86_64-2.7.13-64/tmpaqDxP5/mod.cpp -lpython2.7\n",
      "ERROR (theano.gof.cmodule): [Errno 12] Cannot allocate memory\n",
      "ERROR (theano.gof.opt): Optimization failure due to: constant_folding\n",
      "ERROR (theano.gof.opt): node: Elemwise{clip,no_inplace}(TensorConstant{[[  4.8417..9283e-01]]}, TensorConstant{(1, 1) of 1e-07}, TensorConstant{(1, 1) of 1.0})\n",
      "ERROR (theano.gof.opt): TRACEBACK:\n",
      "ERROR (theano.gof.opt): Traceback (most recent call last):\n",
      "  File \"/home/ubuntu/anaconda2/lib/python2.7/site-packages/theano/gof/opt.py\", line 1982, in process_node\n",
      "    replacements = lopt.transform(node)\n",
      "  File \"/home/ubuntu/anaconda2/lib/python2.7/site-packages/theano/tensor/opt.py\", line 6450, in constant_folding\n",
      "    no_recycling=[], impl=impl)\n",
      "  File \"/home/ubuntu/anaconda2/lib/python2.7/site-packages/theano/gof/op.py\", line 935, in make_thunk\n",
      "    no_recycling)\n",
      "  File \"/home/ubuntu/anaconda2/lib/python2.7/site-packages/theano/gof/op.py\", line 839, in make_c_thunk\n",
      "    output_storage=node_output_storage)\n",
      "  File \"/home/ubuntu/anaconda2/lib/python2.7/site-packages/theano/gof/cc.py\", line 1190, in make_thunk\n",
      "    keep_lock=keep_lock)\n",
      "  File \"/home/ubuntu/anaconda2/lib/python2.7/site-packages/theano/gof/cc.py\", line 1131, in __compile__\n",
      "    keep_lock=keep_lock)\n",
      "  File \"/home/ubuntu/anaconda2/lib/python2.7/site-packages/theano/gof/cc.py\", line 1586, in cthunk_factory\n",
      "    key=key, lnk=self, keep_lock=keep_lock)\n",
      "  File \"/home/ubuntu/anaconda2/lib/python2.7/site-packages/theano/gof/cmodule.py\", line 1159, in module_from_key\n",
      "    module = lnk.compile_cmodule(location)\n",
      "  File \"/home/ubuntu/anaconda2/lib/python2.7/site-packages/theano/gof/cc.py\", line 1489, in compile_cmodule\n",
      "    preargs=preargs)\n",
      "  File \"/home/ubuntu/anaconda2/lib/python2.7/site-packages/theano/gof/cmodule.py\", line 2294, in compile_str\n",
      "    p_out = output_subprocess_Popen(cmd)\n",
      "  File \"/home/ubuntu/anaconda2/lib/python2.7/site-packages/theano/misc/windows.py\", line 77, in output_subprocess_Popen\n",
      "    p = subprocess_Popen(command, **params)\n",
      "  File \"/home/ubuntu/anaconda2/lib/python2.7/site-packages/theano/misc/windows.py\", line 43, in subprocess_Popen\n",
      "    proc = subprocess.Popen(command, startupinfo=startupinfo, **params)\n",
      "  File \"/home/ubuntu/anaconda2/lib/python2.7/subprocess.py\", line 390, in __init__\n",
      "    errread, errwrite)\n",
      "  File \"/home/ubuntu/anaconda2/lib/python2.7/subprocess.py\", line 916, in _execute_child\n",
      "    self.pid = os.fork()\n",
      "OSError: [Errno 12] Cannot allocate memory\n",
      "\n",
      "Problem occurred during compilation with the command line below:\n",
      "/usr/bin/g++ -shared -g -O3 -fno-math-errno -Wno-unused-label -Wno-unused-variable -Wno-write-strings -march=broadwell -mmmx -mno-3dnow -msse -msse2 -msse3 -mssse3 -mno-sse4a -mcx16 -msahf -mmovbe -maes -mno-sha -mpclmul -mpopcnt -mabm -mno-lwp -mfma -mno-fma4 -mno-xop -mbmi -mbmi2 -mno-tbm -mavx -mavx2 -msse4.2 -msse4.1 -mlzcnt -mrtm -mhle -mrdrnd -mf16c -mfsgsbase -mno-rdseed -mno-prfchw -mno-adx -mfxsr -mxsave -mxsaveopt -mno-avx512f -mno-avx512er -mno-avx512cd -mno-avx512pf -mno-prefetchwt1 -mno-clflushopt -mno-xsavec -mno-xsaves -mno-avx512dq -mno-avx512bw -mno-avx512vl -mno-avx512ifma -mno-avx512vbmi -mno-clwb -mno-pcommit -mno-mwaitx --param l1-cache-size=32 --param l1-cache-line-size=64 --param l2-cache-size=46080 -mtune=broadwell -DNPY_NO_DEPRECATED_API=NPY_1_7_API_VERSION -m64 -fPIC -I/home/ubuntu/anaconda2/lib/python2.7/site-packages/numpy/core/include -I/home/ubuntu/anaconda2/include/python2.7 -I/home/ubuntu/anaconda2/lib/python2.7/site-packages/theano/gof -L/home/ubuntu/anaconda2/lib -fvisibility=hidden -o /home/ubuntu/.theano/compiledir_Linux-4.4--generic-x86_64-with-debian-stretch-sid-x86_64-2.7.13-64/tmpbMX_Vi/2f5f889d22462b015ac2143dfe64211f.so /home/ubuntu/.theano/compiledir_Linux-4.4--generic-x86_64-with-debian-stretch-sid-x86_64-2.7.13-64/tmpbMX_Vi/mod.cpp -lpython2.7\n",
      "ERROR (theano.gof.cmodule): [Errno 12] Cannot allocate memory\n",
      "ERROR (theano.gof.opt): Optimization failure due to: constant_folding\n",
      "ERROR (theano.gof.opt): node: Elemwise{clip,no_inplace}(TensorConstant{[[  4.8417..9283e-01]]}, TensorConstant{(1, 1) of 1e-07}, TensorConstant{(1, 1) of 1.0})\n",
      "ERROR (theano.gof.opt): TRACEBACK:\n",
      "ERROR (theano.gof.opt): Traceback (most recent call last):\n",
      "  File \"/home/ubuntu/anaconda2/lib/python2.7/site-packages/theano/gof/opt.py\", line 1982, in process_node\n",
      "    replacements = lopt.transform(node)\n",
      "  File \"/home/ubuntu/anaconda2/lib/python2.7/site-packages/theano/tensor/opt.py\", line 6450, in constant_folding\n",
      "    no_recycling=[], impl=impl)\n",
      "  File \"/home/ubuntu/anaconda2/lib/python2.7/site-packages/theano/gof/op.py\", line 935, in make_thunk\n",
      "    no_recycling)\n",
      "  File \"/home/ubuntu/anaconda2/lib/python2.7/site-packages/theano/gof/op.py\", line 839, in make_c_thunk\n",
      "    output_storage=node_output_storage)\n",
      "  File \"/home/ubuntu/anaconda2/lib/python2.7/site-packages/theano/gof/cc.py\", line 1190, in make_thunk\n",
      "    keep_lock=keep_lock)\n",
      "  File \"/home/ubuntu/anaconda2/lib/python2.7/site-packages/theano/gof/cc.py\", line 1131, in __compile__\n",
      "    keep_lock=keep_lock)\n",
      "  File \"/home/ubuntu/anaconda2/lib/python2.7/site-packages/theano/gof/cc.py\", line 1586, in cthunk_factory\n",
      "    key=key, lnk=self, keep_lock=keep_lock)\n",
      "  File \"/home/ubuntu/anaconda2/lib/python2.7/site-packages/theano/gof/cmodule.py\", line 1159, in module_from_key\n",
      "    module = lnk.compile_cmodule(location)\n",
      "  File \"/home/ubuntu/anaconda2/lib/python2.7/site-packages/theano/gof/cc.py\", line 1489, in compile_cmodule\n",
      "    preargs=preargs)\n",
      "  File \"/home/ubuntu/anaconda2/lib/python2.7/site-packages/theano/gof/cmodule.py\", line 2294, in compile_str\n",
      "    p_out = output_subprocess_Popen(cmd)\n",
      "  File \"/home/ubuntu/anaconda2/lib/python2.7/site-packages/theano/misc/windows.py\", line 77, in output_subprocess_Popen\n",
      "    p = subprocess_Popen(command, **params)\n",
      "  File \"/home/ubuntu/anaconda2/lib/python2.7/site-packages/theano/misc/windows.py\", line 43, in subprocess_Popen\n",
      "    proc = subprocess.Popen(command, startupinfo=startupinfo, **params)\n",
      "  File \"/home/ubuntu/anaconda2/lib/python2.7/subprocess.py\", line 390, in __init__\n",
      "    errread, errwrite)\n",
      "  File \"/home/ubuntu/anaconda2/lib/python2.7/subprocess.py\", line 916, in _execute_child\n",
      "    self.pid = os.fork()\n",
      "OSError: [Errno 12] Cannot allocate memory\n",
      "\n",
      "Problem occurred during compilation with the command line below:\n",
      "/usr/bin/g++ -shared -g -O3 -fno-math-errno -Wno-unused-label -Wno-unused-variable -Wno-write-strings -march=broadwell -mmmx -mno-3dnow -msse -msse2 -msse3 -mssse3 -mno-sse4a -mcx16 -msahf -mmovbe -maes -mno-sha -mpclmul -mpopcnt -mabm -mno-lwp -mfma -mno-fma4 -mno-xop -mbmi -mbmi2 -mno-tbm -mavx -mavx2 -msse4.2 -msse4.1 -mlzcnt -mrtm -mhle -mrdrnd -mf16c -mfsgsbase -mno-rdseed -mno-prfchw -mno-adx -mfxsr -mxsave -mxsaveopt -mno-avx512f -mno-avx512er -mno-avx512cd -mno-avx512pf -mno-prefetchwt1 -mno-clflushopt -mno-xsavec -mno-xsaves -mno-avx512dq -mno-avx512bw -mno-avx512vl -mno-avx512ifma -mno-avx512vbmi -mno-clwb -mno-pcommit -mno-mwaitx --param l1-cache-size=32 --param l1-cache-line-size=64 --param l2-cache-size=46080 -mtune=broadwell -DNPY_NO_DEPRECATED_API=NPY_1_7_API_VERSION -m64 -fPIC -I/home/ubuntu/anaconda2/lib/python2.7/site-packages/numpy/core/include -I/home/ubuntu/anaconda2/include/python2.7 -I/home/ubuntu/anaconda2/lib/python2.7/site-packages/theano/gof -L/home/ubuntu/anaconda2/lib -fvisibility=hidden -o /home/ubuntu/.theano/compiledir_Linux-4.4--generic-x86_64-with-debian-stretch-sid-x86_64-2.7.13-64/tmpKYG5HD/2f5f889d22462b015ac2143dfe64211f.so /home/ubuntu/.theano/compiledir_Linux-4.4--generic-x86_64-with-debian-stretch-sid-x86_64-2.7.13-64/tmpKYG5HD/mod.cpp -lpython2.7\n",
      "ERROR (theano.gof.cmodule): [Errno 12] Cannot allocate memory\n"
     ]
    },
    {
     "name": "stderr",
     "output_type": "stream",
     "text": [
      "ERROR (theano.gof.opt): Optimization failure due to: constant_folding\n",
      "ERROR (theano.gof.opt): node: Elemwise{clip,no_inplace}(TensorConstant{[[  4.8417..9283e-01]]}, TensorConstant{(1, 1) of 1e-07}, TensorConstant{(1, 1) of 1.0})\n",
      "ERROR (theano.gof.opt): TRACEBACK:\n",
      "ERROR (theano.gof.opt): Traceback (most recent call last):\n",
      "  File \"/home/ubuntu/anaconda2/lib/python2.7/site-packages/theano/gof/opt.py\", line 1982, in process_node\n",
      "    replacements = lopt.transform(node)\n",
      "  File \"/home/ubuntu/anaconda2/lib/python2.7/site-packages/theano/tensor/opt.py\", line 6450, in constant_folding\n",
      "    no_recycling=[], impl=impl)\n",
      "  File \"/home/ubuntu/anaconda2/lib/python2.7/site-packages/theano/gof/op.py\", line 935, in make_thunk\n",
      "    no_recycling)\n",
      "  File \"/home/ubuntu/anaconda2/lib/python2.7/site-packages/theano/gof/op.py\", line 839, in make_c_thunk\n",
      "    output_storage=node_output_storage)\n",
      "  File \"/home/ubuntu/anaconda2/lib/python2.7/site-packages/theano/gof/cc.py\", line 1190, in make_thunk\n",
      "    keep_lock=keep_lock)\n",
      "  File \"/home/ubuntu/anaconda2/lib/python2.7/site-packages/theano/gof/cc.py\", line 1131, in __compile__\n",
      "    keep_lock=keep_lock)\n",
      "  File \"/home/ubuntu/anaconda2/lib/python2.7/site-packages/theano/gof/cc.py\", line 1586, in cthunk_factory\n",
      "    key=key, lnk=self, keep_lock=keep_lock)\n",
      "  File \"/home/ubuntu/anaconda2/lib/python2.7/site-packages/theano/gof/cmodule.py\", line 1159, in module_from_key\n",
      "    module = lnk.compile_cmodule(location)\n",
      "  File \"/home/ubuntu/anaconda2/lib/python2.7/site-packages/theano/gof/cc.py\", line 1489, in compile_cmodule\n",
      "    preargs=preargs)\n",
      "  File \"/home/ubuntu/anaconda2/lib/python2.7/site-packages/theano/gof/cmodule.py\", line 2294, in compile_str\n",
      "    p_out = output_subprocess_Popen(cmd)\n",
      "  File \"/home/ubuntu/anaconda2/lib/python2.7/site-packages/theano/misc/windows.py\", line 77, in output_subprocess_Popen\n",
      "    p = subprocess_Popen(command, **params)\n",
      "  File \"/home/ubuntu/anaconda2/lib/python2.7/site-packages/theano/misc/windows.py\", line 43, in subprocess_Popen\n",
      "    proc = subprocess.Popen(command, startupinfo=startupinfo, **params)\n",
      "  File \"/home/ubuntu/anaconda2/lib/python2.7/subprocess.py\", line 390, in __init__\n",
      "    errread, errwrite)\n",
      "  File \"/home/ubuntu/anaconda2/lib/python2.7/subprocess.py\", line 916, in _execute_child\n",
      "    self.pid = os.fork()\n",
      "OSError: [Errno 12] Cannot allocate memory\n",
      "\n",
      "Problem occurred during compilation with the command line below:\n",
      "/usr/bin/g++ -shared -g -O3 -fno-math-errno -Wno-unused-label -Wno-unused-variable -Wno-write-strings -march=broadwell -mmmx -mno-3dnow -msse -msse2 -msse3 -mssse3 -mno-sse4a -mcx16 -msahf -mmovbe -maes -mno-sha -mpclmul -mpopcnt -mabm -mno-lwp -mfma -mno-fma4 -mno-xop -mbmi -mbmi2 -mno-tbm -mavx -mavx2 -msse4.2 -msse4.1 -mlzcnt -mrtm -mhle -mrdrnd -mf16c -mfsgsbase -mno-rdseed -mno-prfchw -mno-adx -mfxsr -mxsave -mxsaveopt -mno-avx512f -mno-avx512er -mno-avx512cd -mno-avx512pf -mno-prefetchwt1 -mno-clflushopt -mno-xsavec -mno-xsaves -mno-avx512dq -mno-avx512bw -mno-avx512vl -mno-avx512ifma -mno-avx512vbmi -mno-clwb -mno-pcommit -mno-mwaitx --param l1-cache-size=32 --param l1-cache-line-size=64 --param l2-cache-size=46080 -mtune=broadwell -DNPY_NO_DEPRECATED_API=NPY_1_7_API_VERSION -m64 -fPIC -I/home/ubuntu/anaconda2/lib/python2.7/site-packages/numpy/core/include -I/home/ubuntu/anaconda2/include/python2.7 -I/home/ubuntu/anaconda2/lib/python2.7/site-packages/theano/gof -L/home/ubuntu/anaconda2/lib -fvisibility=hidden -o /home/ubuntu/.theano/compiledir_Linux-4.4--generic-x86_64-with-debian-stretch-sid-x86_64-2.7.13-64/tmpWffxRQ/2f5f889d22462b015ac2143dfe64211f.so /home/ubuntu/.theano/compiledir_Linux-4.4--generic-x86_64-with-debian-stretch-sid-x86_64-2.7.13-64/tmpWffxRQ/mod.cpp -lpython2.7\n",
      "ERROR (theano.gof.cmodule): [Errno 12] Cannot allocate memory\n",
      "ERROR (theano.gof.opt): Optimization failure due to: constant_folding\n",
      "ERROR (theano.gof.opt): node: Elemwise{clip,no_inplace}(TensorConstant{[[  4.8417..9283e-01]]}, TensorConstant{(1, 1) of 1e-07}, TensorConstant{(1, 1) of 1.0})\n",
      "ERROR (theano.gof.opt): TRACEBACK:\n",
      "ERROR (theano.gof.opt): Traceback (most recent call last):\n",
      "  File \"/home/ubuntu/anaconda2/lib/python2.7/site-packages/theano/gof/opt.py\", line 1982, in process_node\n",
      "    replacements = lopt.transform(node)\n",
      "  File \"/home/ubuntu/anaconda2/lib/python2.7/site-packages/theano/tensor/opt.py\", line 6450, in constant_folding\n",
      "    no_recycling=[], impl=impl)\n",
      "  File \"/home/ubuntu/anaconda2/lib/python2.7/site-packages/theano/gof/op.py\", line 935, in make_thunk\n",
      "    no_recycling)\n",
      "  File \"/home/ubuntu/anaconda2/lib/python2.7/site-packages/theano/gof/op.py\", line 839, in make_c_thunk\n",
      "    output_storage=node_output_storage)\n",
      "  File \"/home/ubuntu/anaconda2/lib/python2.7/site-packages/theano/gof/cc.py\", line 1190, in make_thunk\n",
      "    keep_lock=keep_lock)\n",
      "  File \"/home/ubuntu/anaconda2/lib/python2.7/site-packages/theano/gof/cc.py\", line 1131, in __compile__\n",
      "    keep_lock=keep_lock)\n",
      "  File \"/home/ubuntu/anaconda2/lib/python2.7/site-packages/theano/gof/cc.py\", line 1586, in cthunk_factory\n",
      "    key=key, lnk=self, keep_lock=keep_lock)\n",
      "  File \"/home/ubuntu/anaconda2/lib/python2.7/site-packages/theano/gof/cmodule.py\", line 1159, in module_from_key\n",
      "    module = lnk.compile_cmodule(location)\n",
      "  File \"/home/ubuntu/anaconda2/lib/python2.7/site-packages/theano/gof/cc.py\", line 1489, in compile_cmodule\n",
      "    preargs=preargs)\n",
      "  File \"/home/ubuntu/anaconda2/lib/python2.7/site-packages/theano/gof/cmodule.py\", line 2294, in compile_str\n",
      "    p_out = output_subprocess_Popen(cmd)\n",
      "  File \"/home/ubuntu/anaconda2/lib/python2.7/site-packages/theano/misc/windows.py\", line 77, in output_subprocess_Popen\n",
      "    p = subprocess_Popen(command, **params)\n",
      "  File \"/home/ubuntu/anaconda2/lib/python2.7/site-packages/theano/misc/windows.py\", line 43, in subprocess_Popen\n",
      "    proc = subprocess.Popen(command, startupinfo=startupinfo, **params)\n",
      "  File \"/home/ubuntu/anaconda2/lib/python2.7/subprocess.py\", line 390, in __init__\n",
      "    errread, errwrite)\n",
      "  File \"/home/ubuntu/anaconda2/lib/python2.7/subprocess.py\", line 916, in _execute_child\n",
      "    self.pid = os.fork()\n",
      "OSError: [Errno 12] Cannot allocate memory\n",
      "\n",
      "Problem occurred during compilation with the command line below:\n",
      "/usr/bin/g++ -shared -g -O3 -fno-math-errno -Wno-unused-label -Wno-unused-variable -Wno-write-strings -march=broadwell -mmmx -mno-3dnow -msse -msse2 -msse3 -mssse3 -mno-sse4a -mcx16 -msahf -mmovbe -maes -mno-sha -mpclmul -mpopcnt -mabm -mno-lwp -mfma -mno-fma4 -mno-xop -mbmi -mbmi2 -mno-tbm -mavx -mavx2 -msse4.2 -msse4.1 -mlzcnt -mrtm -mhle -mrdrnd -mf16c -mfsgsbase -mno-rdseed -mno-prfchw -mno-adx -mfxsr -mxsave -mxsaveopt -mno-avx512f -mno-avx512er -mno-avx512cd -mno-avx512pf -mno-prefetchwt1 -mno-clflushopt -mno-xsavec -mno-xsaves -mno-avx512dq -mno-avx512bw -mno-avx512vl -mno-avx512ifma -mno-avx512vbmi -mno-clwb -mno-pcommit -mno-mwaitx --param l1-cache-size=32 --param l1-cache-line-size=64 --param l2-cache-size=46080 -mtune=broadwell -DNPY_NO_DEPRECATED_API=NPY_1_7_API_VERSION -m64 -fPIC -I/home/ubuntu/anaconda2/lib/python2.7/site-packages/numpy/core/include -I/home/ubuntu/anaconda2/include/python2.7 -I/home/ubuntu/anaconda2/lib/python2.7/site-packages/theano/gof -L/home/ubuntu/anaconda2/lib -fvisibility=hidden -o /home/ubuntu/.theano/compiledir_Linux-4.4--generic-x86_64-with-debian-stretch-sid-x86_64-2.7.13-64/tmpoOdQn1/2f5f889d22462b015ac2143dfe64211f.so /home/ubuntu/.theano/compiledir_Linux-4.4--generic-x86_64-with-debian-stretch-sid-x86_64-2.7.13-64/tmpoOdQn1/mod.cpp -lpython2.7\n",
      "ERROR (theano.gof.cmodule): [Errno 12] Cannot allocate memory\n",
      "ERROR (theano.gof.opt): Optimization failure due to: constant_folding\n",
      "ERROR (theano.gof.opt): node: Elemwise{clip,no_inplace}(TensorConstant{[[  4.8417..9283e-01]]}, TensorConstant{(1, 1) of 1e-07}, TensorConstant{(1, 1) of 1.0})\n",
      "ERROR (theano.gof.opt): TRACEBACK:\n",
      "ERROR (theano.gof.opt): Traceback (most recent call last):\n",
      "  File \"/home/ubuntu/anaconda2/lib/python2.7/site-packages/theano/gof/opt.py\", line 1982, in process_node\n",
      "    replacements = lopt.transform(node)\n",
      "  File \"/home/ubuntu/anaconda2/lib/python2.7/site-packages/theano/tensor/opt.py\", line 6450, in constant_folding\n",
      "    no_recycling=[], impl=impl)\n",
      "  File \"/home/ubuntu/anaconda2/lib/python2.7/site-packages/theano/gof/op.py\", line 935, in make_thunk\n",
      "    no_recycling)\n",
      "  File \"/home/ubuntu/anaconda2/lib/python2.7/site-packages/theano/gof/op.py\", line 839, in make_c_thunk\n",
      "    output_storage=node_output_storage)\n",
      "  File \"/home/ubuntu/anaconda2/lib/python2.7/site-packages/theano/gof/cc.py\", line 1190, in make_thunk\n",
      "    keep_lock=keep_lock)\n",
      "  File \"/home/ubuntu/anaconda2/lib/python2.7/site-packages/theano/gof/cc.py\", line 1131, in __compile__\n",
      "    keep_lock=keep_lock)\n",
      "  File \"/home/ubuntu/anaconda2/lib/python2.7/site-packages/theano/gof/cc.py\", line 1586, in cthunk_factory\n",
      "    key=key, lnk=self, keep_lock=keep_lock)\n",
      "  File \"/home/ubuntu/anaconda2/lib/python2.7/site-packages/theano/gof/cmodule.py\", line 1159, in module_from_key\n",
      "    module = lnk.compile_cmodule(location)\n",
      "  File \"/home/ubuntu/anaconda2/lib/python2.7/site-packages/theano/gof/cc.py\", line 1489, in compile_cmodule\n",
      "    preargs=preargs)\n",
      "  File \"/home/ubuntu/anaconda2/lib/python2.7/site-packages/theano/gof/cmodule.py\", line 2294, in compile_str\n",
      "    p_out = output_subprocess_Popen(cmd)\n",
      "  File \"/home/ubuntu/anaconda2/lib/python2.7/site-packages/theano/misc/windows.py\", line 77, in output_subprocess_Popen\n",
      "    p = subprocess_Popen(command, **params)\n",
      "  File \"/home/ubuntu/anaconda2/lib/python2.7/site-packages/theano/misc/windows.py\", line 43, in subprocess_Popen\n",
      "    proc = subprocess.Popen(command, startupinfo=startupinfo, **params)\n",
      "  File \"/home/ubuntu/anaconda2/lib/python2.7/subprocess.py\", line 390, in __init__\n",
      "    errread, errwrite)\n",
      "  File \"/home/ubuntu/anaconda2/lib/python2.7/subprocess.py\", line 916, in _execute_child\n",
      "    self.pid = os.fork()\n",
      "OSError: [Errno 12] Cannot allocate memory\n",
      "\n"
     ]
    },
    {
     "name": "stderr",
     "output_type": "stream",
     "text": [
      "Problem occurred during compilation with the command line below:\n",
      "/usr/bin/g++ -shared -g -O3 -fno-math-errno -Wno-unused-label -Wno-unused-variable -Wno-write-strings -march=broadwell -mmmx -mno-3dnow -msse -msse2 -msse3 -mssse3 -mno-sse4a -mcx16 -msahf -mmovbe -maes -mno-sha -mpclmul -mpopcnt -mabm -mno-lwp -mfma -mno-fma4 -mno-xop -mbmi -mbmi2 -mno-tbm -mavx -mavx2 -msse4.2 -msse4.1 -mlzcnt -mrtm -mhle -mrdrnd -mf16c -mfsgsbase -mno-rdseed -mno-prfchw -mno-adx -mfxsr -mxsave -mxsaveopt -mno-avx512f -mno-avx512er -mno-avx512cd -mno-avx512pf -mno-prefetchwt1 -mno-clflushopt -mno-xsavec -mno-xsaves -mno-avx512dq -mno-avx512bw -mno-avx512vl -mno-avx512ifma -mno-avx512vbmi -mno-clwb -mno-pcommit -mno-mwaitx --param l1-cache-size=32 --param l1-cache-line-size=64 --param l2-cache-size=46080 -mtune=broadwell -DNPY_NO_DEPRECATED_API=NPY_1_7_API_VERSION -m64 -fPIC -I/home/ubuntu/anaconda2/lib/python2.7/site-packages/numpy/core/include -I/home/ubuntu/anaconda2/include/python2.7 -I/home/ubuntu/anaconda2/lib/python2.7/site-packages/theano/gof -L/home/ubuntu/anaconda2/lib -fvisibility=hidden -o /home/ubuntu/.theano/compiledir_Linux-4.4--generic-x86_64-with-debian-stretch-sid-x86_64-2.7.13-64/tmp9BPnFp/2f5f889d22462b015ac2143dfe64211f.so /home/ubuntu/.theano/compiledir_Linux-4.4--generic-x86_64-with-debian-stretch-sid-x86_64-2.7.13-64/tmp9BPnFp/mod.cpp -lpython2.7\n",
      "ERROR (theano.gof.cmodule): [Errno 12] Cannot allocate memory\n",
      "ERROR (theano.gof.opt): Optimization failure due to: constant_folding\n",
      "ERROR (theano.gof.opt): node: Elemwise{clip,no_inplace}(TensorConstant{[[  4.8417..9283e-01]]}, TensorConstant{(1, 1) of 1e-07}, TensorConstant{(1, 1) of 1.0})\n",
      "ERROR (theano.gof.opt): TRACEBACK:\n",
      "ERROR (theano.gof.opt): Traceback (most recent call last):\n",
      "  File \"/home/ubuntu/anaconda2/lib/python2.7/site-packages/theano/gof/opt.py\", line 1982, in process_node\n",
      "    replacements = lopt.transform(node)\n",
      "  File \"/home/ubuntu/anaconda2/lib/python2.7/site-packages/theano/tensor/opt.py\", line 6450, in constant_folding\n",
      "    no_recycling=[], impl=impl)\n",
      "  File \"/home/ubuntu/anaconda2/lib/python2.7/site-packages/theano/gof/op.py\", line 935, in make_thunk\n",
      "    no_recycling)\n",
      "  File \"/home/ubuntu/anaconda2/lib/python2.7/site-packages/theano/gof/op.py\", line 839, in make_c_thunk\n",
      "    output_storage=node_output_storage)\n",
      "  File \"/home/ubuntu/anaconda2/lib/python2.7/site-packages/theano/gof/cc.py\", line 1190, in make_thunk\n",
      "    keep_lock=keep_lock)\n",
      "  File \"/home/ubuntu/anaconda2/lib/python2.7/site-packages/theano/gof/cc.py\", line 1131, in __compile__\n",
      "    keep_lock=keep_lock)\n",
      "  File \"/home/ubuntu/anaconda2/lib/python2.7/site-packages/theano/gof/cc.py\", line 1586, in cthunk_factory\n",
      "    key=key, lnk=self, keep_lock=keep_lock)\n",
      "  File \"/home/ubuntu/anaconda2/lib/python2.7/site-packages/theano/gof/cmodule.py\", line 1159, in module_from_key\n",
      "    module = lnk.compile_cmodule(location)\n",
      "  File \"/home/ubuntu/anaconda2/lib/python2.7/site-packages/theano/gof/cc.py\", line 1489, in compile_cmodule\n",
      "    preargs=preargs)\n",
      "  File \"/home/ubuntu/anaconda2/lib/python2.7/site-packages/theano/gof/cmodule.py\", line 2294, in compile_str\n",
      "    p_out = output_subprocess_Popen(cmd)\n",
      "  File \"/home/ubuntu/anaconda2/lib/python2.7/site-packages/theano/misc/windows.py\", line 77, in output_subprocess_Popen\n",
      "    p = subprocess_Popen(command, **params)\n",
      "  File \"/home/ubuntu/anaconda2/lib/python2.7/site-packages/theano/misc/windows.py\", line 43, in subprocess_Popen\n",
      "    proc = subprocess.Popen(command, startupinfo=startupinfo, **params)\n",
      "  File \"/home/ubuntu/anaconda2/lib/python2.7/subprocess.py\", line 390, in __init__\n",
      "    errread, errwrite)\n",
      "  File \"/home/ubuntu/anaconda2/lib/python2.7/subprocess.py\", line 916, in _execute_child\n",
      "    self.pid = os.fork()\n",
      "OSError: [Errno 12] Cannot allocate memory\n",
      "\n",
      "Problem occurred during compilation with the command line below:\n",
      "/usr/bin/g++ -shared -g -O3 -fno-math-errno -Wno-unused-label -Wno-unused-variable -Wno-write-strings -march=broadwell -mmmx -mno-3dnow -msse -msse2 -msse3 -mssse3 -mno-sse4a -mcx16 -msahf -mmovbe -maes -mno-sha -mpclmul -mpopcnt -mabm -mno-lwp -mfma -mno-fma4 -mno-xop -mbmi -mbmi2 -mno-tbm -mavx -mavx2 -msse4.2 -msse4.1 -mlzcnt -mrtm -mhle -mrdrnd -mf16c -mfsgsbase -mno-rdseed -mno-prfchw -mno-adx -mfxsr -mxsave -mxsaveopt -mno-avx512f -mno-avx512er -mno-avx512cd -mno-avx512pf -mno-prefetchwt1 -mno-clflushopt -mno-xsavec -mno-xsaves -mno-avx512dq -mno-avx512bw -mno-avx512vl -mno-avx512ifma -mno-avx512vbmi -mno-clwb -mno-pcommit -mno-mwaitx --param l1-cache-size=32 --param l1-cache-line-size=64 --param l2-cache-size=46080 -mtune=broadwell -DNPY_NO_DEPRECATED_API=NPY_1_7_API_VERSION -m64 -fPIC -I/home/ubuntu/anaconda2/lib/python2.7/site-packages/numpy/core/include -I/home/ubuntu/anaconda2/include/python2.7 -I/home/ubuntu/anaconda2/lib/python2.7/site-packages/theano/gof -L/home/ubuntu/anaconda2/lib -fvisibility=hidden -o /home/ubuntu/.theano/compiledir_Linux-4.4--generic-x86_64-with-debian-stretch-sid-x86_64-2.7.13-64/tmpLk6fEr/2f5f889d22462b015ac2143dfe64211f.so /home/ubuntu/.theano/compiledir_Linux-4.4--generic-x86_64-with-debian-stretch-sid-x86_64-2.7.13-64/tmpLk6fEr/mod.cpp -lpython2.7\n",
      "ERROR (theano.gof.cmodule): [Errno 12] Cannot allocate memory\n",
      "ERROR (theano.gof.opt): Optimization failure due to: constant_folding\n",
      "ERROR (theano.gof.opt): node: Elemwise{clip,no_inplace}(TensorConstant{[[  4.8417..9283e-01]]}, TensorConstant{(1, 1) of 1e-07}, TensorConstant{(1, 1) of 1.0})\n",
      "ERROR (theano.gof.opt): TRACEBACK:\n",
      "ERROR (theano.gof.opt): Traceback (most recent call last):\n",
      "  File \"/home/ubuntu/anaconda2/lib/python2.7/site-packages/theano/gof/opt.py\", line 1982, in process_node\n",
      "    replacements = lopt.transform(node)\n",
      "  File \"/home/ubuntu/anaconda2/lib/python2.7/site-packages/theano/tensor/opt.py\", line 6450, in constant_folding\n",
      "    no_recycling=[], impl=impl)\n",
      "  File \"/home/ubuntu/anaconda2/lib/python2.7/site-packages/theano/gof/op.py\", line 935, in make_thunk\n",
      "    no_recycling)\n",
      "  File \"/home/ubuntu/anaconda2/lib/python2.7/site-packages/theano/gof/op.py\", line 839, in make_c_thunk\n",
      "    output_storage=node_output_storage)\n",
      "  File \"/home/ubuntu/anaconda2/lib/python2.7/site-packages/theano/gof/cc.py\", line 1190, in make_thunk\n",
      "    keep_lock=keep_lock)\n",
      "  File \"/home/ubuntu/anaconda2/lib/python2.7/site-packages/theano/gof/cc.py\", line 1131, in __compile__\n",
      "    keep_lock=keep_lock)\n",
      "  File \"/home/ubuntu/anaconda2/lib/python2.7/site-packages/theano/gof/cc.py\", line 1586, in cthunk_factory\n",
      "    key=key, lnk=self, keep_lock=keep_lock)\n",
      "  File \"/home/ubuntu/anaconda2/lib/python2.7/site-packages/theano/gof/cmodule.py\", line 1159, in module_from_key\n",
      "    module = lnk.compile_cmodule(location)\n",
      "  File \"/home/ubuntu/anaconda2/lib/python2.7/site-packages/theano/gof/cc.py\", line 1489, in compile_cmodule\n",
      "    preargs=preargs)\n",
      "  File \"/home/ubuntu/anaconda2/lib/python2.7/site-packages/theano/gof/cmodule.py\", line 2294, in compile_str\n",
      "    p_out = output_subprocess_Popen(cmd)\n",
      "  File \"/home/ubuntu/anaconda2/lib/python2.7/site-packages/theano/misc/windows.py\", line 77, in output_subprocess_Popen\n",
      "    p = subprocess_Popen(command, **params)\n",
      "  File \"/home/ubuntu/anaconda2/lib/python2.7/site-packages/theano/misc/windows.py\", line 43, in subprocess_Popen\n",
      "    proc = subprocess.Popen(command, startupinfo=startupinfo, **params)\n",
      "  File \"/home/ubuntu/anaconda2/lib/python2.7/subprocess.py\", line 390, in __init__\n",
      "    errread, errwrite)\n",
      "  File \"/home/ubuntu/anaconda2/lib/python2.7/subprocess.py\", line 916, in _execute_child\n",
      "    self.pid = os.fork()\n",
      "OSError: [Errno 12] Cannot allocate memory\n",
      "\n",
      "Problem occurred during compilation with the command line below:\n",
      "/usr/bin/g++ -shared -g -O3 -fno-math-errno -Wno-unused-label -Wno-unused-variable -Wno-write-strings -march=broadwell -mmmx -mno-3dnow -msse -msse2 -msse3 -mssse3 -mno-sse4a -mcx16 -msahf -mmovbe -maes -mno-sha -mpclmul -mpopcnt -mabm -mno-lwp -mfma -mno-fma4 -mno-xop -mbmi -mbmi2 -mno-tbm -mavx -mavx2 -msse4.2 -msse4.1 -mlzcnt -mrtm -mhle -mrdrnd -mf16c -mfsgsbase -mno-rdseed -mno-prfchw -mno-adx -mfxsr -mxsave -mxsaveopt -mno-avx512f -mno-avx512er -mno-avx512cd -mno-avx512pf -mno-prefetchwt1 -mno-clflushopt -mno-xsavec -mno-xsaves -mno-avx512dq -mno-avx512bw -mno-avx512vl -mno-avx512ifma -mno-avx512vbmi -mno-clwb -mno-pcommit -mno-mwaitx --param l1-cache-size=32 --param l1-cache-line-size=64 --param l2-cache-size=46080 -mtune=broadwell -DNPY_NO_DEPRECATED_API=NPY_1_7_API_VERSION -m64 -fPIC -I/home/ubuntu/anaconda2/lib/python2.7/site-packages/numpy/core/include -I/home/ubuntu/anaconda2/include/python2.7 -I/home/ubuntu/anaconda2/lib/python2.7/site-packages/theano/gof -L/home/ubuntu/anaconda2/lib -fvisibility=hidden -o /home/ubuntu/.theano/compiledir_Linux-4.4--generic-x86_64-with-debian-stretch-sid-x86_64-2.7.13-64/tmpvlhH_p/c9e6ffed200cf1ac21ce4a18a74fcfb3.so /home/ubuntu/.theano/compiledir_Linux-4.4--generic-x86_64-with-debian-stretch-sid-x86_64-2.7.13-64/tmpvlhH_p/mod.cpp -lpython2.7\n",
      "ERROR (theano.gof.cmodule): [Errno 12] Cannot allocate memory\n"
     ]
    },
    {
     "name": "stderr",
     "output_type": "stream",
     "text": [
      "ERROR (theano.gof.opt): Optimization failure due to: constant_folding\n",
      "ERROR (theano.gof.opt): node: Elemwise{Composite{(i0 * log(clip(i1, i2, i3)))}}(TensorConstant{[[ 1.  0. ..  0.  1.]]}, TensorConstant{[[  4.8417..9283e-01]]}, TensorConstant{(1, 1) of 1e-07}, TensorConstant{(1, 1) of 1.0})\n",
      "ERROR (theano.gof.opt): TRACEBACK:\n",
      "ERROR (theano.gof.opt): Traceback (most recent call last):\n",
      "  File \"/home/ubuntu/anaconda2/lib/python2.7/site-packages/theano/gof/opt.py\", line 1982, in process_node\n",
      "    replacements = lopt.transform(node)\n",
      "  File \"/home/ubuntu/anaconda2/lib/python2.7/site-packages/theano/tensor/opt.py\", line 6450, in constant_folding\n",
      "    no_recycling=[], impl=impl)\n",
      "  File \"/home/ubuntu/anaconda2/lib/python2.7/site-packages/theano/gof/op.py\", line 935, in make_thunk\n",
      "    no_recycling)\n",
      "  File \"/home/ubuntu/anaconda2/lib/python2.7/site-packages/theano/gof/op.py\", line 839, in make_c_thunk\n",
      "    output_storage=node_output_storage)\n",
      "  File \"/home/ubuntu/anaconda2/lib/python2.7/site-packages/theano/gof/cc.py\", line 1190, in make_thunk\n",
      "    keep_lock=keep_lock)\n",
      "  File \"/home/ubuntu/anaconda2/lib/python2.7/site-packages/theano/gof/cc.py\", line 1131, in __compile__\n",
      "    keep_lock=keep_lock)\n",
      "  File \"/home/ubuntu/anaconda2/lib/python2.7/site-packages/theano/gof/cc.py\", line 1586, in cthunk_factory\n",
      "    key=key, lnk=self, keep_lock=keep_lock)\n",
      "  File \"/home/ubuntu/anaconda2/lib/python2.7/site-packages/theano/gof/cmodule.py\", line 1159, in module_from_key\n",
      "    module = lnk.compile_cmodule(location)\n",
      "  File \"/home/ubuntu/anaconda2/lib/python2.7/site-packages/theano/gof/cc.py\", line 1489, in compile_cmodule\n",
      "    preargs=preargs)\n",
      "  File \"/home/ubuntu/anaconda2/lib/python2.7/site-packages/theano/gof/cmodule.py\", line 2294, in compile_str\n",
      "    p_out = output_subprocess_Popen(cmd)\n",
      "  File \"/home/ubuntu/anaconda2/lib/python2.7/site-packages/theano/misc/windows.py\", line 77, in output_subprocess_Popen\n",
      "    p = subprocess_Popen(command, **params)\n",
      "  File \"/home/ubuntu/anaconda2/lib/python2.7/site-packages/theano/misc/windows.py\", line 43, in subprocess_Popen\n",
      "    proc = subprocess.Popen(command, startupinfo=startupinfo, **params)\n",
      "  File \"/home/ubuntu/anaconda2/lib/python2.7/subprocess.py\", line 390, in __init__\n",
      "    errread, errwrite)\n",
      "  File \"/home/ubuntu/anaconda2/lib/python2.7/subprocess.py\", line 916, in _execute_child\n",
      "    self.pid = os.fork()\n",
      "OSError: [Errno 12] Cannot allocate memory\n",
      "\n",
      "Problem occurred during compilation with the command line below:\n",
      "/usr/bin/g++ -shared -g -O3 -fno-math-errno -Wno-unused-label -Wno-unused-variable -Wno-write-strings -march=broadwell -mmmx -mno-3dnow -msse -msse2 -msse3 -mssse3 -mno-sse4a -mcx16 -msahf -mmovbe -maes -mno-sha -mpclmul -mpopcnt -mabm -mno-lwp -mfma -mno-fma4 -mno-xop -mbmi -mbmi2 -mno-tbm -mavx -mavx2 -msse4.2 -msse4.1 -mlzcnt -mrtm -mhle -mrdrnd -mf16c -mfsgsbase -mno-rdseed -mno-prfchw -mno-adx -mfxsr -mxsave -mxsaveopt -mno-avx512f -mno-avx512er -mno-avx512cd -mno-avx512pf -mno-prefetchwt1 -mno-clflushopt -mno-xsavec -mno-xsaves -mno-avx512dq -mno-avx512bw -mno-avx512vl -mno-avx512ifma -mno-avx512vbmi -mno-clwb -mno-pcommit -mno-mwaitx --param l1-cache-size=32 --param l1-cache-line-size=64 --param l2-cache-size=46080 -mtune=broadwell -DNPY_NO_DEPRECATED_API=NPY_1_7_API_VERSION -m64 -fPIC -I/home/ubuntu/anaconda2/lib/python2.7/site-packages/numpy/core/include -I/home/ubuntu/anaconda2/include/python2.7 -I/home/ubuntu/anaconda2/lib/python2.7/site-packages/theano/gof -L/home/ubuntu/anaconda2/lib -fvisibility=hidden -o /home/ubuntu/.theano/compiledir_Linux-4.4--generic-x86_64-with-debian-stretch-sid-x86_64-2.7.13-64/tmpUHZbJE/c9e6ffed200cf1ac21ce4a18a74fcfb3.so /home/ubuntu/.theano/compiledir_Linux-4.4--generic-x86_64-with-debian-stretch-sid-x86_64-2.7.13-64/tmpUHZbJE/mod.cpp -lpython2.7\n",
      "ERROR (theano.gof.cmodule): [Errno 12] Cannot allocate memory\n",
      "ERROR (theano.gof.opt): Optimization failure due to: constant_folding\n",
      "ERROR (theano.gof.opt): node: Elemwise{Composite{(i0 * log(clip(i1, i2, i3)))}}(TensorConstant{[[ 1.  0. ..  0.  1.]]}, TensorConstant{[[  4.8417..9283e-01]]}, TensorConstant{(1, 1) of 1e-07}, TensorConstant{(1, 1) of 1.0})\n",
      "ERROR (theano.gof.opt): TRACEBACK:\n",
      "ERROR (theano.gof.opt): Traceback (most recent call last):\n",
      "  File \"/home/ubuntu/anaconda2/lib/python2.7/site-packages/theano/gof/opt.py\", line 1982, in process_node\n",
      "    replacements = lopt.transform(node)\n",
      "  File \"/home/ubuntu/anaconda2/lib/python2.7/site-packages/theano/tensor/opt.py\", line 6450, in constant_folding\n",
      "    no_recycling=[], impl=impl)\n",
      "  File \"/home/ubuntu/anaconda2/lib/python2.7/site-packages/theano/gof/op.py\", line 935, in make_thunk\n",
      "    no_recycling)\n",
      "  File \"/home/ubuntu/anaconda2/lib/python2.7/site-packages/theano/gof/op.py\", line 839, in make_c_thunk\n",
      "    output_storage=node_output_storage)\n",
      "  File \"/home/ubuntu/anaconda2/lib/python2.7/site-packages/theano/gof/cc.py\", line 1190, in make_thunk\n",
      "    keep_lock=keep_lock)\n",
      "  File \"/home/ubuntu/anaconda2/lib/python2.7/site-packages/theano/gof/cc.py\", line 1131, in __compile__\n",
      "    keep_lock=keep_lock)\n",
      "  File \"/home/ubuntu/anaconda2/lib/python2.7/site-packages/theano/gof/cc.py\", line 1586, in cthunk_factory\n",
      "    key=key, lnk=self, keep_lock=keep_lock)\n",
      "  File \"/home/ubuntu/anaconda2/lib/python2.7/site-packages/theano/gof/cmodule.py\", line 1159, in module_from_key\n",
      "    module = lnk.compile_cmodule(location)\n",
      "  File \"/home/ubuntu/anaconda2/lib/python2.7/site-packages/theano/gof/cc.py\", line 1489, in compile_cmodule\n",
      "    preargs=preargs)\n",
      "  File \"/home/ubuntu/anaconda2/lib/python2.7/site-packages/theano/gof/cmodule.py\", line 2294, in compile_str\n",
      "    p_out = output_subprocess_Popen(cmd)\n",
      "  File \"/home/ubuntu/anaconda2/lib/python2.7/site-packages/theano/misc/windows.py\", line 77, in output_subprocess_Popen\n",
      "    p = subprocess_Popen(command, **params)\n",
      "  File \"/home/ubuntu/anaconda2/lib/python2.7/site-packages/theano/misc/windows.py\", line 43, in subprocess_Popen\n",
      "    proc = subprocess.Popen(command, startupinfo=startupinfo, **params)\n",
      "  File \"/home/ubuntu/anaconda2/lib/python2.7/subprocess.py\", line 390, in __init__\n",
      "    errread, errwrite)\n",
      "  File \"/home/ubuntu/anaconda2/lib/python2.7/subprocess.py\", line 916, in _execute_child\n",
      "    self.pid = os.fork()\n",
      "OSError: [Errno 12] Cannot allocate memory\n",
      "\n",
      "Problem occurred during compilation with the command line below:\n",
      "/usr/bin/g++ -shared -g -O3 -fno-math-errno -Wno-unused-label -Wno-unused-variable -Wno-write-strings -march=broadwell -mmmx -mno-3dnow -msse -msse2 -msse3 -mssse3 -mno-sse4a -mcx16 -msahf -mmovbe -maes -mno-sha -mpclmul -mpopcnt -mabm -mno-lwp -mfma -mno-fma4 -mno-xop -mbmi -mbmi2 -mno-tbm -mavx -mavx2 -msse4.2 -msse4.1 -mlzcnt -mrtm -mhle -mrdrnd -mf16c -mfsgsbase -mno-rdseed -mno-prfchw -mno-adx -mfxsr -mxsave -mxsaveopt -mno-avx512f -mno-avx512er -mno-avx512cd -mno-avx512pf -mno-prefetchwt1 -mno-clflushopt -mno-xsavec -mno-xsaves -mno-avx512dq -mno-avx512bw -mno-avx512vl -mno-avx512ifma -mno-avx512vbmi -mno-clwb -mno-pcommit -mno-mwaitx --param l1-cache-size=32 --param l1-cache-line-size=64 --param l2-cache-size=46080 -mtune=broadwell -DNPY_NO_DEPRECATED_API=NPY_1_7_API_VERSION -m64 -fPIC -I/home/ubuntu/anaconda2/lib/python2.7/site-packages/numpy/core/include -I/home/ubuntu/anaconda2/include/python2.7 -I/home/ubuntu/anaconda2/lib/python2.7/site-packages/theano/gof -L/home/ubuntu/anaconda2/lib -fvisibility=hidden -o /home/ubuntu/.theano/compiledir_Linux-4.4--generic-x86_64-with-debian-stretch-sid-x86_64-2.7.13-64/tmplEUHY4/c9e6ffed200cf1ac21ce4a18a74fcfb3.so /home/ubuntu/.theano/compiledir_Linux-4.4--generic-x86_64-with-debian-stretch-sid-x86_64-2.7.13-64/tmplEUHY4/mod.cpp -lpython2.7\n",
      "ERROR (theano.gof.cmodule): [Errno 12] Cannot allocate memory\n"
     ]
    },
    {
     "ename": "OSError",
     "evalue": "[Errno 12] Cannot allocate memory",
     "output_type": "error",
     "traceback": [
      "\u001b[0;31m---------------------------------------------------------------------------\u001b[0m",
      "\u001b[0;31mOSError\u001b[0m                                   Traceback (most recent call last)",
      "\u001b[0;32m<ipython-input-57-8d2e14a231d1>\u001b[0m in \u001b[0;36m<module>\u001b[0;34m()\u001b[0m\n\u001b[0;32m----> 1\u001b[0;31m \u001b[0mcategorical_crossentropy\u001b[0m\u001b[0;34m(\u001b[0m\u001b[0mlabels_aug\u001b[0m\u001b[0;34m,\u001b[0m \u001b[0mft_model\u001b[0m\u001b[0;34m.\u001b[0m\u001b[0mpredict\u001b[0m\u001b[0;34m(\u001b[0m\u001b[0maug_train\u001b[0m\u001b[0;34m)\u001b[0m\u001b[0;34m)\u001b[0m\u001b[0;34m.\u001b[0m\u001b[0meval\u001b[0m\u001b[0;34m(\u001b[0m\u001b[0;34m)\u001b[0m\u001b[0;34m\u001b[0m\u001b[0m\n\u001b[0m",
      "\u001b[0;32m/home/ubuntu/anaconda2/lib/python2.7/site-packages/theano/gof/graph.pyc\u001b[0m in \u001b[0;36meval\u001b[0;34m(self, inputs_to_values)\u001b[0m\n\u001b[1;32m    514\u001b[0m         \u001b[0minputs\u001b[0m \u001b[0;34m=\u001b[0m \u001b[0mtuple\u001b[0m\u001b[0;34m(\u001b[0m\u001b[0msorted\u001b[0m\u001b[0;34m(\u001b[0m\u001b[0minputs_to_values\u001b[0m\u001b[0;34m.\u001b[0m\u001b[0mkeys\u001b[0m\u001b[0;34m(\u001b[0m\u001b[0;34m)\u001b[0m\u001b[0;34m,\u001b[0m \u001b[0mkey\u001b[0m\u001b[0;34m=\u001b[0m\u001b[0mid\u001b[0m\u001b[0;34m)\u001b[0m\u001b[0;34m)\u001b[0m\u001b[0;34m\u001b[0m\u001b[0m\n\u001b[1;32m    515\u001b[0m         \u001b[0;32mif\u001b[0m \u001b[0minputs\u001b[0m \u001b[0;32mnot\u001b[0m \u001b[0;32min\u001b[0m \u001b[0mself\u001b[0m\u001b[0;34m.\u001b[0m\u001b[0m_fn_cache\u001b[0m\u001b[0;34m:\u001b[0m\u001b[0;34m\u001b[0m\u001b[0m\n\u001b[0;32m--> 516\u001b[0;31m             \u001b[0mself\u001b[0m\u001b[0;34m.\u001b[0m\u001b[0m_fn_cache\u001b[0m\u001b[0;34m[\u001b[0m\u001b[0minputs\u001b[0m\u001b[0;34m]\u001b[0m \u001b[0;34m=\u001b[0m \u001b[0mtheano\u001b[0m\u001b[0;34m.\u001b[0m\u001b[0mfunction\u001b[0m\u001b[0;34m(\u001b[0m\u001b[0minputs\u001b[0m\u001b[0;34m,\u001b[0m \u001b[0mself\u001b[0m\u001b[0;34m)\u001b[0m\u001b[0;34m\u001b[0m\u001b[0m\n\u001b[0m\u001b[1;32m    517\u001b[0m         \u001b[0margs\u001b[0m \u001b[0;34m=\u001b[0m \u001b[0;34m[\u001b[0m\u001b[0minputs_to_values\u001b[0m\u001b[0;34m[\u001b[0m\u001b[0mparam\u001b[0m\u001b[0;34m]\u001b[0m \u001b[0;32mfor\u001b[0m \u001b[0mparam\u001b[0m \u001b[0;32min\u001b[0m \u001b[0minputs\u001b[0m\u001b[0;34m]\u001b[0m\u001b[0;34m\u001b[0m\u001b[0m\n\u001b[1;32m    518\u001b[0m \u001b[0;34m\u001b[0m\u001b[0m\n",
      "\u001b[0;32m/home/ubuntu/anaconda2/lib/python2.7/site-packages/theano/compile/function.pyc\u001b[0m in \u001b[0;36mfunction\u001b[0;34m(inputs, outputs, mode, updates, givens, no_default_updates, accept_inplace, name, rebuild_strict, allow_input_downcast, profile, on_unused_input)\u001b[0m\n\u001b[1;32m    324\u001b[0m                    \u001b[0mon_unused_input\u001b[0m\u001b[0;34m=\u001b[0m\u001b[0mon_unused_input\u001b[0m\u001b[0;34m,\u001b[0m\u001b[0;34m\u001b[0m\u001b[0m\n\u001b[1;32m    325\u001b[0m                    \u001b[0mprofile\u001b[0m\u001b[0;34m=\u001b[0m\u001b[0mprofile\u001b[0m\u001b[0;34m,\u001b[0m\u001b[0;34m\u001b[0m\u001b[0m\n\u001b[0;32m--> 326\u001b[0;31m                    output_keys=output_keys)\n\u001b[0m\u001b[1;32m    327\u001b[0m     \u001b[0;31m# We need to add the flag check_aliased inputs if we have any mutable or\u001b[0m\u001b[0;34m\u001b[0m\u001b[0;34m\u001b[0m\u001b[0m\n\u001b[1;32m    328\u001b[0m     \u001b[0;31m# borrowed used defined inputs\u001b[0m\u001b[0;34m\u001b[0m\u001b[0;34m\u001b[0m\u001b[0m\n",
      "\u001b[0;32m/home/ubuntu/anaconda2/lib/python2.7/site-packages/theano/compile/pfunc.pyc\u001b[0m in \u001b[0;36mpfunc\u001b[0;34m(params, outputs, mode, updates, givens, no_default_updates, accept_inplace, name, rebuild_strict, allow_input_downcast, profile, on_unused_input, output_keys)\u001b[0m\n\u001b[1;32m    484\u001b[0m                          \u001b[0maccept_inplace\u001b[0m\u001b[0;34m=\u001b[0m\u001b[0maccept_inplace\u001b[0m\u001b[0;34m,\u001b[0m \u001b[0mname\u001b[0m\u001b[0;34m=\u001b[0m\u001b[0mname\u001b[0m\u001b[0;34m,\u001b[0m\u001b[0;34m\u001b[0m\u001b[0m\n\u001b[1;32m    485\u001b[0m                          \u001b[0mprofile\u001b[0m\u001b[0;34m=\u001b[0m\u001b[0mprofile\u001b[0m\u001b[0;34m,\u001b[0m \u001b[0mon_unused_input\u001b[0m\u001b[0;34m=\u001b[0m\u001b[0mon_unused_input\u001b[0m\u001b[0;34m,\u001b[0m\u001b[0;34m\u001b[0m\u001b[0m\n\u001b[0;32m--> 486\u001b[0;31m                          output_keys=output_keys)\n\u001b[0m\u001b[1;32m    487\u001b[0m \u001b[0;34m\u001b[0m\u001b[0m\n\u001b[1;32m    488\u001b[0m \u001b[0;34m\u001b[0m\u001b[0m\n",
      "\u001b[0;32m/home/ubuntu/anaconda2/lib/python2.7/site-packages/theano/compile/function_module.pyc\u001b[0m in \u001b[0;36morig_function\u001b[0;34m(inputs, outputs, mode, accept_inplace, name, profile, on_unused_input, output_keys)\u001b[0m\n\u001b[1;32m   1793\u001b[0m                    \u001b[0mon_unused_input\u001b[0m\u001b[0;34m=\u001b[0m\u001b[0mon_unused_input\u001b[0m\u001b[0;34m,\u001b[0m\u001b[0;34m\u001b[0m\u001b[0m\n\u001b[1;32m   1794\u001b[0m                    \u001b[0moutput_keys\u001b[0m\u001b[0;34m=\u001b[0m\u001b[0moutput_keys\u001b[0m\u001b[0;34m)\u001b[0m\u001b[0;34m.\u001b[0m\u001b[0mcreate\u001b[0m\u001b[0;34m(\u001b[0m\u001b[0;34m\u001b[0m\u001b[0m\n\u001b[0;32m-> 1795\u001b[0;31m             defaults)\n\u001b[0m\u001b[1;32m   1796\u001b[0m \u001b[0;34m\u001b[0m\u001b[0m\n\u001b[1;32m   1797\u001b[0m     \u001b[0mt2\u001b[0m \u001b[0;34m=\u001b[0m \u001b[0mtime\u001b[0m\u001b[0;34m.\u001b[0m\u001b[0mtime\u001b[0m\u001b[0;34m(\u001b[0m\u001b[0;34m)\u001b[0m\u001b[0;34m\u001b[0m\u001b[0m\n",
      "\u001b[0;32m/home/ubuntu/anaconda2/lib/python2.7/site-packages/theano/compile/function_module.pyc\u001b[0m in \u001b[0;36mcreate\u001b[0;34m(self, input_storage, trustme, storage_map)\u001b[0m\n\u001b[1;32m   1659\u001b[0m             \u001b[0mtheano\u001b[0m\u001b[0;34m.\u001b[0m\u001b[0mconfig\u001b[0m\u001b[0;34m.\u001b[0m\u001b[0mtraceback\u001b[0m\u001b[0;34m.\u001b[0m\u001b[0mlimit\u001b[0m \u001b[0;34m=\u001b[0m \u001b[0mtheano\u001b[0m\u001b[0;34m.\u001b[0m\u001b[0mconfig\u001b[0m\u001b[0;34m.\u001b[0m\u001b[0mtraceback\u001b[0m\u001b[0;34m.\u001b[0m\u001b[0mcompile_limit\u001b[0m\u001b[0;34m\u001b[0m\u001b[0m\n\u001b[1;32m   1660\u001b[0m             _fn, _i, _o = self.linker.make_thunk(\n\u001b[0;32m-> 1661\u001b[0;31m                 input_storage=input_storage_lists, storage_map=storage_map)\n\u001b[0m\u001b[1;32m   1662\u001b[0m         \u001b[0;32mfinally\u001b[0m\u001b[0;34m:\u001b[0m\u001b[0;34m\u001b[0m\u001b[0m\n\u001b[1;32m   1663\u001b[0m             \u001b[0mtheano\u001b[0m\u001b[0;34m.\u001b[0m\u001b[0mconfig\u001b[0m\u001b[0;34m.\u001b[0m\u001b[0mtraceback\u001b[0m\u001b[0;34m.\u001b[0m\u001b[0mlimit\u001b[0m \u001b[0;34m=\u001b[0m \u001b[0mlimit_orig\u001b[0m\u001b[0;34m\u001b[0m\u001b[0m\n",
      "\u001b[0;32m/home/ubuntu/anaconda2/lib/python2.7/site-packages/theano/gof/link.pyc\u001b[0m in \u001b[0;36mmake_thunk\u001b[0;34m(self, input_storage, output_storage, storage_map)\u001b[0m\n\u001b[1;32m    697\u001b[0m         return self.make_all(input_storage=input_storage,\n\u001b[1;32m    698\u001b[0m                              \u001b[0moutput_storage\u001b[0m\u001b[0;34m=\u001b[0m\u001b[0moutput_storage\u001b[0m\u001b[0;34m,\u001b[0m\u001b[0;34m\u001b[0m\u001b[0m\n\u001b[0;32m--> 699\u001b[0;31m                              storage_map=storage_map)[:3]\n\u001b[0m\u001b[1;32m    700\u001b[0m \u001b[0;34m\u001b[0m\u001b[0m\n\u001b[1;32m    701\u001b[0m     \u001b[0;32mdef\u001b[0m \u001b[0mmake_all\u001b[0m\u001b[0;34m(\u001b[0m\u001b[0mself\u001b[0m\u001b[0;34m,\u001b[0m \u001b[0minput_storage\u001b[0m\u001b[0;34m,\u001b[0m \u001b[0moutput_storage\u001b[0m\u001b[0;34m)\u001b[0m\u001b[0;34m:\u001b[0m\u001b[0;34m\u001b[0m\u001b[0m\n",
      "\u001b[0;32m/home/ubuntu/anaconda2/lib/python2.7/site-packages/theano/gof/vm.pyc\u001b[0m in \u001b[0;36mmake_all\u001b[0;34m(self, profiler, input_storage, output_storage, storage_map)\u001b[0m\n\u001b[1;32m   1045\u001b[0m                                                  \u001b[0mcompute_map\u001b[0m\u001b[0;34m,\u001b[0m\u001b[0;34m\u001b[0m\u001b[0m\n\u001b[1;32m   1046\u001b[0m                                                  \u001b[0mno_recycling\u001b[0m\u001b[0;34m,\u001b[0m\u001b[0;34m\u001b[0m\u001b[0m\n\u001b[0;32m-> 1047\u001b[0;31m                                                  impl=impl))\n\u001b[0m\u001b[1;32m   1048\u001b[0m                 \u001b[0mlinker_make_thunk_time\u001b[0m\u001b[0;34m[\u001b[0m\u001b[0mnode\u001b[0m\u001b[0;34m]\u001b[0m \u001b[0;34m=\u001b[0m \u001b[0mtime\u001b[0m\u001b[0;34m.\u001b[0m\u001b[0mtime\u001b[0m\u001b[0;34m(\u001b[0m\u001b[0;34m)\u001b[0m \u001b[0;34m-\u001b[0m \u001b[0mthunk_start\u001b[0m\u001b[0;34m\u001b[0m\u001b[0m\n\u001b[1;32m   1049\u001b[0m                 \u001b[0;32mif\u001b[0m \u001b[0;32mnot\u001b[0m \u001b[0mhasattr\u001b[0m\u001b[0;34m(\u001b[0m\u001b[0mthunks\u001b[0m\u001b[0;34m[\u001b[0m\u001b[0;34m-\u001b[0m\u001b[0;36m1\u001b[0m\u001b[0;34m]\u001b[0m\u001b[0;34m,\u001b[0m \u001b[0;34m'lazy'\u001b[0m\u001b[0;34m)\u001b[0m\u001b[0;34m:\u001b[0m\u001b[0;34m\u001b[0m\u001b[0m\n",
      "\u001b[0;32m/home/ubuntu/anaconda2/lib/python2.7/site-packages/theano/gof/op.pyc\u001b[0m in \u001b[0;36mmake_thunk\u001b[0;34m(self, node, storage_map, compute_map, no_recycling, impl)\u001b[0m\n\u001b[1;32m    933\u001b[0m             \u001b[0;32mtry\u001b[0m\u001b[0;34m:\u001b[0m\u001b[0;34m\u001b[0m\u001b[0m\n\u001b[1;32m    934\u001b[0m                 return self.make_c_thunk(node, storage_map, compute_map,\n\u001b[0;32m--> 935\u001b[0;31m                                          no_recycling)\n\u001b[0m\u001b[1;32m    936\u001b[0m             \u001b[0;32mexcept\u001b[0m \u001b[0;34m(\u001b[0m\u001b[0mNotImplementedError\u001b[0m\u001b[0;34m,\u001b[0m \u001b[0mutils\u001b[0m\u001b[0;34m.\u001b[0m\u001b[0mMethodNotDefined\u001b[0m\u001b[0;34m)\u001b[0m\u001b[0;34m:\u001b[0m\u001b[0;34m\u001b[0m\u001b[0m\n\u001b[1;32m    937\u001b[0m                 \u001b[0;31m# We requested the c code, so don't catch the error.\u001b[0m\u001b[0;34m\u001b[0m\u001b[0;34m\u001b[0m\u001b[0m\n",
      "\u001b[0;32m/home/ubuntu/anaconda2/lib/python2.7/site-packages/theano/gof/op.pyc\u001b[0m in \u001b[0;36mmake_c_thunk\u001b[0;34m(self, node, storage_map, compute_map, no_recycling)\u001b[0m\n\u001b[1;32m    837\u001b[0m         \u001b[0m_logger\u001b[0m\u001b[0;34m.\u001b[0m\u001b[0mdebug\u001b[0m\u001b[0;34m(\u001b[0m\u001b[0;34m'Trying CLinker.make_thunk'\u001b[0m\u001b[0;34m)\u001b[0m\u001b[0;34m\u001b[0m\u001b[0m\n\u001b[1;32m    838\u001b[0m         outputs = cl.make_thunk(input_storage=node_input_storage,\n\u001b[0;32m--> 839\u001b[0;31m                                 output_storage=node_output_storage)\n\u001b[0m\u001b[1;32m    840\u001b[0m         \u001b[0mfill_storage\u001b[0m\u001b[0;34m,\u001b[0m \u001b[0mnode_input_filters\u001b[0m\u001b[0;34m,\u001b[0m \u001b[0mnode_output_filters\u001b[0m \u001b[0;34m=\u001b[0m \u001b[0moutputs\u001b[0m\u001b[0;34m\u001b[0m\u001b[0m\n\u001b[1;32m    841\u001b[0m \u001b[0;34m\u001b[0m\u001b[0m\n",
      "\u001b[0;32m/home/ubuntu/anaconda2/lib/python2.7/site-packages/theano/gof/cc.pyc\u001b[0m in \u001b[0;36mmake_thunk\u001b[0;34m(self, input_storage, output_storage, storage_map, keep_lock)\u001b[0m\n\u001b[1;32m   1188\u001b[0m         cthunk, in_storage, out_storage, error_storage = self.__compile__(\n\u001b[1;32m   1189\u001b[0m             \u001b[0minput_storage\u001b[0m\u001b[0;34m,\u001b[0m \u001b[0moutput_storage\u001b[0m\u001b[0;34m,\u001b[0m \u001b[0mstorage_map\u001b[0m\u001b[0;34m,\u001b[0m\u001b[0;34m\u001b[0m\u001b[0m\n\u001b[0;32m-> 1190\u001b[0;31m             keep_lock=keep_lock)\n\u001b[0m\u001b[1;32m   1191\u001b[0m \u001b[0;34m\u001b[0m\u001b[0m\n\u001b[1;32m   1192\u001b[0m         \u001b[0mres\u001b[0m \u001b[0;34m=\u001b[0m \u001b[0m_CThunk\u001b[0m\u001b[0;34m(\u001b[0m\u001b[0mcthunk\u001b[0m\u001b[0;34m,\u001b[0m \u001b[0minit_tasks\u001b[0m\u001b[0;34m,\u001b[0m \u001b[0mtasks\u001b[0m\u001b[0;34m,\u001b[0m \u001b[0merror_storage\u001b[0m\u001b[0;34m)\u001b[0m\u001b[0;34m\u001b[0m\u001b[0m\n",
      "\u001b[0;32m/home/ubuntu/anaconda2/lib/python2.7/site-packages/theano/gof/cc.pyc\u001b[0m in \u001b[0;36m__compile__\u001b[0;34m(self, input_storage, output_storage, storage_map, keep_lock)\u001b[0m\n\u001b[1;32m   1129\u001b[0m                                     \u001b[0moutput_storage\u001b[0m\u001b[0;34m,\u001b[0m\u001b[0;34m\u001b[0m\u001b[0m\n\u001b[1;32m   1130\u001b[0m                                     \u001b[0mstorage_map\u001b[0m\u001b[0;34m,\u001b[0m\u001b[0;34m\u001b[0m\u001b[0m\n\u001b[0;32m-> 1131\u001b[0;31m                                     keep_lock=keep_lock)\n\u001b[0m\u001b[1;32m   1132\u001b[0m         return (thunk,\n\u001b[1;32m   1133\u001b[0m                 [link.Container(input, storage) for input, storage in\n",
      "\u001b[0;32m/home/ubuntu/anaconda2/lib/python2.7/site-packages/theano/gof/cc.pyc\u001b[0m in \u001b[0;36mcthunk_factory\u001b[0;34m(self, error_storage, in_storage, out_storage, storage_map, keep_lock)\u001b[0m\n\u001b[1;32m   1584\u001b[0m                 \u001b[0mnode\u001b[0m\u001b[0;34m.\u001b[0m\u001b[0mop\u001b[0m\u001b[0;34m.\u001b[0m\u001b[0mprepare_node\u001b[0m\u001b[0;34m(\u001b[0m\u001b[0mnode\u001b[0m\u001b[0;34m,\u001b[0m \u001b[0mstorage_map\u001b[0m\u001b[0;34m,\u001b[0m \u001b[0mNone\u001b[0m\u001b[0;34m,\u001b[0m \u001b[0;34m'c'\u001b[0m\u001b[0;34m)\u001b[0m\u001b[0;34m\u001b[0m\u001b[0m\n\u001b[1;32m   1585\u001b[0m             module = get_module_cache().module_from_key(\n\u001b[0;32m-> 1586\u001b[0;31m                 key=key, lnk=self, keep_lock=keep_lock)\n\u001b[0m\u001b[1;32m   1587\u001b[0m \u001b[0;34m\u001b[0m\u001b[0m\n\u001b[1;32m   1588\u001b[0m         \u001b[0mvars\u001b[0m \u001b[0;34m=\u001b[0m \u001b[0mself\u001b[0m\u001b[0;34m.\u001b[0m\u001b[0minputs\u001b[0m \u001b[0;34m+\u001b[0m \u001b[0mself\u001b[0m\u001b[0;34m.\u001b[0m\u001b[0moutputs\u001b[0m \u001b[0;34m+\u001b[0m \u001b[0mself\u001b[0m\u001b[0;34m.\u001b[0m\u001b[0morphans\u001b[0m\u001b[0;34m\u001b[0m\u001b[0m\n",
      "\u001b[0;32m/home/ubuntu/anaconda2/lib/python2.7/site-packages/theano/gof/cmodule.pyc\u001b[0m in \u001b[0;36mmodule_from_key\u001b[0;34m(self, key, lnk, keep_lock)\u001b[0m\n\u001b[1;32m   1157\u001b[0m             \u001b[0;32mtry\u001b[0m\u001b[0;34m:\u001b[0m\u001b[0;34m\u001b[0m\u001b[0m\n\u001b[1;32m   1158\u001b[0m                 \u001b[0mlocation\u001b[0m \u001b[0;34m=\u001b[0m \u001b[0mdlimport_workdir\u001b[0m\u001b[0;34m(\u001b[0m\u001b[0mself\u001b[0m\u001b[0;34m.\u001b[0m\u001b[0mdirname\u001b[0m\u001b[0;34m)\u001b[0m\u001b[0;34m\u001b[0m\u001b[0m\n\u001b[0;32m-> 1159\u001b[0;31m                 \u001b[0mmodule\u001b[0m \u001b[0;34m=\u001b[0m \u001b[0mlnk\u001b[0m\u001b[0;34m.\u001b[0m\u001b[0mcompile_cmodule\u001b[0m\u001b[0;34m(\u001b[0m\u001b[0mlocation\u001b[0m\u001b[0;34m)\u001b[0m\u001b[0;34m\u001b[0m\u001b[0m\n\u001b[0m\u001b[1;32m   1160\u001b[0m                 \u001b[0mname\u001b[0m \u001b[0;34m=\u001b[0m \u001b[0mmodule\u001b[0m\u001b[0;34m.\u001b[0m\u001b[0m__file__\u001b[0m\u001b[0;34m\u001b[0m\u001b[0m\n\u001b[1;32m   1161\u001b[0m                 \u001b[0;32massert\u001b[0m \u001b[0mname\u001b[0m\u001b[0;34m.\u001b[0m\u001b[0mstartswith\u001b[0m\u001b[0;34m(\u001b[0m\u001b[0mlocation\u001b[0m\u001b[0;34m)\u001b[0m\u001b[0;34m\u001b[0m\u001b[0m\n",
      "\u001b[0;32m/home/ubuntu/anaconda2/lib/python2.7/site-packages/theano/gof/cc.pyc\u001b[0m in \u001b[0;36mcompile_cmodule\u001b[0;34m(self, location)\u001b[0m\n\u001b[1;32m   1487\u001b[0m                 \u001b[0mlib_dirs\u001b[0m\u001b[0;34m=\u001b[0m\u001b[0mself\u001b[0m\u001b[0;34m.\u001b[0m\u001b[0mlib_dirs\u001b[0m\u001b[0;34m(\u001b[0m\u001b[0;34m)\u001b[0m\u001b[0;34m,\u001b[0m\u001b[0;34m\u001b[0m\u001b[0m\n\u001b[1;32m   1488\u001b[0m                 \u001b[0mlibs\u001b[0m\u001b[0;34m=\u001b[0m\u001b[0mlibs\u001b[0m\u001b[0;34m,\u001b[0m\u001b[0;34m\u001b[0m\u001b[0m\n\u001b[0;32m-> 1489\u001b[0;31m                 preargs=preargs)\n\u001b[0m\u001b[1;32m   1490\u001b[0m         \u001b[0;32mexcept\u001b[0m \u001b[0mException\u001b[0m \u001b[0;32mas\u001b[0m \u001b[0me\u001b[0m\u001b[0;34m:\u001b[0m\u001b[0;34m\u001b[0m\u001b[0m\n\u001b[1;32m   1491\u001b[0m             \u001b[0me\u001b[0m\u001b[0;34m.\u001b[0m\u001b[0margs\u001b[0m \u001b[0;34m+=\u001b[0m \u001b[0;34m(\u001b[0m\u001b[0mstr\u001b[0m\u001b[0;34m(\u001b[0m\u001b[0mself\u001b[0m\u001b[0;34m.\u001b[0m\u001b[0mfgraph\u001b[0m\u001b[0;34m)\u001b[0m\u001b[0;34m,\u001b[0m\u001b[0;34m)\u001b[0m\u001b[0;34m\u001b[0m\u001b[0m\n",
      "\u001b[0;32m/home/ubuntu/anaconda2/lib/python2.7/site-packages/theano/gof/cmodule.pyc\u001b[0m in \u001b[0;36mcompile_str\u001b[0;34m(module_name, src_code, location, include_dirs, lib_dirs, libs, preargs, py_module, hide_symbols)\u001b[0m\n\u001b[1;32m   2292\u001b[0m \u001b[0;34m\u001b[0m\u001b[0m\n\u001b[1;32m   2293\u001b[0m         \u001b[0;32mtry\u001b[0m\u001b[0;34m:\u001b[0m\u001b[0;34m\u001b[0m\u001b[0m\n\u001b[0;32m-> 2294\u001b[0;31m             \u001b[0mp_out\u001b[0m \u001b[0;34m=\u001b[0m \u001b[0moutput_subprocess_Popen\u001b[0m\u001b[0;34m(\u001b[0m\u001b[0mcmd\u001b[0m\u001b[0;34m)\u001b[0m\u001b[0;34m\u001b[0m\u001b[0m\n\u001b[0m\u001b[1;32m   2295\u001b[0m             \u001b[0mcompile_stderr\u001b[0m \u001b[0;34m=\u001b[0m \u001b[0mdecode\u001b[0m\u001b[0;34m(\u001b[0m\u001b[0mp_out\u001b[0m\u001b[0;34m[\u001b[0m\u001b[0;36m1\u001b[0m\u001b[0;34m]\u001b[0m\u001b[0;34m)\u001b[0m\u001b[0;34m\u001b[0m\u001b[0m\n\u001b[1;32m   2296\u001b[0m         \u001b[0;32mexcept\u001b[0m \u001b[0mException\u001b[0m\u001b[0;34m:\u001b[0m\u001b[0;34m\u001b[0m\u001b[0m\n",
      "\u001b[0;32m/home/ubuntu/anaconda2/lib/python2.7/site-packages/theano/misc/windows.pyc\u001b[0m in \u001b[0;36moutput_subprocess_Popen\u001b[0;34m(command, **params)\u001b[0m\n\u001b[1;32m     75\u001b[0m     \u001b[0mparams\u001b[0m\u001b[0;34m[\u001b[0m\u001b[0;34m'stdout'\u001b[0m\u001b[0;34m]\u001b[0m \u001b[0;34m=\u001b[0m \u001b[0msubprocess\u001b[0m\u001b[0;34m.\u001b[0m\u001b[0mPIPE\u001b[0m\u001b[0;34m\u001b[0m\u001b[0m\n\u001b[1;32m     76\u001b[0m     \u001b[0mparams\u001b[0m\u001b[0;34m[\u001b[0m\u001b[0;34m'stderr'\u001b[0m\u001b[0;34m]\u001b[0m \u001b[0;34m=\u001b[0m \u001b[0msubprocess\u001b[0m\u001b[0;34m.\u001b[0m\u001b[0mPIPE\u001b[0m\u001b[0;34m\u001b[0m\u001b[0m\n\u001b[0;32m---> 77\u001b[0;31m     \u001b[0mp\u001b[0m \u001b[0;34m=\u001b[0m \u001b[0msubprocess_Popen\u001b[0m\u001b[0;34m(\u001b[0m\u001b[0mcommand\u001b[0m\u001b[0;34m,\u001b[0m \u001b[0;34m**\u001b[0m\u001b[0mparams\u001b[0m\u001b[0;34m)\u001b[0m\u001b[0;34m\u001b[0m\u001b[0m\n\u001b[0m\u001b[1;32m     78\u001b[0m     \u001b[0;31m# we need to use communicate to make sure we don't deadlock around\u001b[0m\u001b[0;34m\u001b[0m\u001b[0;34m\u001b[0m\u001b[0m\n\u001b[1;32m     79\u001b[0m     \u001b[0;31m# the stdout/stderr pipe.\u001b[0m\u001b[0;34m\u001b[0m\u001b[0;34m\u001b[0m\u001b[0m\n",
      "\u001b[0;32m/home/ubuntu/anaconda2/lib/python2.7/site-packages/theano/misc/windows.pyc\u001b[0m in \u001b[0;36msubprocess_Popen\u001b[0;34m(command, **params)\u001b[0m\n\u001b[1;32m     41\u001b[0m \u001b[0;34m\u001b[0m\u001b[0m\n\u001b[1;32m     42\u001b[0m     \u001b[0;32mtry\u001b[0m\u001b[0;34m:\u001b[0m\u001b[0;34m\u001b[0m\u001b[0m\n\u001b[0;32m---> 43\u001b[0;31m         \u001b[0mproc\u001b[0m \u001b[0;34m=\u001b[0m \u001b[0msubprocess\u001b[0m\u001b[0;34m.\u001b[0m\u001b[0mPopen\u001b[0m\u001b[0;34m(\u001b[0m\u001b[0mcommand\u001b[0m\u001b[0;34m,\u001b[0m \u001b[0mstartupinfo\u001b[0m\u001b[0;34m=\u001b[0m\u001b[0mstartupinfo\u001b[0m\u001b[0;34m,\u001b[0m \u001b[0;34m**\u001b[0m\u001b[0mparams\u001b[0m\u001b[0;34m)\u001b[0m\u001b[0;34m\u001b[0m\u001b[0m\n\u001b[0m\u001b[1;32m     44\u001b[0m     \u001b[0;32mfinally\u001b[0m\u001b[0;34m:\u001b[0m\u001b[0;34m\u001b[0m\u001b[0m\n\u001b[1;32m     45\u001b[0m         \u001b[0;32mif\u001b[0m \u001b[0mstdin\u001b[0m \u001b[0;32mis\u001b[0m \u001b[0;32mnot\u001b[0m \u001b[0mNone\u001b[0m\u001b[0;34m:\u001b[0m\u001b[0;34m\u001b[0m\u001b[0m\n",
      "\u001b[0;32m/home/ubuntu/anaconda2/lib/python2.7/subprocess.pyc\u001b[0m in \u001b[0;36m__init__\u001b[0;34m(self, args, bufsize, executable, stdin, stdout, stderr, preexec_fn, close_fds, shell, cwd, env, universal_newlines, startupinfo, creationflags)\u001b[0m\n\u001b[1;32m    388\u001b[0m                                 \u001b[0mp2cread\u001b[0m\u001b[0;34m,\u001b[0m \u001b[0mp2cwrite\u001b[0m\u001b[0;34m,\u001b[0m\u001b[0;34m\u001b[0m\u001b[0m\n\u001b[1;32m    389\u001b[0m                                 \u001b[0mc2pread\u001b[0m\u001b[0;34m,\u001b[0m \u001b[0mc2pwrite\u001b[0m\u001b[0;34m,\u001b[0m\u001b[0;34m\u001b[0m\u001b[0m\n\u001b[0;32m--> 390\u001b[0;31m                                 errread, errwrite)\n\u001b[0m\u001b[1;32m    391\u001b[0m         \u001b[0;32mexcept\u001b[0m \u001b[0mException\u001b[0m\u001b[0;34m:\u001b[0m\u001b[0;34m\u001b[0m\u001b[0m\n\u001b[1;32m    392\u001b[0m             \u001b[0;31m# Preserve original exception in case os.close raises.\u001b[0m\u001b[0;34m\u001b[0m\u001b[0;34m\u001b[0m\u001b[0m\n",
      "\u001b[0;32m/home/ubuntu/anaconda2/lib/python2.7/subprocess.pyc\u001b[0m in \u001b[0;36m_execute_child\u001b[0;34m(self, args, executable, preexec_fn, close_fds, cwd, env, universal_newlines, startupinfo, creationflags, shell, to_close, p2cread, p2cwrite, c2pread, c2pwrite, errread, errwrite)\u001b[0m\n\u001b[1;32m    914\u001b[0m                     \u001b[0mgc\u001b[0m\u001b[0;34m.\u001b[0m\u001b[0mdisable\u001b[0m\u001b[0;34m(\u001b[0m\u001b[0;34m)\u001b[0m\u001b[0;34m\u001b[0m\u001b[0m\n\u001b[1;32m    915\u001b[0m                     \u001b[0;32mtry\u001b[0m\u001b[0;34m:\u001b[0m\u001b[0;34m\u001b[0m\u001b[0m\n\u001b[0;32m--> 916\u001b[0;31m                         \u001b[0mself\u001b[0m\u001b[0;34m.\u001b[0m\u001b[0mpid\u001b[0m \u001b[0;34m=\u001b[0m \u001b[0mos\u001b[0m\u001b[0;34m.\u001b[0m\u001b[0mfork\u001b[0m\u001b[0;34m(\u001b[0m\u001b[0;34m)\u001b[0m\u001b[0;34m\u001b[0m\u001b[0m\n\u001b[0m\u001b[1;32m    917\u001b[0m                     \u001b[0;32mexcept\u001b[0m\u001b[0;34m:\u001b[0m\u001b[0;34m\u001b[0m\u001b[0m\n\u001b[1;32m    918\u001b[0m                         \u001b[0;32mif\u001b[0m \u001b[0mgc_was_enabled\u001b[0m\u001b[0;34m:\u001b[0m\u001b[0;34m\u001b[0m\u001b[0m\n",
      "\u001b[0;31mOSError\u001b[0m: [Errno 12] Cannot allocate memory"
     ]
    }
   ],
   "source": [
    "categorical_crossentropy(labels_aug, ft_model.predict(aug_train)).eval()"
   ]
  },
  {
   "cell_type": "code",
   "execution_count": null,
   "metadata": {
    "collapsed": true
   },
   "outputs": [],
   "source": [
    "ft_model"
   ]
  },
  {
   "cell_type": "markdown",
   "metadata": {},
   "source": [
    "# Create Prediction File"
   ]
  },
  {
   "cell_type": "code",
   "execution_count": 100,
   "metadata": {
    "ExecuteTime": {
     "end_time": "2017-08-01T03:17:17.584295Z",
     "start_time": "2017-08-01T03:17:15.167657Z"
    }
   },
   "outputs": [
    {
     "name": "stdout",
     "output_type": "stream",
     "text": [
      "Found 79726 images belonging to 1 classes.\n"
     ]
    }
   ],
   "source": [
    "test_batches = get_batches(\"data/test\", batch_size=64, shuffle=False)"
   ]
  },
  {
   "cell_type": "code",
   "execution_count": 106,
   "metadata": {
    "ExecuteTime": {
     "end_time": "2017-08-01T03:18:29.957941Z",
     "start_time": "2017-08-01T03:18:29.938791Z"
    }
   },
   "outputs": [
    {
     "ename": "NameError",
     "evalue": "name 'test_set_conv_output' is not defined",
     "output_type": "error",
     "traceback": [
      "\u001b[0;31m---------------------------------------------------------------------------\u001b[0m",
      "\u001b[0;31mNameError\u001b[0m                                 Traceback (most recent call last)",
      "\u001b[0;32m<ipython-input-106-c906ce50c3fc>\u001b[0m in \u001b[0;36m<module>\u001b[0;34m()\u001b[0m\n\u001b[0;32m----> 1\u001b[0;31m \u001b[0;32mdel\u001b[0m \u001b[0mtest_set_conv_output\u001b[0m\u001b[0;34m\u001b[0m\u001b[0m\n\u001b[0m",
      "\u001b[0;31mNameError\u001b[0m: name 'test_set_conv_output' is not defined"
     ]
    }
   ],
   "source": [
    "del test_set_conv_output"
   ]
  },
  {
   "cell_type": "code",
   "execution_count": 105,
   "metadata": {
    "ExecuteTime": {
     "end_time": "2017-08-01T03:18:21.865321Z",
     "start_time": "2017-08-01T03:18:18.812797Z"
    }
   },
   "outputs": [
    {
     "ename": "MemoryError",
     "evalue": "",
     "output_type": "error",
     "traceback": [
      "\u001b[0;31m---------------------------------------------------------------------------\u001b[0m",
      "\u001b[0;31mMemoryError\u001b[0m                               Traceback (most recent call last)",
      "\u001b[0;32m<ipython-input-105-0cf1601ed0c5>\u001b[0m in \u001b[0;36m<module>\u001b[0;34m()\u001b[0m\n\u001b[1;32m      1\u001b[0m test_set_conv_output = conv_model.predict_generator(test_batches, \n\u001b[0;32m----> 2\u001b[0;31m                                                     val_samples=test_batches.nb_sample)\n\u001b[0m",
      "\u001b[0;32m/home/ubuntu/anaconda2/lib/python2.7/site-packages/keras/engine/training.pyc\u001b[0m in \u001b[0;36mpredict_generator\u001b[0;34m(self, generator, val_samples, max_q_size, nb_worker, pickle_safe)\u001b[0m\n\u001b[1;32m   1776\u001b[0m                     \u001b[0;32mfor\u001b[0m \u001b[0mout\u001b[0m \u001b[0;32min\u001b[0m \u001b[0mouts\u001b[0m\u001b[0;34m:\u001b[0m\u001b[0;34m\u001b[0m\u001b[0m\n\u001b[1;32m   1777\u001b[0m                         \u001b[0mshape\u001b[0m \u001b[0;34m=\u001b[0m \u001b[0;34m(\u001b[0m\u001b[0mval_samples\u001b[0m\u001b[0;34m,\u001b[0m\u001b[0;34m)\u001b[0m \u001b[0;34m+\u001b[0m \u001b[0mout\u001b[0m\u001b[0;34m.\u001b[0m\u001b[0mshape\u001b[0m\u001b[0;34m[\u001b[0m\u001b[0;36m1\u001b[0m\u001b[0;34m:\u001b[0m\u001b[0;34m]\u001b[0m\u001b[0;34m\u001b[0m\u001b[0m\n\u001b[0;32m-> 1778\u001b[0;31m                         \u001b[0mall_outs\u001b[0m\u001b[0;34m.\u001b[0m\u001b[0mappend\u001b[0m\u001b[0;34m(\u001b[0m\u001b[0mnp\u001b[0m\u001b[0;34m.\u001b[0m\u001b[0mzeros\u001b[0m\u001b[0;34m(\u001b[0m\u001b[0mshape\u001b[0m\u001b[0;34m,\u001b[0m \u001b[0mdtype\u001b[0m\u001b[0;34m=\u001b[0m\u001b[0mK\u001b[0m\u001b[0;34m.\u001b[0m\u001b[0mfloatx\u001b[0m\u001b[0;34m(\u001b[0m\u001b[0;34m)\u001b[0m\u001b[0;34m)\u001b[0m\u001b[0;34m)\u001b[0m\u001b[0;34m\u001b[0m\u001b[0m\n\u001b[0m\u001b[1;32m   1779\u001b[0m \u001b[0;34m\u001b[0m\u001b[0m\n\u001b[1;32m   1780\u001b[0m                 \u001b[0;32mfor\u001b[0m \u001b[0mi\u001b[0m\u001b[0;34m,\u001b[0m \u001b[0mout\u001b[0m \u001b[0;32min\u001b[0m \u001b[0menumerate\u001b[0m\u001b[0;34m(\u001b[0m\u001b[0mouts\u001b[0m\u001b[0;34m)\u001b[0m\u001b[0;34m:\u001b[0m\u001b[0;34m\u001b[0m\u001b[0m\n",
      "\u001b[0;31mMemoryError\u001b[0m: "
     ]
    }
   ],
   "source": [
    "test_set_conv_output = conv_model.predict_generator(test_batches, \n",
    "                                                    val_samples=test_batches.nb_sample)"
   ]
  },
  {
   "cell_type": "code",
   "execution_count": null,
   "metadata": {
    "ExecuteTime": {
     "end_time": "2017-07-27T03:56:50.779712Z",
     "start_time": "2017-07-27T03:56:30.348208Z"
    },
    "collapsed": true
   },
   "outputs": [],
   "source": [
    "save_array(\"serialized/test_set_conv_output.dat\", test_set_conv_output)"
   ]
  },
  {
   "cell_type": "code",
   "execution_count": 108,
   "metadata": {
    "ExecuteTime": {
     "end_time": "2017-08-01T03:18:53.081293Z",
     "start_time": "2017-08-01T03:18:52.943993Z"
    },
    "collapsed": true
   },
   "outputs": [],
   "source": [
    "del aug_train"
   ]
  },
  {
   "cell_type": "code",
   "execution_count": 109,
   "metadata": {
    "ExecuteTime": {
     "end_time": "2017-08-01T03:20:02.304906Z",
     "start_time": "2017-08-01T03:18:54.330238Z"
    }
   },
   "outputs": [],
   "source": [
    "test_set_conv_output = load_array(\"serialized/test_set_conv_output.dat\")"
   ]
  },
  {
   "cell_type": "code",
   "execution_count": 110,
   "metadata": {
    "ExecuteTime": {
     "end_time": "2017-08-01T03:20:26.481900Z",
     "start_time": "2017-08-01T03:20:26.297805Z"
    },
    "collapsed": true
   },
   "outputs": [],
   "source": [
    "p = .8\n",
    "final_model = Sequential([\n",
    "    MaxPooling2D(input_shape=conv_model.layers[-1].output_shape[1:]),\n",
    "    Flatten(),\n",
    "    Dropout(p/2.),\n",
    "    Dense(128, activation='relu'),\n",
    "    BatchNormalization(),\n",
    "    Dropout(p/2.),\n",
    "    Dense(128, activation='relu'),\n",
    "    BatchNormalization(),\n",
    "    Dropout(p),\n",
    "    Dense(10, activation='softmax')\n",
    "])"
   ]
  },
  {
   "cell_type": "code",
   "execution_count": 112,
   "metadata": {
    "ExecuteTime": {
     "end_time": "2017-08-01T03:20:36.984921Z",
     "start_time": "2017-08-01T03:20:36.969108Z"
    }
   },
   "outputs": [],
   "source": [
    "final_model.load_weights(model_dir+\"pseudolabeling_35epochs.h5\")"
   ]
  },
  {
   "cell_type": "code",
   "execution_count": 113,
   "metadata": {
    "ExecuteTime": {
     "end_time": "2017-08-01T03:20:44.502512Z",
     "start_time": "2017-08-01T03:20:44.492647Z"
    },
    "collapsed": true
   },
   "outputs": [],
   "source": [
    "def create_prediction_file(filename, preds=None, model=None, clip_rate=.01):\n",
    "    if not preds:\n",
    "        preds = np.clip(model.predict(test_set_conv_output), \n",
    "                        a_min=clip_rate, \n",
    "                        a_max=1-clip_rate)\n",
    "    elif not model and not preds:\n",
    "        raise ValueError(\"Must pass either preds or a model.\")\n",
    "        \n",
    "    files = os.listdir(\"data/test/unknown/\")\n",
    "        \n",
    "    pred_str = map(lambda x: \",\".join([\"%.10f\" % i for i in x]), preds.tolist())\n",
    "    rows = [\",\".join([a,b]) + \"\\n\" for a,b in zip(files, pred_str)]\n",
    "    with open(filename, \"a\") as f:\n",
    "        f.write(\"img,c0,c1,c2,c3,c4,c5,c6,c7,c8,c9\\n\")\n",
    "        for row in rows:\n",
    "            f.write(row)"
   ]
  },
  {
   "cell_type": "code",
   "execution_count": null,
   "metadata": {
    "ExecuteTime": {
     "end_time": "2017-07-27T04:28:49.576768Z",
     "start_time": "2017-07-27T04:28:33.654405Z"
    },
    "collapsed": true
   },
   "outputs": [],
   "source": [
    "create_prediction_file(\"results/vgg_precompute_imgaug_clip01.csv\", model=final_model)"
   ]
  },
  {
   "cell_type": "code",
   "execution_count": null,
   "metadata": {
    "ExecuteTime": {
     "end_time": "2017-07-27T04:28:52.130789Z",
     "start_time": "2017-07-27T04:28:52.125827Z"
    },
    "collapsed": true
   },
   "outputs": [],
   "source": [
    "FileLink(\"results/vgg_precompute_imgaug_clip01.csv\")"
   ]
  },
  {
   "cell_type": "code",
   "execution_count": 115,
   "metadata": {
    "ExecuteTime": {
     "end_time": "2017-08-01T03:21:33.549117Z",
     "start_time": "2017-08-01T03:21:18.229505Z"
    }
   },
   "outputs": [],
   "source": [
    "create_prediction_file(\"results/vgg_pseudolabel_clip005.csv\", model=final_model, \n",
    "                       clip_rate=.005)"
   ]
  },
  {
   "cell_type": "code",
   "execution_count": 119,
   "metadata": {
    "ExecuteTime": {
     "end_time": "2017-08-01T03:26:32.506845Z",
     "start_time": "2017-08-01T03:26:15.631484Z"
    }
   },
   "outputs": [],
   "source": [
    "create_prediction_file(\"results/vgg_pseudolabel_clip0025.csv\", model=final_model, \n",
    "                       clip_rate=.0025)"
   ]
  },
  {
   "cell_type": "code",
   "execution_count": 117,
   "metadata": {
    "ExecuteTime": {
     "end_time": "2017-08-01T03:22:17.440531Z",
     "start_time": "2017-08-01T03:22:17.436012Z"
    }
   },
   "outputs": [
    {
     "data": {
      "text/html": [
       "<a href='results/vgg_pseudolabel_clip005.csv' target='_blank'>results/vgg_pseudolabel_clip005.csv</a><br>"
      ],
      "text/plain": [
       "/home/ubuntu/statefarm-kaggle/results/vgg_pseudolabel_clip005.csv"
      ]
     },
     "execution_count": 117,
     "metadata": {},
     "output_type": "execute_result"
    }
   ],
   "source": [
    "FileLink(\"results/vgg_pseudolabel_clip005.csv\")"
   ]
  },
  {
   "cell_type": "code",
   "execution_count": 120,
   "metadata": {
    "ExecuteTime": {
     "end_time": "2017-08-01T03:26:35.237355Z",
     "start_time": "2017-08-01T03:26:35.231562Z"
    }
   },
   "outputs": [
    {
     "data": {
      "text/html": [
       "<a href='results/vgg_pseudolabel_clip0025.csv' target='_blank'>results/vgg_pseudolabel_clip0025.csv</a><br>"
      ],
      "text/plain": [
       "/home/ubuntu/statefarm-kaggle/results/vgg_pseudolabel_clip0025.csv"
      ]
     },
     "execution_count": 120,
     "metadata": {},
     "output_type": "execute_result"
    }
   ],
   "source": [
    "FileLink(\"results/vgg_pseudolabel_clip0025.csv\")"
   ]
  },
  {
   "cell_type": "code",
   "execution_count": 121,
   "metadata": {
    "ExecuteTime": {
     "end_time": "2017-08-01T03:29:35.705863Z",
     "start_time": "2017-08-01T03:29:18.519833Z"
    }
   },
   "outputs": [
    {
     "data": {
      "text/html": [
       "<a href='results/vgg_pseudolabel_clip001.csv' target='_blank'>results/vgg_pseudolabel_clip001.csv</a><br>"
      ],
      "text/plain": [
       "/home/ubuntu/statefarm-kaggle/results/vgg_pseudolabel_clip001.csv"
      ]
     },
     "execution_count": 121,
     "metadata": {},
     "output_type": "execute_result"
    }
   ],
   "source": [
    "create_prediction_file(\"results/vgg_pseudolabel_clip001.csv\", model=final_model, \n",
    "                       clip_rate=.001)\n",
    "FileLink(\"results/vgg_pseudolabel_clip001.csv\")"
   ]
  }
 ],
 "metadata": {
  "kernelspec": {
   "display_name": "Python 2",
   "language": "python",
   "name": "python2"
  },
  "language_info": {
   "codemirror_mode": {
    "name": "ipython",
    "version": 2
   },
   "file_extension": ".py",
   "mimetype": "text/x-python",
   "name": "python",
   "nbconvert_exporter": "python",
   "pygments_lexer": "ipython2",
   "version": "2.7.13"
  }
 },
 "nbformat": 4,
 "nbformat_minor": 2
}
